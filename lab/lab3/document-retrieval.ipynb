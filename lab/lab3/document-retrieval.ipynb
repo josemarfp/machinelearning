{
 "cells": [
  {
   "cell_type": "markdown",
   "metadata": {},
   "source": [
    "# Document retrieval from wikipedia data\n",
    "- Josemar Figueiredo Pereira"
   ]
  },
  {
   "cell_type": "markdown",
   "metadata": {},
   "source": [
    "## Fire up Libraries"
   ]
  },
  {
   "cell_type": "code",
   "execution_count": 1,
   "metadata": {
    "collapsed": true
   },
   "outputs": [],
   "source": [
    "import numpy as np\n",
    "import pandas as pd\n",
    "import sklearn\n",
    "from sklearn.feature_extraction.text import CountVectorizer,TfidfVectorizer\n",
    "from collections import Counter\n",
    "import matplotlib.pyplot as plt\n",
    "%matplotlib inline\n",
    "from sklearn import metrics\n",
    "from operator import itemgetter\n",
    "\n",
    "from sklearn.metrics.pairwise import cosine_similarity\n",
    "\n",
    "from sklearn.neighbors import NearestNeighbors\n",
    "\n",
    "from sklearn.linear_model import LogisticRegression"
   ]
  },
  {
   "cell_type": "markdown",
   "metadata": {},
   "source": [
    "# Load some text data - from wikipedia, pages on people"
   ]
  },
  {
   "cell_type": "code",
   "execution_count": 2,
   "metadata": {
    "collapsed": true
   },
   "outputs": [],
   "source": [
    "people = pd.read_csv('people_wiki.csv', index_col='name')"
   ]
  },
  {
   "cell_type": "markdown",
   "metadata": {},
   "source": [
    "Data contains:  link to wikipedia article, name of person, text of article."
   ]
  },
  {
   "cell_type": "code",
   "execution_count": 3,
   "metadata": {},
   "outputs": [
    {
     "data": {
      "text/html": [
       "<div>\n",
       "<style>\n",
       "    .dataframe thead tr:only-child th {\n",
       "        text-align: right;\n",
       "    }\n",
       "\n",
       "    .dataframe thead th {\n",
       "        text-align: left;\n",
       "    }\n",
       "\n",
       "    .dataframe tbody tr th {\n",
       "        vertical-align: top;\n",
       "    }\n",
       "</style>\n",
       "<table border=\"1\" class=\"dataframe\">\n",
       "  <thead>\n",
       "    <tr style=\"text-align: right;\">\n",
       "      <th></th>\n",
       "      <th>URI</th>\n",
       "      <th>text</th>\n",
       "    </tr>\n",
       "    <tr>\n",
       "      <th>name</th>\n",
       "      <th></th>\n",
       "      <th></th>\n",
       "    </tr>\n",
       "  </thead>\n",
       "  <tbody>\n",
       "    <tr>\n",
       "      <th>Digby Morrell</th>\n",
       "      <td>&lt;http://dbpedia.org/resource/Digby_Morrell&gt;</td>\n",
       "      <td>digby morrell born 10 october 1979 is a former...</td>\n",
       "    </tr>\n",
       "    <tr>\n",
       "      <th>Alfred J. Lewy</th>\n",
       "      <td>&lt;http://dbpedia.org/resource/Alfred_J._Lewy&gt;</td>\n",
       "      <td>alfred j lewy aka sandy lewy graduated from un...</td>\n",
       "    </tr>\n",
       "    <tr>\n",
       "      <th>Harpdog Brown</th>\n",
       "      <td>&lt;http://dbpedia.org/resource/Harpdog_Brown&gt;</td>\n",
       "      <td>harpdog brown is a singer and harmonica player...</td>\n",
       "    </tr>\n",
       "    <tr>\n",
       "      <th>Franz Rottensteiner</th>\n",
       "      <td>&lt;http://dbpedia.org/resource/Franz_Rottensteiner&gt;</td>\n",
       "      <td>franz rottensteiner born in waidmannsfeld lowe...</td>\n",
       "    </tr>\n",
       "    <tr>\n",
       "      <th>G-Enka</th>\n",
       "      <td>&lt;http://dbpedia.org/resource/G-Enka&gt;</td>\n",
       "      <td>henry krvits born 30 december 1974 in tallinn ...</td>\n",
       "    </tr>\n",
       "  </tbody>\n",
       "</table>\n",
       "</div>"
      ],
      "text/plain": [
       "                                                                   URI  \\\n",
       "name                                                                     \n",
       "Digby Morrell              <http://dbpedia.org/resource/Digby_Morrell>   \n",
       "Alfred J. Lewy            <http://dbpedia.org/resource/Alfred_J._Lewy>   \n",
       "Harpdog Brown              <http://dbpedia.org/resource/Harpdog_Brown>   \n",
       "Franz Rottensteiner  <http://dbpedia.org/resource/Franz_Rottensteiner>   \n",
       "G-Enka                            <http://dbpedia.org/resource/G-Enka>   \n",
       "\n",
       "                                                                  text  \n",
       "name                                                                    \n",
       "Digby Morrell        digby morrell born 10 october 1979 is a former...  \n",
       "Alfred J. Lewy       alfred j lewy aka sandy lewy graduated from un...  \n",
       "Harpdog Brown        harpdog brown is a singer and harmonica player...  \n",
       "Franz Rottensteiner  franz rottensteiner born in waidmannsfeld lowe...  \n",
       "G-Enka               henry krvits born 30 december 1974 in tallinn ...  "
      ]
     },
     "execution_count": 3,
     "metadata": {},
     "output_type": "execute_result"
    }
   ],
   "source": [
    "people.head()"
   ]
  },
  {
   "cell_type": "code",
   "execution_count": 4,
   "metadata": {},
   "outputs": [
    {
     "data": {
      "text/plain": [
       "(59071, 2)"
      ]
     },
     "execution_count": 4,
     "metadata": {},
     "output_type": "execute_result"
    }
   ],
   "source": [
    "people.shape"
   ]
  },
  {
   "cell_type": "markdown",
   "metadata": {},
   "source": [
    "# Explore the dataset and checkout the text it contains\n",
    "\n",
    "## Exploring the entry for president Obama"
   ]
  },
  {
   "cell_type": "code",
   "execution_count": 5,
   "metadata": {
    "collapsed": true
   },
   "outputs": [],
   "source": [
    "obama = people[people.index == 'Barack Obama'].copy()"
   ]
  },
  {
   "cell_type": "code",
   "execution_count": 6,
   "metadata": {},
   "outputs": [
    {
     "data": {
      "text/html": [
       "<div>\n",
       "<style>\n",
       "    .dataframe thead tr:only-child th {\n",
       "        text-align: right;\n",
       "    }\n",
       "\n",
       "    .dataframe thead th {\n",
       "        text-align: left;\n",
       "    }\n",
       "\n",
       "    .dataframe tbody tr th {\n",
       "        vertical-align: top;\n",
       "    }\n",
       "</style>\n",
       "<table border=\"1\" class=\"dataframe\">\n",
       "  <thead>\n",
       "    <tr style=\"text-align: right;\">\n",
       "      <th></th>\n",
       "      <th>URI</th>\n",
       "      <th>text</th>\n",
       "    </tr>\n",
       "    <tr>\n",
       "      <th>name</th>\n",
       "      <th></th>\n",
       "      <th></th>\n",
       "    </tr>\n",
       "  </thead>\n",
       "  <tbody>\n",
       "    <tr>\n",
       "      <th>Barack Obama</th>\n",
       "      <td>&lt;http://dbpedia.org/resource/Barack_Obama&gt;</td>\n",
       "      <td>barack hussein obama ii brk husen bm born augu...</td>\n",
       "    </tr>\n",
       "  </tbody>\n",
       "</table>\n",
       "</div>"
      ],
      "text/plain": [
       "                                                     URI  \\\n",
       "name                                                       \n",
       "Barack Obama  <http://dbpedia.org/resource/Barack_Obama>   \n",
       "\n",
       "                                                           text  \n",
       "name                                                             \n",
       "Barack Obama  barack hussein obama ii brk husen bm born augu...  "
      ]
     },
     "execution_count": 6,
     "metadata": {},
     "output_type": "execute_result"
    }
   ],
   "source": [
    "obama"
   ]
  },
  {
   "cell_type": "code",
   "execution_count": 7,
   "metadata": {},
   "outputs": [
    {
     "name": "stdout",
     "output_type": "stream",
     "text": [
      "barack hussein obama ii brk husen bm born august 4 1961 is the 44th and current president of the united states and the first african american to hold the office born in honolulu hawaii obama is a graduate of columbia university and harvard law school where he served as president of the harvard law review he was a community organizer in chicago before earning his law degree he worked as a civil rights attorney and taught constitutional law at the university of chicago law school from 1992 to 2004 he served three terms representing the 13th district in the illinois senate from 1997 to 2004 running unsuccessfully for the united states house of representatives in 2000in 2004 obama received national attention during his campaign to represent illinois in the united states senate with his victory in the march democratic party primary his keynote address at the democratic national convention in july and his election to the senate in november he began his presidential campaign in 2007 and after a close primary campaign against hillary rodham clinton in 2008 he won sufficient delegates in the democratic party primaries to receive the presidential nomination he then defeated republican nominee john mccain in the general election and was inaugurated as president on january 20 2009 nine months after his election obama was named the 2009 nobel peace prize laureateduring his first two years in office obama signed into law economic stimulus legislation in response to the great recession in the form of the american recovery and reinvestment act of 2009 and the tax relief unemployment insurance reauthorization and job creation act of 2010 other major domestic initiatives in his first term included the patient protection and affordable care act often referred to as obamacare the doddfrank wall street reform and consumer protection act and the dont ask dont tell repeal act of 2010 in foreign policy obama ended us military involvement in the iraq war increased us troop levels in afghanistan signed the new start arms control treaty with russia ordered us military involvement in libya and ordered the military operation that resulted in the death of osama bin laden in january 2011 the republicans regained control of the house of representatives as the democratic party lost a total of 63 seats and after a lengthy debate over federal spending and whether or not to raise the nations debt limit obama signed the budget control act of 2011 and the american taxpayer relief act of 2012obama was reelected president in november 2012 defeating republican nominee mitt romney and was sworn in for a second term on january 20 2013 during his second term obama has promoted domestic policies related to gun control in response to the sandy hook elementary school shooting and has called for full equality for lgbt americans while his administration has filed briefs which urged the supreme court to strike down the defense of marriage act of 1996 and californias proposition 8 as unconstitutional in foreign policy obama ordered us military involvement in iraq in response to gains made by the islamic state in iraq after the 2011 withdrawal from iraq continued the process of ending us combat operations in afghanistan and has sought to normalize us relations with cuba\n"
     ]
    }
   ],
   "source": [
    "print (obama['text'].values[0])"
   ]
  },
  {
   "cell_type": "markdown",
   "metadata": {},
   "source": [
    "## Exploring the entry for actor George Clooney"
   ]
  },
  {
   "cell_type": "code",
   "execution_count": 8,
   "metadata": {},
   "outputs": [
    {
     "name": "stdout",
     "output_type": "stream",
     "text": [
      "george timothy clooney born may 6 1961 is an american actor writer producer director and activist he has received three golden globe awards for his work as an actor and two academy awards one for acting and the other for producingclooney made his acting debut on television in 1978 and later gained wide recognition in his role as dr doug ross on the longrunning medical drama er from 1994 to 1999 for which he received two emmy award nominations while working on er he began attracting a variety of leading roles in films including the superhero film batman robin 1997 and the crime comedy out of sight 1998 in which he first worked with a director who would become a longtime collaborator steven soderbergh in 1999 clooney took the lead role in three kings a wellreceived war satire set during the gulf warin 2001 clooneys fame widened with the release of his biggest commercial success the heist comedy oceans eleven the first of the film trilogy a remake of the 1960 film with frank sinatra as danny ocean he made his directorial debut a year later with the biographical thriller confessions of a dangerous mind and has since directed the drama good night and good luck 2005 the sports comedy leatherheads 2008 the political drama the ides of march 2011 and the comedydrama war film the monuments men 2014he won an academy award for best supporting actor for the middle east thriller syriana 2005 and subsequently earned best actor nominations for the legal thriller michael clayton 2007 the comedydrama up in the air 2009 and the drama the descendants 2011 in 2013 he received the academy award for best picture for producing the political thriller argo alongside ben affleck and grant heslov he is the only person ever to be nominated for academy awards in six categoriesclooney is sometimes described as one of the most handsome men in the world in 2005 tv guide ranked clooney no 1 on its 50 sexiest stars of all time list in 2009 he was included in times annual time 100 as one of the most influential people in the world clooney is also noted for his political activism and has served as one of the united nations messengers of peace since january 31 2008 his humanitarian work includes his advocacy of finding a resolution for the darfur conflict raising funds for the 2010 haiti earthquake 2004 tsunami and 911 victims and creating documentaries such as sand and sorrow to raise awareness about international crises he is also a member of the council on foreign relations\n"
     ]
    }
   ],
   "source": [
    "clooney = people[people.index == 'George Clooney']\n",
    "print (clooney['text'].values[0])"
   ]
  },
  {
   "cell_type": "markdown",
   "metadata": {},
   "source": [
    "# Get the word counts for Obama article"
   ]
  },
  {
   "cell_type": "code",
   "execution_count": 9,
   "metadata": {
    "collapsed": true
   },
   "outputs": [],
   "source": [
    "count_vectorizer    = CountVectorizer()\n",
    "obama['word_count'] = count_vectorizer.fit_transform(obama['text'].values)"
   ]
  },
  {
   "cell_type": "markdown",
   "metadata": {},
   "source": [
    "## Showing the features (i.e. words)"
   ]
  },
  {
   "cell_type": "code",
   "execution_count": 10,
   "metadata": {},
   "outputs": [
    {
     "name": "stdout",
     "output_type": "stream",
     "text": [
      "['13th', '1961', '1992', '1996', '1997', '20', '2000in', '2004', '2007', '2008', '2009', '2010', '2011', '2012', '2012obama', '2013', '44th', '63', 'act', 'address', 'administration', 'affordable', 'afghanistan', 'african', 'after', 'against', 'american', 'americans', 'and', 'arms', 'as', 'ask', 'at', 'attention', 'attorney', 'august', 'barack', 'before', 'began', 'bin', 'bm', 'born', 'briefs', 'brk', 'budget', 'by', 'californias', 'called', 'campaign', 'care', 'chicago', 'civil', 'clinton', 'close', 'columbia', 'combat', 'community', 'constitutional', 'consumer', 'continued', 'control', 'convention', 'court', 'creation', 'cuba', 'current', 'death', 'debate', 'debt', 'defeated', 'defeating', 'defense', 'degree', 'delegates', 'democratic', 'district', 'doddfrank', 'domestic', 'dont', 'down', 'during', 'earning', 'economic', 'election', 'elementary', 'ended', 'ending', 'equality', 'federal', 'filed', 'first', 'for', 'foreign', 'form', 'from', 'full', 'gains', 'general', 'graduate', 'great', 'gun', 'harvard', 'has', 'hawaii', 'he', 'hillary', 'his', 'hold', 'honolulu', 'hook', 'house', 'husen', 'hussein', 'ii', 'illinois', 'in', 'inaugurated', 'included', 'increased', 'initiatives', 'insurance', 'into', 'involvement', 'iraq', 'is', 'islamic', 'january', 'job', 'john', 'july', 'keynote', 'laden', 'laureateduring', 'law', 'legislation', 'lengthy', 'levels', 'lgbt', 'libya', 'limit', 'lost', 'made', 'major', 'march', 'marriage', 'mccain', 'military', 'mitt', 'months', 'named', 'national', 'nations', 'new', 'nine', 'nobel', 'nomination', 'nominee', 'normalize', 'not', 'november', 'obama', 'obamacare', 'of', 'office', 'often', 'on', 'operation', 'operations', 'or', 'ordered', 'organizer', 'osama', 'other', 'over', 'party', 'patient', 'peace', 'policies', 'policy', 'president', 'presidential', 'primaries', 'primary', 'prize', 'process', 'promoted', 'proposition', 'protection', 'raise', 'reauthorization', 'receive', 'received', 'recession', 'recovery', 'reelected', 'referred', 'reform', 'regained', 'reinvestment', 'related', 'relations', 'relief', 'repeal', 'represent', 'representatives', 'representing', 'republican', 'republicans', 'response', 'resulted', 'review', 'rights', 'rodham', 'romney', 'running', 'russia', 'sandy', 'school', 'seats', 'second', 'senate', 'served', 'shooting', 'signed', 'sought', 'spending', 'start', 'state', 'states', 'stimulus', 'street', 'strike', 'sufficient', 'supreme', 'sworn', 'taught', 'tax', 'taxpayer', 'tell', 'term', 'terms', 'that', 'the', 'then', 'three', 'to', 'total', 'treaty', 'troop', 'two', 'unconstitutional', 'unemployment', 'united', 'university', 'unsuccessfully', 'urged', 'us', 'victory', 'wall', 'war', 'was', 'where', 'whether', 'which', 'while', 'with', 'withdrawal', 'won', 'worked', 'years']\n"
     ]
    }
   ],
   "source": [
    "print (count_vectorizer.get_feature_names())"
   ]
  },
  {
   "cell_type": "markdown",
   "metadata": {},
   "source": [
    "## Sort the word counts for the Obama article"
   ]
  },
  {
   "cell_type": "code",
   "execution_count": 11,
   "metadata": {},
   "outputs": [
    {
     "name": "stdout",
     "output_type": "stream",
     "text": [
      "[('the', 40), ('in', 30), ('and', 21), ('of', 18), ('to', 14), ('his', 11), ('obama', 9), ('act', 8), ('he', 7), ('as', 6)]\n"
     ]
    }
   ],
   "source": [
    "vocab  = list(count_vectorizer.get_feature_names())\n",
    "counts = obama['word_count'].values.sum(axis=0).toarray()[0]\n",
    "\n",
    "freq_distribution = Counter(dict(zip(vocab, counts)))\n",
    "print (freq_distribution.most_common(10))"
   ]
  },
  {
   "cell_type": "markdown",
   "metadata": {},
   "source": [
    "Most common words include uninformative words like \"the\", \"in\", \"and\",..."
   ]
  },
  {
   "cell_type": "markdown",
   "metadata": {},
   "source": [
    "# Compute TF-IDF for the corpus \n",
    "\n",
    "To give more weight to informative words, we weigh them by their TF-IDF scores."
   ]
  },
  {
   "cell_type": "code",
   "execution_count": 12,
   "metadata": {
    "collapsed": true
   },
   "outputs": [],
   "source": [
    "tfidf_vectorizer = TfidfVectorizer()\n",
    "people['tfidf']  = list(tfidf_vectorizer.fit_transform(people['text']))"
   ]
  },
  {
   "cell_type": "code",
   "execution_count": 13,
   "metadata": {},
   "outputs": [
    {
     "data": {
      "text/plain": [
       "(59071, 3)"
      ]
     },
     "execution_count": 13,
     "metadata": {},
     "output_type": "execute_result"
    }
   ],
   "source": [
    "people.shape"
   ]
  },
  {
   "cell_type": "code",
   "execution_count": 14,
   "metadata": {},
   "outputs": [
    {
     "data": {
      "text/plain": [
       "548429"
      ]
     },
     "execution_count": 14,
     "metadata": {},
     "output_type": "execute_result"
    }
   ],
   "source": [
    "len(tfidf_vectorizer.vocabulary_)"
   ]
  },
  {
   "cell_type": "markdown",
   "metadata": {},
   "source": [
    "## Examine the TF-IDF for the Obama article"
   ]
  },
  {
   "cell_type": "code",
   "execution_count": 15,
   "metadata": {
    "collapsed": true
   },
   "outputs": [],
   "source": [
    "obama = people[people.index == 'Barack Obama'].copy()"
   ]
  },
  {
   "cell_type": "code",
   "execution_count": 16,
   "metadata": {},
   "outputs": [
    {
     "data": {
      "text/plain": [
       "<1x548429 sparse matrix of type '<class 'numpy.float64'>'\n",
       "\twith 270 stored elements in Compressed Sparse Row format>"
      ]
     },
     "execution_count": 16,
     "metadata": {},
     "output_type": "execute_result"
    }
   ],
   "source": [
    "obama['tfidf'].values[0]"
   ]
  },
  {
   "cell_type": "code",
   "execution_count": 17,
   "metadata": {
    "scrolled": true
   },
   "outputs": [
    {
     "name": "stdout",
     "output_type": "stream",
     "text": [
      "[('obama', 0.36501758981877808), ('the', 0.27932274000236151), ('act', 0.2490890416206761), ('in', 0.20967299876631698), ('iraq', 0.15180855532927304), ('and', 0.14673880270062417), ('law', 0.14468744228550123), ('control', 0.13185717906932251), ('of', 0.1262048162788276), ('us', 0.12283397315748205)]\n"
     ]
    }
   ],
   "source": [
    "vocab = tfidf_vectorizer.get_feature_names()\n",
    "\n",
    "response = obama['tfidf'].values[0]\n",
    "l = [(vocab[col], response[0, col]) for col in response.nonzero()[1]]\n",
    "l = sorted(l, key=itemgetter(1),reverse=True)\n",
    "print (l[:10])"
   ]
  },
  {
   "cell_type": "markdown",
   "metadata": {},
   "source": [
    "Words with highest TF-IDF are much more informative."
   ]
  },
  {
   "cell_type": "markdown",
   "metadata": {},
   "source": [
    "# Eliminating stopwords"
   ]
  },
  {
   "cell_type": "code",
   "execution_count": 18,
   "metadata": {},
   "outputs": [
    {
     "name": "stdout",
     "output_type": "stream",
     "text": [
      "[('obama', 9), ('act', 8), ('law', 6), ('control', 4), ('democratic', 4), ('iraq', 4), ('military', 4), ('president', 4), ('2004', 3), ('2009', 3)]\n"
     ]
    }
   ],
   "source": [
    "count_vectorizer    = CountVectorizer(stop_words='english')\n",
    "obama['word_count'] = count_vectorizer.fit_transform(obama['text'].values)\n",
    "\n",
    "vocab  = list(count_vectorizer.get_feature_names())\n",
    "counts = obama['word_count'].values.sum(axis=0).toarray()[0]\n",
    "\n",
    "freq_distribution = Counter(dict(zip(vocab, counts)))\n",
    "print (freq_distribution.most_common(10))"
   ]
  },
  {
   "cell_type": "code",
   "execution_count": 19,
   "metadata": {},
   "outputs": [
    {
     "name": "stdout",
     "output_type": "stream",
     "text": [
      "[('obama', 0.41349455267538882), ('act', 0.28216985897150365), ('iraq', 0.1719698240003707), ('law', 0.16390297589574321), ('control', 0.14936876138866909), ('ordered', 0.13863257254400477), ('military', 0.1353676447383487), ('democratic', 0.12979169658143577), ('response', 0.12482116078603717), ('involvement', 0.12482116078603717)]\n"
     ]
    }
   ],
   "source": [
    "tfidf_vectorizer = TfidfVectorizer(stop_words='english')\n",
    "people['tfidf']  = list(tfidf_vectorizer.fit_transform(people['text']))\n",
    "\n",
    "vocab = tfidf_vectorizer.get_feature_names()\n",
    "\n",
    "obama    = people[people.index == 'Barack Obama'].copy()\n",
    "response = obama['tfidf'].values[0]\n",
    "l        = [(vocab[col], response[0, col]) for col in response.nonzero()[1]]\n",
    "l        = sorted(l, key=itemgetter(1),reverse=True)\n",
    "print (l[:10])"
   ]
  },
  {
   "cell_type": "markdown",
   "metadata": {},
   "source": [
    "# Manually compute distances between a few people\n",
    "\n",
    "Let's manually compare the distances between the articles for a few famous people.  "
   ]
  },
  {
   "cell_type": "code",
   "execution_count": 20,
   "metadata": {
    "collapsed": true
   },
   "outputs": [],
   "source": [
    "clinton = people[people.index == 'Bill Clinton'].copy()"
   ]
  },
  {
   "cell_type": "code",
   "execution_count": 21,
   "metadata": {
    "collapsed": true
   },
   "outputs": [],
   "source": [
    "beckham = people[people.index == 'David Beckham'].copy()"
   ]
  },
  {
   "cell_type": "markdown",
   "metadata": {},
   "source": [
    "## Is Obama closer to Clinton than to Beckham?\n",
    "\n",
    "We will find that the article about president Obama is closer to the one about former president Clinton than that of footballer David Beckham."
   ]
  },
  {
   "cell_type": "code",
   "execution_count": 22,
   "metadata": {},
   "outputs": [
    {
     "data": {
      "text/plain": [
       "array([[ 0.18896718]])"
      ]
     },
     "execution_count": 22,
     "metadata": {},
     "output_type": "execute_result"
    }
   ],
   "source": [
    "cosine_similarity(obama['tfidf'].values[0], clinton['tfidf'].values[0])"
   ]
  },
  {
   "cell_type": "code",
   "execution_count": 23,
   "metadata": {},
   "outputs": [
    {
     "data": {
      "text/plain": [
       "array([[ 0.02556581]])"
      ]
     },
     "execution_count": 23,
     "metadata": {},
     "output_type": "execute_result"
    }
   ],
   "source": [
    "cosine_similarity(obama['tfidf'].values[0], beckham['tfidf'].values[0])"
   ]
  },
  {
   "cell_type": "markdown",
   "metadata": {},
   "source": [
    "# Build a nearest neighbor model for document retrieval\n",
    "\n",
    "We now create a nearest-neighbors model and apply it to document retrieval.  "
   ]
  },
  {
   "cell_type": "code",
   "execution_count": 24,
   "metadata": {
    "collapsed": true
   },
   "outputs": [],
   "source": [
    "tfidf_matrix = tfidf_vectorizer.fit_transform(people['text'])\n",
    "nbrs         = NearestNeighbors(n_neighbors=10).fit(tfidf_matrix)"
   ]
  },
  {
   "cell_type": "code",
   "execution_count": 25,
   "metadata": {
    "collapsed": true
   },
   "outputs": [],
   "source": [
    "def get_closest_neighbors(name):\n",
    "    row                = people.index.get_loc(name)\n",
    "    distances, indices = nbrs.kneighbors(tfidf_matrix.getrow(row))\n",
    "    names_similar      = pd.Series(indices.flatten()).map(people.reset_index()['name'])\n",
    "    result             = pd.DataFrame({'distance':distances.flatten(), 'name':names_similar})\n",
    "    return result"
   ]
  },
  {
   "cell_type": "markdown",
   "metadata": {},
   "source": [
    "# Applying the nearest-neighbors model for retrieval"
   ]
  },
  {
   "cell_type": "markdown",
   "metadata": {},
   "source": [
    "## Who is closest to Obama?"
   ]
  },
  {
   "cell_type": "code",
   "execution_count": 26,
   "metadata": {},
   "outputs": [
    {
     "data": {
      "text/html": [
       "<div>\n",
       "<style>\n",
       "    .dataframe thead tr:only-child th {\n",
       "        text-align: right;\n",
       "    }\n",
       "\n",
       "    .dataframe thead th {\n",
       "        text-align: left;\n",
       "    }\n",
       "\n",
       "    .dataframe tbody tr th {\n",
       "        vertical-align: top;\n",
       "    }\n",
       "</style>\n",
       "<table border=\"1\" class=\"dataframe\">\n",
       "  <thead>\n",
       "    <tr style=\"text-align: right;\">\n",
       "      <th></th>\n",
       "      <th>distance</th>\n",
       "      <th>name</th>\n",
       "    </tr>\n",
       "  </thead>\n",
       "  <tbody>\n",
       "    <tr>\n",
       "      <th>0</th>\n",
       "      <td>0.000000</td>\n",
       "      <td>Barack Obama</td>\n",
       "    </tr>\n",
       "    <tr>\n",
       "      <th>1</th>\n",
       "      <td>1.165145</td>\n",
       "      <td>Joe Biden</td>\n",
       "    </tr>\n",
       "    <tr>\n",
       "      <th>2</th>\n",
       "      <td>1.207369</td>\n",
       "      <td>Samantha Power</td>\n",
       "    </tr>\n",
       "    <tr>\n",
       "      <th>3</th>\n",
       "      <td>1.219640</td>\n",
       "      <td>Hillary Rodham Clinton</td>\n",
       "    </tr>\n",
       "    <tr>\n",
       "      <th>4</th>\n",
       "      <td>1.222509</td>\n",
       "      <td>Eric Stern (politician)</td>\n",
       "    </tr>\n",
       "    <tr>\n",
       "      <th>5</th>\n",
       "      <td>1.236178</td>\n",
       "      <td>Robert Gibbs</td>\n",
       "    </tr>\n",
       "    <tr>\n",
       "      <th>6</th>\n",
       "      <td>1.243057</td>\n",
       "      <td>Henry Waxman</td>\n",
       "    </tr>\n",
       "    <tr>\n",
       "      <th>7</th>\n",
       "      <td>1.244667</td>\n",
       "      <td>Jesse Lee (politician)</td>\n",
       "    </tr>\n",
       "    <tr>\n",
       "      <th>8</th>\n",
       "      <td>1.248296</td>\n",
       "      <td>Eric Holder</td>\n",
       "    </tr>\n",
       "    <tr>\n",
       "      <th>9</th>\n",
       "      <td>1.251607</td>\n",
       "      <td>Joe the Plumber</td>\n",
       "    </tr>\n",
       "  </tbody>\n",
       "</table>\n",
       "</div>"
      ],
      "text/plain": [
       "   distance                     name\n",
       "0  0.000000             Barack Obama\n",
       "1  1.165145                Joe Biden\n",
       "2  1.207369           Samantha Power\n",
       "3  1.219640   Hillary Rodham Clinton\n",
       "4  1.222509  Eric Stern (politician)\n",
       "5  1.236178             Robert Gibbs\n",
       "6  1.243057             Henry Waxman\n",
       "7  1.244667   Jesse Lee (politician)\n",
       "8  1.248296              Eric Holder\n",
       "9  1.251607          Joe the Plumber"
      ]
     },
     "execution_count": 26,
     "metadata": {},
     "output_type": "execute_result"
    }
   ],
   "source": [
    "get_closest_neighbors('Barack Obama')"
   ]
  },
  {
   "cell_type": "markdown",
   "metadata": {},
   "source": [
    "As we can see, president Obama's article is closest to the one about his vice-president Biden, and those of other politicians.  "
   ]
  },
  {
   "cell_type": "markdown",
   "metadata": {},
   "source": [
    "## Other examples of document retrieval"
   ]
  },
  {
   "cell_type": "code",
   "execution_count": 27,
   "metadata": {},
   "outputs": [
    {
     "data": {
      "text/html": [
       "<div>\n",
       "<style>\n",
       "    .dataframe thead tr:only-child th {\n",
       "        text-align: right;\n",
       "    }\n",
       "\n",
       "    .dataframe thead th {\n",
       "        text-align: left;\n",
       "    }\n",
       "\n",
       "    .dataframe tbody tr th {\n",
       "        vertical-align: top;\n",
       "    }\n",
       "</style>\n",
       "<table border=\"1\" class=\"dataframe\">\n",
       "  <thead>\n",
       "    <tr style=\"text-align: right;\">\n",
       "      <th></th>\n",
       "      <th>distance</th>\n",
       "      <th>name</th>\n",
       "    </tr>\n",
       "  </thead>\n",
       "  <tbody>\n",
       "    <tr>\n",
       "      <th>0</th>\n",
       "      <td>0.000000</td>\n",
       "      <td>Taylor Swift</td>\n",
       "    </tr>\n",
       "    <tr>\n",
       "      <th>1</th>\n",
       "      <td>1.183004</td>\n",
       "      <td>Carrie Underwood</td>\n",
       "    </tr>\n",
       "    <tr>\n",
       "      <th>2</th>\n",
       "      <td>1.187754</td>\n",
       "      <td>Al Swift</td>\n",
       "    </tr>\n",
       "    <tr>\n",
       "      <th>3</th>\n",
       "      <td>1.193938</td>\n",
       "      <td>Ed Sheeran</td>\n",
       "    </tr>\n",
       "    <tr>\n",
       "      <th>4</th>\n",
       "      <td>1.197285</td>\n",
       "      <td>Tim McGraw</td>\n",
       "    </tr>\n",
       "    <tr>\n",
       "      <th>5</th>\n",
       "      <td>1.199189</td>\n",
       "      <td>Kelly Clarkson</td>\n",
       "    </tr>\n",
       "    <tr>\n",
       "      <th>6</th>\n",
       "      <td>1.199790</td>\n",
       "      <td>Adele</td>\n",
       "    </tr>\n",
       "    <tr>\n",
       "      <th>7</th>\n",
       "      <td>1.204965</td>\n",
       "      <td>Bill Swift</td>\n",
       "    </tr>\n",
       "    <tr>\n",
       "      <th>8</th>\n",
       "      <td>1.207081</td>\n",
       "      <td>Dolly Parton</td>\n",
       "    </tr>\n",
       "    <tr>\n",
       "      <th>9</th>\n",
       "      <td>1.208139</td>\n",
       "      <td>Joss Stone</td>\n",
       "    </tr>\n",
       "  </tbody>\n",
       "</table>\n",
       "</div>"
      ],
      "text/plain": [
       "   distance              name\n",
       "0  0.000000      Taylor Swift\n",
       "1  1.183004  Carrie Underwood\n",
       "2  1.187754          Al Swift\n",
       "3  1.193938        Ed Sheeran\n",
       "4  1.197285        Tim McGraw\n",
       "5  1.199189    Kelly Clarkson\n",
       "6  1.199790             Adele\n",
       "7  1.204965        Bill Swift\n",
       "8  1.207081      Dolly Parton\n",
       "9  1.208139        Joss Stone"
      ]
     },
     "execution_count": 27,
     "metadata": {},
     "output_type": "execute_result"
    }
   ],
   "source": [
    "get_closest_neighbors('Taylor Swift')"
   ]
  },
  {
   "cell_type": "code",
   "execution_count": 28,
   "metadata": {},
   "outputs": [
    {
     "data": {
      "text/html": [
       "<div>\n",
       "<style>\n",
       "    .dataframe thead tr:only-child th {\n",
       "        text-align: right;\n",
       "    }\n",
       "\n",
       "    .dataframe thead th {\n",
       "        text-align: left;\n",
       "    }\n",
       "\n",
       "    .dataframe tbody tr th {\n",
       "        vertical-align: top;\n",
       "    }\n",
       "</style>\n",
       "<table border=\"1\" class=\"dataframe\">\n",
       "  <thead>\n",
       "    <tr style=\"text-align: right;\">\n",
       "      <th></th>\n",
       "      <th>distance</th>\n",
       "      <th>name</th>\n",
       "    </tr>\n",
       "  </thead>\n",
       "  <tbody>\n",
       "    <tr>\n",
       "      <th>0</th>\n",
       "      <td>0.000000</td>\n",
       "      <td>Angelina Jolie</td>\n",
       "    </tr>\n",
       "    <tr>\n",
       "      <th>1</th>\n",
       "      <td>1.173973</td>\n",
       "      <td>Brad Pitt</td>\n",
       "    </tr>\n",
       "    <tr>\n",
       "      <th>2</th>\n",
       "      <td>1.241878</td>\n",
       "      <td>Keith Jolie</td>\n",
       "    </tr>\n",
       "    <tr>\n",
       "      <th>3</th>\n",
       "      <td>1.253190</td>\n",
       "      <td>Jodie Foster</td>\n",
       "    </tr>\n",
       "    <tr>\n",
       "      <th>4</th>\n",
       "      <td>1.254573</td>\n",
       "      <td>Maggie Smith</td>\n",
       "    </tr>\n",
       "    <tr>\n",
       "      <th>5</th>\n",
       "      <td>1.259312</td>\n",
       "      <td>Jessica Chastain</td>\n",
       "    </tr>\n",
       "    <tr>\n",
       "      <th>6</th>\n",
       "      <td>1.260160</td>\n",
       "      <td>Anne Hathaway</td>\n",
       "    </tr>\n",
       "    <tr>\n",
       "      <th>7</th>\n",
       "      <td>1.262106</td>\n",
       "      <td>Nicole Kidman</td>\n",
       "    </tr>\n",
       "    <tr>\n",
       "      <th>8</th>\n",
       "      <td>1.262143</td>\n",
       "      <td>Barry Voight</td>\n",
       "    </tr>\n",
       "    <tr>\n",
       "      <th>9</th>\n",
       "      <td>1.263898</td>\n",
       "      <td>Billy Bob Thornton</td>\n",
       "    </tr>\n",
       "  </tbody>\n",
       "</table>\n",
       "</div>"
      ],
      "text/plain": [
       "   distance                name\n",
       "0  0.000000      Angelina Jolie\n",
       "1  1.173973           Brad Pitt\n",
       "2  1.241878         Keith Jolie\n",
       "3  1.253190        Jodie Foster\n",
       "4  1.254573        Maggie Smith\n",
       "5  1.259312    Jessica Chastain\n",
       "6  1.260160       Anne Hathaway\n",
       "7  1.262106       Nicole Kidman\n",
       "8  1.262143        Barry Voight\n",
       "9  1.263898  Billy Bob Thornton"
      ]
     },
     "execution_count": 28,
     "metadata": {},
     "output_type": "execute_result"
    }
   ],
   "source": [
    "get_closest_neighbors('Angelina Jolie')"
   ]
  },
  {
   "cell_type": "code",
   "execution_count": 29,
   "metadata": {},
   "outputs": [
    {
     "data": {
      "text/html": [
       "<div>\n",
       "<style>\n",
       "    .dataframe thead tr:only-child th {\n",
       "        text-align: right;\n",
       "    }\n",
       "\n",
       "    .dataframe thead th {\n",
       "        text-align: left;\n",
       "    }\n",
       "\n",
       "    .dataframe tbody tr th {\n",
       "        vertical-align: top;\n",
       "    }\n",
       "</style>\n",
       "<table border=\"1\" class=\"dataframe\">\n",
       "  <thead>\n",
       "    <tr style=\"text-align: right;\">\n",
       "      <th></th>\n",
       "      <th>distance</th>\n",
       "      <th>name</th>\n",
       "    </tr>\n",
       "  </thead>\n",
       "  <tbody>\n",
       "    <tr>\n",
       "      <th>0</th>\n",
       "      <td>0.000000</td>\n",
       "      <td>Arnold Schwarzenegger</td>\n",
       "    </tr>\n",
       "    <tr>\n",
       "      <th>1</th>\n",
       "      <td>1.259683</td>\n",
       "      <td>Bonnie Garcia</td>\n",
       "    </tr>\n",
       "    <tr>\n",
       "      <th>2</th>\n",
       "      <td>1.263233</td>\n",
       "      <td>Paul Grant (bodybuilder)</td>\n",
       "    </tr>\n",
       "    <tr>\n",
       "      <th>3</th>\n",
       "      <td>1.283846</td>\n",
       "      <td>Gray Davis</td>\n",
       "    </tr>\n",
       "    <tr>\n",
       "      <th>4</th>\n",
       "      <td>1.284463</td>\n",
       "      <td>James Tramel</td>\n",
       "    </tr>\n",
       "    <tr>\n",
       "      <th>5</th>\n",
       "      <td>1.285100</td>\n",
       "      <td>Abel Maldonado</td>\n",
       "    </tr>\n",
       "    <tr>\n",
       "      <th>6</th>\n",
       "      <td>1.293240</td>\n",
       "      <td>Bruce McPherson</td>\n",
       "    </tr>\n",
       "    <tr>\n",
       "      <th>7</th>\n",
       "      <td>1.294107</td>\n",
       "      <td>Charlene Zettel</td>\n",
       "    </tr>\n",
       "    <tr>\n",
       "      <th>8</th>\n",
       "      <td>1.301621</td>\n",
       "      <td>Russell Gould</td>\n",
       "    </tr>\n",
       "    <tr>\n",
       "      <th>9</th>\n",
       "      <td>1.301828</td>\n",
       "      <td>David Israel</td>\n",
       "    </tr>\n",
       "  </tbody>\n",
       "</table>\n",
       "</div>"
      ],
      "text/plain": [
       "   distance                      name\n",
       "0  0.000000     Arnold Schwarzenegger\n",
       "1  1.259683             Bonnie Garcia\n",
       "2  1.263233  Paul Grant (bodybuilder)\n",
       "3  1.283846                Gray Davis\n",
       "4  1.284463              James Tramel\n",
       "5  1.285100            Abel Maldonado\n",
       "6  1.293240           Bruce McPherson\n",
       "7  1.294107           Charlene Zettel\n",
       "8  1.301621             Russell Gould\n",
       "9  1.301828              David Israel"
      ]
     },
     "execution_count": 29,
     "metadata": {},
     "output_type": "execute_result"
    }
   ],
   "source": [
    "get_closest_neighbors('Arnold Schwarzenegger')"
   ]
  },
  {
   "cell_type": "markdown",
   "metadata": {},
   "source": [
    "# Quizz questions"
   ]
  },
  {
   "cell_type": "markdown",
   "metadata": {},
   "source": [
    "### Answer 1"
   ]
  },
  {
   "cell_type": "markdown",
   "metadata": {},
   "source": [
    "<b><i>Compare top words according to word counts to TF-IDF:</i></b> In the notebook we covered in the module, we explored two document representations: word counts and TF-IDF. Now, take a particular famous person, 'Elton John'. <b>Questions 1: What are the 3 words in his articles with highest word counts?</b>"
   ]
  },
  {
   "cell_type": "code",
   "execution_count": 39,
   "metadata": {},
   "outputs": [
    {
     "data": {
      "text/plain": [
       "[\"As palavras mais comuns são: ('john', 7)\",\n",
       " \"As palavras mais comuns são: ('award', 5)\",\n",
       " \"As palavras mais comuns são: ('billboard', 4)\"]"
      ]
     },
     "execution_count": 39,
     "metadata": {},
     "output_type": "execute_result"
    }
   ],
   "source": [
    "# count_vectorizer    = CountVectorizer(stop_words='english')\n",
    "\n",
    "john = people[people.index == 'Elton John'].copy()\n",
    "john['word_count'] = count_vectorizer.fit_transform(john['text'].values)\n",
    "\n",
    "vocab  = list(count_vectorizer.get_feature_names())\n",
    "counts = john['word_count'].values.sum(axis=0).toarray()[0]\n",
    "\n",
    "freq_distribution_john = Counter(dict(zip(vocab, counts)))\n",
    "[str(\"As palavras mais comuns são: {0}\").format(x) for x in freq_distribution_john.most_common(3)]"
   ]
  },
  {
   "cell_type": "markdown",
   "metadata": {},
   "source": [
    "<b>What are the 3 words in his articles with highest TF-IDF?</b> These results illustrate why TF-IDF is useful for finding important words."
   ]
  },
  {
   "cell_type": "code",
   "execution_count": 40,
   "metadata": {},
   "outputs": [
    {
     "data": {
      "text/plain": [
       "[\"Os IDFs mais significativos são: ('billboard', 0.220815373479789)\",\n",
       " \"Os IDFs mais significativos são: ('john', 0.21708234783751851)\",\n",
       " \"Os IDFs mais significativos são: ('elton', 0.21217449599445887)\"]"
      ]
     },
     "execution_count": 40,
     "metadata": {},
     "output_type": "execute_result"
    }
   ],
   "source": [
    "#tfidf_vectorizer = TfidfVectorizer(stop_words='english')\n",
    "#people['tfidf']  = list(tfidf_vectorizer.fit_transform(people['text']))\n",
    "\n",
    "vocab = tfidf_vectorizer.get_feature_names()\n",
    "\n",
    "john    = people[people.index == 'Elton John'].copy()\n",
    "response = john['tfidf'].values[0]\n",
    "l        = [(vocab[col], response[0, col]) for col in response.nonzero()[1]]\n",
    "l        = sorted(l, key=itemgetter(1),reverse=True)\n",
    "[str(\"Os IDFs mais significativos são: {0}\").format(x) for x in l[:3]]"
   ]
  },
  {
   "cell_type": "markdown",
   "metadata": {},
   "source": [
    "A classe <b>CountVectorizer</b> permite transformar o texto em uma lista, técnica conhecida como <b>sacola de palavras</b>. Sendo assim, ao passar como parâmetro <i>stop_word='english'</i> elimina-se as preposições desta lista. \n",
    "- O primeiro passo foi filtrar todos os artigos do artista \"Elton John\", como no Python as atribuições são por referência, foi- necessário usar o método <i>copy</i> para criar uma segunda instância.\n",
    "- O método <i>get_features_names</i> da Classe CountVectorizer retorna as palavras restantes do vocabulário. \n",
    "- Já o método <i>fit_transform</i> conta quantas vezes cada palavra foi utilizada.\n",
    "- Para associar o vocabulário utilizado com a respectiva contagem foram unidas as duas listas com o comando <i>zip</i>, em seguida transformadas em um dicionário e para ordenar a classe <b>Counter</b>.\n",
    "- No Python usar lista de compreensão é mais eficiente do que o par <b>map-reduce</b>. Por isso, a iteração é feita <i>inline</i>.\n"
   ]
  },
  {
   "cell_type": "markdown",
   "metadata": {},
   "source": [
    "### Answer 2"
   ]
  },
  {
   "cell_type": "markdown",
   "metadata": {},
   "source": [
    "<b><i>Measuring distance:</i></b> Elton John is a famous singer; let’s compute the distance between his article and those of two other famous singers. In this assignment, you will use the <i>cosine distance</i>, which one measure of similarity between vectors, similar to the one discussed in the lectures. You can compute this distance using the graphlab. Distances.cosine function. <b><i>Questions 2: What’s the cosine distance between the articles on ‘Elton John’ and ‘Victoria Beckham’?</i></b> "
   ]
  },
  {
   "cell_type": "code",
   "execution_count": 46,
   "metadata": {},
   "outputs": [
    {
     "data": {
      "text/plain": [
       "0.034070230758327207"
      ]
     },
     "execution_count": 46,
     "metadata": {},
     "output_type": "execute_result"
    }
   ],
   "source": [
    "beckhamv = people[people.index == 'Victoria Beckham'].copy()\n",
    "cosine_similarity(john['tfidf'].values[0], beckhamv['tfidf'].values[0])[0][0]"
   ]
  },
  {
   "cell_type": "markdown",
   "metadata": {},
   "source": [
    "<b><i>What’s the cosine distance between the articles on ‘Elton John’ and ‘Paul McCartney’?</i></b>"
   ]
  },
  {
   "cell_type": "code",
   "execution_count": 47,
   "metadata": {},
   "outputs": [
    {
     "data": {
      "text/plain": [
       "0.18991372960356401"
      ]
     },
     "execution_count": 47,
     "metadata": {},
     "output_type": "execute_result"
    }
   ],
   "source": [
    "mccartney = people[people.index == 'Paul McCartney'].copy()\n",
    "cosine_similarity(john['tfidf'].values[0], mccartney['tfidf'].values[0])[0][0]"
   ]
  },
  {
   "cell_type": "markdown",
   "metadata": {},
   "source": [
    "<b><i>Which one of the two is closest to Elton John? Does this result make sense to you?</i></b>"
   ]
  },
  {
   "cell_type": "code",
   "execution_count": 65,
   "metadata": {},
   "outputs": [
    {
     "data": {
      "text/latex": [
       "\\begin{eqnarray}\n",
       "tf \\mbox{-} idf (t,d)  & = tf(t,d) \\times idf (t,d) \\\\\n",
       "idf (t,d)  & = log\\frac{n_d}{1+df(t,d)} \\\\\n",
       "\\end{eqnarray}"
      ],
      "text/plain": [
       "<IPython.core.display.Latex object>"
      ]
     },
     "execution_count": 65,
     "metadata": {},
     "output_type": "execute_result"
    }
   ],
   "source": [
    "from IPython.display import Latex\n",
    "Latex(r\"\"\"\\begin{eqnarray}\n",
    "tf \\mbox{-} idf (t,d)  & = tf(t,d) \\times idf (t,d) \\\\\n",
    "idf (t,d)  & = log\\frac{n_d}{1+df(t,d)} \\\\\n",
    "\\end{eqnarray}\"\"\")\n",
    "\n"
   ]
  },
  {
   "cell_type": "markdown",
   "metadata": {},
   "source": [
    "### Answer 3"
   ]
  },
  {
   "cell_type": "code",
   "execution_count": null,
   "metadata": {
    "collapsed": true
   },
   "outputs": [],
   "source": []
  },
  {
   "cell_type": "code",
   "execution_count": null,
   "metadata": {
    "collapsed": true
   },
   "outputs": [],
   "source": []
  },
  {
   "cell_type": "code",
   "execution_count": null,
   "metadata": {
    "collapsed": true
   },
   "outputs": [],
   "source": []
  },
  {
   "cell_type": "code",
   "execution_count": null,
   "metadata": {
    "collapsed": true
   },
   "outputs": [],
   "source": []
  }
 ],
 "metadata": {
  "kernelspec": {
   "display_name": "Python 3",
   "language": "python",
   "name": "python3"
  },
  "language_info": {
   "codemirror_mode": {
    "name": "ipython",
    "version": 3
   },
   "file_extension": ".py",
   "mimetype": "text/x-python",
   "name": "python",
   "nbconvert_exporter": "python",
   "pygments_lexer": "ipython3",
   "version": "3.6.0"
  }
 },
 "nbformat": 4,
 "nbformat_minor": 1
}

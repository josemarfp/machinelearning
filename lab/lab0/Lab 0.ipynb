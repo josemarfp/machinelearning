{
 "cells": [
  {
   "cell_type": "markdown",
   "metadata": {},
   "source": [
    "# Laboratory class 0"
   ]
  },
  {
   "cell_type": "markdown",
   "metadata": {},
   "source": [
    "Nomes:\n",
    "\n",
    "1 - Josemar Figueiredo Pereira"
   ]
  },
  {
   "cell_type": "markdown",
   "metadata": {},
   "source": [
    "# Getting started with Python, IPython Notebook, Anaconda, and Scikit-learn"
   ]
  },
  {
   "cell_type": "markdown",
   "metadata": {},
   "source": [
    "Welcome to the Machine Learning course. In this course we will introduce the basic concepts of machine learning. The goal of this course is for your effort to be spent on learning the fundamental concepts and algorithms behind machine learning in a hands-on fashion. These concepts transcend any single package. What you learn here you can use whether you write code from scratch, use any existing ML packages out there, or any that may be developed in the future."
   ]
  },
  {
   "cell_type": "markdown",
   "metadata": {},
   "source": [
    "The learning approach in this course is to start from use cases and then dig into algorithms and methods, what we call a case-studies approach. The lab classes are focused on understanding how ML can be used in various cases studies, and the pratical assignments will dig into the details of algorithms and methods for each of the main ML areas. In the lab classes, you will not be implementing algorithms from scratch, but rather building intelligent applications that use ML. In the practical assignments, we will be implementing and comparing a wide range of algorithms. To make it easy to implement the use cases we will be covering, we are recommending a particular set of software tools, but you can successfully complete the course with other tools out there."
   ]
  },
  {
   "cell_type": "markdown",
   "metadata": {},
   "source": [
    "## Why Python"
   ]
  },
  {
   "cell_type": "markdown",
   "metadata": {},
   "source": [
    "In this course, we are going to use the Python programming language to build several intelligent applications that use machine learning. Python is a simple scripting language that makes it easy to interact with data. Futhermore, Python has a wide range of packages that make it easy to get started and build applications, from the simplest ones to the most complex. Python is widely used in industry, and is becoming the de facto language for data science in industry.\n",
    "\n",
    "We will also use the IPython Notebook in our videos. The IPython Notebook is a simple interactive environment for programming with Python, which makes it really easy to share your results. Think about it as a combination of a Python terminal and a wiki page. Thus, you can combine code, plots and text to explain what you did.\n",
    "\n",
    "A prerequisite of attending this course is that you have learnt at least one programming language in the past. It is not our objective to teach you python. At this class we expect our students to be able pick up a language as they go. If you have not experienced python before it may be worth your while spending some time undertanding the language. There are resources available for you to do this here (https://docs.python.org/2/tutorial/) that are based on the standard console. An introduction to the Jupyter Notebook (formely known as the IPython Notebook) is available here (http://ipython.org/ipython-doc/2/notebook/index.html)."
   ]
  },
  {
   "cell_type": "markdown",
   "metadata": {},
   "source": [
    "## Lab classes vs Programming assignments/Research Project"
   ]
  },
  {
   "cell_type": "markdown",
   "metadata": {},
   "source": [
    "In lab classes, the focus is on exploring each case study, without having to implement your own algorithms from scratch, and benefiting from the performance advantages that Scikit-learn provides. In programming assingments, you will be implementing many of these algorithms from scratch, having had the foundation of seeing them perform in practice on real applications.\n",
    "\n",
    "In other words, in lab classes, we focus on exploring the use cases we´ll tackle throughout the course. A huge goal is to familiarize ourselves with the core ML concepts that we will use during programming assignments and research project. In those, there will be much more implementation of ML algorithms, so the specific ML package becomes less important. However, in lab classes, we want to move quickly through all the use cases, and Scikit-learn will help us do just that."
   ]
  },
  {
   "cell_type": "markdown",
   "metadata": {},
   "source": [
    "## Learning outcomes"
   ]
  },
  {
   "cell_type": "markdown",
   "metadata": {},
   "source": [
    "This reading will walk you through the steps you will need to follow to install and get started with Python, IPython Notebook, Anaconda, and Scikit-learn.\n",
    "\n",
    "Installing Python, IPython Notebook, and Pandas\n",
    "\n",
    "Starting IPython Notebook\n",
    "\n",
    "Writing variables, functions and loops in Python\n",
    "\n",
    "Doing basic data manipulations in Python with Pandas' Frames"
   ]
  },
  {
   "cell_type": "markdown",
   "metadata": {},
   "source": [
    "## Getting started using these resources"
   ]
  },
  {
   "cell_type": "markdown",
   "metadata": {},
   "source": [
    "All resources needed during lab classes are already installed in the laboratory machines. However, if you want to use them in your own computer, following we present how to do it.\n",
    "\n",
    "Download and install Python, IPython Notebook through Anaconda: https://www.continuum.io/downloads\n",
    "\n",
    "Download and install Scikit-learn distribution: http://scikit-learn.org/stable/\n",
    "\n"
   ]
  },
  {
   "cell_type": "markdown",
   "metadata": {},
   "source": [
    "## Assignment question 1\n",
    "\n",
    "Who invented Python and why? What was the language designed to do? What is the origin of the name \"python\"? Is the language a compiled language? Is it an object oriented language?"
   ]
  },
  {
   "cell_type": "markdown",
   "metadata": {},
   "source": [
    "#### Question 1 answer\n",
    "\n",
    "Write your answer to the question in this box"
   ]
  },
  {
   "cell_type": "markdown",
   "metadata": {},
   "source": [
    "- Python é uma linguagem de programação, a qual foi criada por Guido van Rossum, sendo publicada pela primeira fez em 1991. Todavia, em 1989 a linguagem já havia sido concebida, no Instituto de Pesquisa Nacional para Matemática e Ciência da Computação (CWI), na Holanda.\n",
    "\n",
    "- A motivação para criação da linguagem tinha como o objetivo prover um sucessor para linguagem ABC. Entre as novas características a linguagem seria capaz de tratar exceções, além de prover uma interface com o sistema operacional Amoeba por meio de scripts. Adicionalmente, o foco era que a linguagem tivesse características que permitissem o aumento da produtividade dos desenvolvedores.\n",
    "\n",
    "- O nome Python foi inspirado no grupo britânico Monty Python criador do programa Monty Python´s Flying Circus, embora exista um réptil de mesmo nome, o qual foi adotado como símbolo do produto.\n",
    "O código Python é interpretado e interativo, contudo, existe a possibilidade de compilar o código, o que resulta em aumento significativo de desempenho, ao custo da perda da interatividade.\n",
    "\n",
    "- Python é uma linguagem de alto nível, interpretada, baseada em scripts de tipagem dinâmica e forte, além de oferecer suporte a diversos paradigmas de programação, entre eles: imperatividade, orientação a objetos e funcional.\n",
    "\n",
    "- Fonte: http://pyscience-brasil.wikidot.com/python:python-oq-e-pq \n",
    "- Fonte: https://pt.wikipedia.org/wiki/Python\n"
   ]
  },
  {
   "cell_type": "markdown",
   "metadata": {},
   "source": [
    "## Assignment question 2\n",
    "\n",
    "Read on the internet about the following python libraries: Scikit-learn, numpy, matplotlib, scipy and pandas. What functionality does each provide python? What is the pylab library and how it is related to each other libraries?"
   ]
  },
  {
   "cell_type": "markdown",
   "metadata": {},
   "source": [
    "#### Question 2 answer\n",
    "\n",
    "Write your answer to the question in this box"
   ]
  },
  {
   "cell_type": "markdown",
   "metadata": {},
   "source": [
    "- Scikit-learn: É um módulo Python que integra um vasto conjunto de algoritmos para resolução de problemas de aprendizado supervisionado e não supervisionado de máquina. Permitindo que leigos utilizem uma linguagem de alto nível para resolução destes problemas. Tendo como proposta a ênfase em usabilidade, desempenho, documentação e consistência da API, é distribuída com o mínimo de dependências, num formato de licenciamento simplificado BSD, sendo adequada para uso acadêmico e comercial. Todo seu código-fonte, binários e documentação podem ser obtidos em http://scikit-learn.sourceforge.net.\n",
    "Fonte: http://www.jmlr.org/papers/volume12/pedregosa11a/pedregosa11a.pdf\n",
    "\n",
    "- Numpy: É um módulo fundamental para computação científica em Python. Entre as suas funcionalidades temos funções para: Operações de Álgebra Linear, Transformadas de Fourier, manipulação de números aleatórios, bem como, funcionalidades para integração com C/C++ e Fortran. Este módulo também pode ser utilizado de forma eficiente para a manipulação de dados multidimensionais de diversos tipos, o que confere a capacidade de integração a diversas fontes de dados. Tudo isso sobre uma licença do tipo BSB, o que permite o reuso com poucas restrições. Fonte: http://www.numpy.org/\n",
    "\n",
    "- Matplotlib: É uma biblioteca para construção de gráficos em Python. Possui os mais diversos tipos de gráficos como: barras, tortas, pontos, superfícies, etc… Seu licenciamento é baseado em PSF (Python Software Foundation). Fonte: https://matplotlib.org/\n",
    "\n",
    "- Scipy: É uma biblioteca para computação científica que permite integração numérica e otimização. Além disso, Scipy também é o nome de um ecossistema para computação científica, composto de diversas bibliotecas entre elas: Numpy, Pandas, Matplotlib, IPython, Sympy e Scipy.\n",
    "\n",
    "- Pandas: É uma biblioteca para manipulação de estrutura de dados e analise. Sua proposta é fornecer uma interface mais amigável. Seus principais tipos de dados são: series e dataframe.\n",
    "\n",
    "- O Pylab é um módulo do pacote Matplotlib que permite gerar gráficos de duas dimensões, com edição interativa, animações. Além disso, este módulos possui diversos tipos de gráficos, suporte a LaTeX, além de suporte a diversas extensões de imagem. Hoje, não é recomendável importar o módulo diretamente, mas sim a Matplotlib.\n",
    "\n",
    "- Fonte: https://www.scipy.org/"
   ]
  },
  {
   "cell_type": "markdown",
   "metadata": {},
   "source": [
    "## Assignment question 3\n",
    "\n",
    "What is Jupyter Notebook and why was it inveted? Give some examples of functionality it gives over standard python. What is the jupyter project? Name two languages involved in the Jupyter project other than python."
   ]
  },
  {
   "cell_type": "markdown",
   "metadata": {},
   "source": [
    "#### Question 3 answer\n",
    "\n",
    "Write your answer to the question in this box"
   ]
  },
  {
   "cell_type": "markdown",
   "metadata": {},
   "source": [
    "- O Jupyter Notebook é uma aplicação web de código aberto, a qual permite a criação e compartilhamento de documentos, os quais podem conter código interativo, equações, visualizações, além de texto explicativo. Suas aplicações incluem da manipulação e transformação de dados, simulação numérica, modelagem estatística, aprendizado de máquina, entre outros.\n",
    "\n",
    "- A história deste projeto começa em 2001, quando Fernando Pérez iniciou o desenvolvimento do IPython. Quatro anos depois, já com o apoio de Robert Kern eles tentaram construir o sistema notebook. Contudo, o protótipo nunca foi completamente funcional. Apesar disso, como o IPython continuou a ser desenvolvido, em 2014 eles, finalmente, conseguiram lançar o projeto Jupyter utilizando o IPython como núcleo. Atualmente, por se tratar de uma iniciativa de código aberto, o projeto, hoje recebe o nome de Jupyter Lab.\n",
    "\n",
    "- O Python padrão produz como resultado aplicações desktop, as quais são interpretadas e tem seu resultado, apresentado na console. Com o uso de algumas bibliotecas como o Django ou Flask, por exemplo, é até possível criar páginas web, contudo, estas páginas ainda não são interativas. Ou seja, nativamente, não permitem que um código seja escrito e interpretado na web de forma dinâmica e iterativa, o que é obtido com o Jupyter Notebook App.\n",
    "\n",
    "- Além do núcleo em Python, foram utilizadas AJAX e HTML no Projeto Jupyter.\n",
    "\n"
   ]
  },
  {
   "cell_type": "markdown",
   "metadata": {},
   "source": [
    "## Download the data and sample code and familiarize yourself with the notebooks\n",
    "\n",
    "Before doing the assignments in this course, familiarize yourself with the two following notebooks:\n",
    "\n",
    "Download the notebook that covers getting started with Python: Getting started with iPython Notebook\n",
    "\n",
    "Download the notebook that covers getting started with Pandas: Getting Started with Pandas\n",
    "\n",
    "Download the simple people dataset: people-example.csv\n",
    "\n",
    "#### Save all these files in the same directory. If you are not sure where to sabe the files? See this guide:"
   ]
  },
  {
   "cell_type": "markdown",
   "metadata": {},
   "source": [
    "## Assignment question 4\n",
    "\n",
    "Descrive the following functions of Pandas Frames:\n",
    "\n",
    "head()\n",
    "\n",
    "tail()\n",
    "\n",
    "show()\n",
    "\n",
    "apply()"
   ]
  },
  {
   "cell_type": "markdown",
   "metadata": {},
   "source": [
    "#### Question 4 answer\n",
    "\n",
    "Write your answer to the question in this box"
   ]
  },
  {
   "cell_type": "markdown",
   "metadata": {},
   "source": [
    "- head(): Retorna as primeiras n linhas da estrutura, sendo que o valor padrão do argumento n é 5.\n",
    "\n",
    "- tail(): Retorna as últimas n linhas da estrutura, sendo que o valor padrão do argumento n é 5.\n",
    "\n",
    "- show(): Não foi possível encontrar referências a este método. A suspeita é que tenha sido descontinuado.\n",
    "\n",
    "- apply(): Aplica uma função sobre uma coluna ou linha da estrutura de dados. \n",
    "Sintaxe: DataFrame.apply(func, axis=0, broadcast=False, raw=False, reduce=None, args=(), **kwds)\n",
    "\n",
    "- Fonte: https://pandas.pydata.org/pandas-docs/stable/api.html"
   ]
  },
  {
   "cell_type": "markdown",
   "metadata": {},
   "source": [
    "### Congratulations!!! Now you are ready to get started! From here, you will be ready to do all the assignments in the course, and build awesome intellingent applications that use machine learning!"
   ]
  },
  {
   "cell_type": "code",
   "execution_count": null,
   "metadata": {
    "collapsed": true
   },
   "outputs": [],
   "source": [
    ""
   ]
  },
  {
   "cell_type": "code",
   "execution_count": null,
   "metadata": {
    "collapsed": true
   },
   "outputs": [],
   "source": [
    ""
   ]
  }
 ],
 "metadata": {
  "kernelspec": {
   "display_name": "Python 3",
   "language": "python",
   "name": "python3"
  },
  "language_info": {
   "codemirror_mode": {
    "name": "ipython",
    "version": 3.0
   },
   "file_extension": ".py",
   "mimetype": "text/x-python",
   "name": "python",
   "nbconvert_exporter": "python",
   "pygments_lexer": "ipython3",
   "version": "3.6.0"
  }
 },
 "nbformat": 4,
 "nbformat_minor": 0
}
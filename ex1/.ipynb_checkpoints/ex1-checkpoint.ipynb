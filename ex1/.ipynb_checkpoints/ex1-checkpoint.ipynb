{
 "cells": [
  {
   "cell_type": "markdown",
   "metadata": {},
   "source": [
    "# Machine Learning Exercise 1 - Linear Regression"
   ]
  },
  {
   "cell_type": "markdown",
   "metadata": {},
   "source": [
    "Josemar Figueiredo Pereira"
   ]
  },
  {
   "cell_type": "code",
   "execution_count": 2,
   "metadata": {
    "collapsed": true
   },
   "outputs": [],
   "source": [
    "## Linear regression with one variable"
   ]
  },
  {
   "cell_type": "code",
   "execution_count": 3,
   "metadata": {
    "collapsed": true
   },
   "outputs": [],
   "source": [
    "import numpy as np\n",
    "import pandas as pd\n",
    "import os\n",
    "import matplotlib.pyplot as plt\n",
    "from mpl_toolkits.mplot3d import Axes3D\n",
    "%matplotlib inline"
   ]
  },
  {
   "cell_type": "code",
   "execution_count": 4,
   "metadata": {},
   "outputs": [
    {
     "data": {
      "text/html": [
       "<div>\n",
       "<style>\n",
       "    .dataframe thead tr:only-child th {\n",
       "        text-align: right;\n",
       "    }\n",
       "\n",
       "    .dataframe thead th {\n",
       "        text-align: left;\n",
       "    }\n",
       "\n",
       "    .dataframe tbody tr th {\n",
       "        vertical-align: top;\n",
       "    }\n",
       "</style>\n",
       "<table border=\"1\" class=\"dataframe\">\n",
       "  <thead>\n",
       "    <tr style=\"text-align: right;\">\n",
       "      <th></th>\n",
       "      <th>Population</th>\n",
       "      <th>Profit</th>\n",
       "    </tr>\n",
       "  </thead>\n",
       "  <tbody>\n",
       "    <tr>\n",
       "      <th>0</th>\n",
       "      <td>6.1101</td>\n",
       "      <td>17.5920</td>\n",
       "    </tr>\n",
       "    <tr>\n",
       "      <th>1</th>\n",
       "      <td>5.5277</td>\n",
       "      <td>9.1302</td>\n",
       "    </tr>\n",
       "    <tr>\n",
       "      <th>2</th>\n",
       "      <td>8.5186</td>\n",
       "      <td>13.6620</td>\n",
       "    </tr>\n",
       "    <tr>\n",
       "      <th>3</th>\n",
       "      <td>7.0032</td>\n",
       "      <td>11.8540</td>\n",
       "    </tr>\n",
       "    <tr>\n",
       "      <th>4</th>\n",
       "      <td>5.8598</td>\n",
       "      <td>6.8233</td>\n",
       "    </tr>\n",
       "  </tbody>\n",
       "</table>\n",
       "</div>"
      ],
      "text/plain": [
       "   Population   Profit\n",
       "0      6.1101  17.5920\n",
       "1      5.5277   9.1302\n",
       "2      8.5186  13.6620\n",
       "3      7.0032  11.8540\n",
       "4      5.8598   6.8233"
      ]
     },
     "execution_count": 4,
     "metadata": {},
     "output_type": "execute_result"
    }
   ],
   "source": [
    "data = pd.read_csv('ex1data1.txt', header=None, names=['Population', 'Profit']) # pandas dataframe\n",
    "data.head()"
   ]
  },
  {
   "cell_type": "code",
   "execution_count": 5,
   "metadata": {},
   "outputs": [
    {
     "data": {
      "text/html": [
       "<div>\n",
       "<style>\n",
       "    .dataframe thead tr:only-child th {\n",
       "        text-align: right;\n",
       "    }\n",
       "\n",
       "    .dataframe thead th {\n",
       "        text-align: left;\n",
       "    }\n",
       "\n",
       "    .dataframe tbody tr th {\n",
       "        vertical-align: top;\n",
       "    }\n",
       "</style>\n",
       "<table border=\"1\" class=\"dataframe\">\n",
       "  <thead>\n",
       "    <tr style=\"text-align: right;\">\n",
       "      <th></th>\n",
       "      <th>Population</th>\n",
       "      <th>Profit</th>\n",
       "    </tr>\n",
       "  </thead>\n",
       "  <tbody>\n",
       "    <tr>\n",
       "      <th>count</th>\n",
       "      <td>97.000000</td>\n",
       "      <td>97.000000</td>\n",
       "    </tr>\n",
       "    <tr>\n",
       "      <th>mean</th>\n",
       "      <td>8.159800</td>\n",
       "      <td>5.839135</td>\n",
       "    </tr>\n",
       "    <tr>\n",
       "      <th>std</th>\n",
       "      <td>3.869884</td>\n",
       "      <td>5.510262</td>\n",
       "    </tr>\n",
       "    <tr>\n",
       "      <th>min</th>\n",
       "      <td>5.026900</td>\n",
       "      <td>-2.680700</td>\n",
       "    </tr>\n",
       "    <tr>\n",
       "      <th>25%</th>\n",
       "      <td>5.707700</td>\n",
       "      <td>1.986900</td>\n",
       "    </tr>\n",
       "    <tr>\n",
       "      <th>50%</th>\n",
       "      <td>6.589400</td>\n",
       "      <td>4.562300</td>\n",
       "    </tr>\n",
       "    <tr>\n",
       "      <th>75%</th>\n",
       "      <td>8.578100</td>\n",
       "      <td>7.046700</td>\n",
       "    </tr>\n",
       "    <tr>\n",
       "      <th>max</th>\n",
       "      <td>22.203000</td>\n",
       "      <td>24.147000</td>\n",
       "    </tr>\n",
       "  </tbody>\n",
       "</table>\n",
       "</div>"
      ],
      "text/plain": [
       "       Population     Profit\n",
       "count   97.000000  97.000000\n",
       "mean     8.159800   5.839135\n",
       "std      3.869884   5.510262\n",
       "min      5.026900  -2.680700\n",
       "25%      5.707700   1.986900\n",
       "50%      6.589400   4.562300\n",
       "75%      8.578100   7.046700\n",
       "max     22.203000  24.147000"
      ]
     },
     "execution_count": 5,
     "metadata": {},
     "output_type": "execute_result"
    }
   ],
   "source": [
    "data.describe()"
   ]
  },
  {
   "cell_type": "code",
   "execution_count": 6,
   "metadata": {},
   "outputs": [
    {
     "data": {
      "text/plain": [
       "<matplotlib.text.Text at 0x76561f0>"
      ]
     },
     "execution_count": 6,
     "metadata": {},
     "output_type": "execute_result"
    },
    {
     "data": {
      "image/png": "[encoded data removed]",
      "text/plain": [
       "<matplotlib.figure.Figure at 0x758af30>"
      ]
     },
     "metadata": {},
     "output_type": "display_data"
    }
   ],
   "source": [
    "ax = data.plot(kind='scatter', x='Population', y='Profit', title='Scatter plot of training data', \n",
    "               figsize=(8, 4), grid=True)\n",
    "ax.set_xlabel('Population of city in 10,000s')\n",
    "ax.set_ylabel('Profit in $10,000s')"
   ]
  },
  {
   "cell_type": "markdown",
   "metadata": {},
   "source": [
    "## Gradient Descent"
   ]
  },
  {
   "cell_type": "markdown",
   "metadata": {},
   "source": [
    "First, you create a function to compute the cost of a given solution (characterized by the parameters beta):"
   ]
  },
  {
   "cell_type": "code",
   "execution_count": 7,
   "metadata": {
    "collapsed": true
   },
   "outputs": [],
   "source": [
    "def compute_cost(X, y, beta):\n",
    "    m = X.shape[0]\n",
    "    h = X * beta.transpose()\n",
    "    return (0.5/m)*np.sum(np.power(h - y, 2))"
   ]
  },
  {
   "cell_type": "markdown",
   "metadata": {},
   "source": [
    "We store each example as a row in the X matrix. To take into account the intercept term (\\beta0), we add an additional first column to X and set it to all ones. This allows us to treat \\beta0 as simply another 'feature'."
   ]
  },
  {
   "cell_type": "code",
   "execution_count": 8,
   "metadata": {
    "collapsed": true
   },
   "outputs": [],
   "source": [
    "data.insert(0, 'beta zero', 1)"
   ]
  },
  {
   "cell_type": "markdown",
   "metadata": {},
   "source": [
    "Now let's do some variable initialization"
   ]
  },
  {
   "cell_type": "code",
   "execution_count": 9,
   "metadata": {
    "collapsed": true
   },
   "outputs": [],
   "source": [
    "# set X (training data) and y (target variable)\n",
    "cols = data.shape[1]\n",
    "X = data.iloc[:, 0:cols-1]\n",
    "y = data.iloc[:, cols-1:cols]"
   ]
  },
  {
   "cell_type": "markdown",
   "metadata": {},
   "source": [
    "Now, you need to guarantee that X (training set) and y (target variable) are correct."
   ]
  },
  {
   "cell_type": "code",
   "execution_count": 10,
   "metadata": {},
   "outputs": [
    {
     "data": {
      "text/html": [
       "<div>\n",
       "<style>\n",
       "    .dataframe thead tr:only-child th {\n",
       "        text-align: right;\n",
       "    }\n",
       "\n",
       "    .dataframe thead th {\n",
       "        text-align: left;\n",
       "    }\n",
       "\n",
       "    .dataframe tbody tr th {\n",
       "        vertical-align: top;\n",
       "    }\n",
       "</style>\n",
       "<table border=\"1\" class=\"dataframe\">\n",
       "  <thead>\n",
       "    <tr style=\"text-align: right;\">\n",
       "      <th></th>\n",
       "      <th>beta zero</th>\n",
       "      <th>Population</th>\n",
       "    </tr>\n",
       "  </thead>\n",
       "  <tbody>\n",
       "    <tr>\n",
       "      <th>0</th>\n",
       "      <td>1</td>\n",
       "      <td>6.1101</td>\n",
       "    </tr>\n",
       "    <tr>\n",
       "      <th>1</th>\n",
       "      <td>1</td>\n",
       "      <td>5.5277</td>\n",
       "    </tr>\n",
       "    <tr>\n",
       "      <th>2</th>\n",
       "      <td>1</td>\n",
       "      <td>8.5186</td>\n",
       "    </tr>\n",
       "    <tr>\n",
       "      <th>3</th>\n",
       "      <td>1</td>\n",
       "      <td>7.0032</td>\n",
       "    </tr>\n",
       "    <tr>\n",
       "      <th>4</th>\n",
       "      <td>1</td>\n",
       "      <td>5.8598</td>\n",
       "    </tr>\n",
       "  </tbody>\n",
       "</table>\n",
       "</div>"
      ],
      "text/plain": [
       "   beta zero  Population\n",
       "0          1      6.1101\n",
       "1          1      5.5277\n",
       "2          1      8.5186\n",
       "3          1      7.0032\n",
       "4          1      5.8598"
      ]
     },
     "execution_count": 10,
     "metadata": {},
     "output_type": "execute_result"
    }
   ],
   "source": [
    "X.head()"
   ]
  },
  {
   "cell_type": "code",
   "execution_count": 11,
   "metadata": {},
   "outputs": [
    {
     "data": {
      "text/html": [
       "<div>\n",
       "<style>\n",
       "    .dataframe thead tr:only-child th {\n",
       "        text-align: right;\n",
       "    }\n",
       "\n",
       "    .dataframe thead th {\n",
       "        text-align: left;\n",
       "    }\n",
       "\n",
       "    .dataframe tbody tr th {\n",
       "        vertical-align: top;\n",
       "    }\n",
       "</style>\n",
       "<table border=\"1\" class=\"dataframe\">\n",
       "  <thead>\n",
       "    <tr style=\"text-align: right;\">\n",
       "      <th></th>\n",
       "      <th>Profit</th>\n",
       "    </tr>\n",
       "  </thead>\n",
       "  <tbody>\n",
       "    <tr>\n",
       "      <th>0</th>\n",
       "      <td>17.5920</td>\n",
       "    </tr>\n",
       "    <tr>\n",
       "      <th>1</th>\n",
       "      <td>9.1302</td>\n",
       "    </tr>\n",
       "    <tr>\n",
       "      <th>2</th>\n",
       "      <td>13.6620</td>\n",
       "    </tr>\n",
       "    <tr>\n",
       "      <th>3</th>\n",
       "      <td>11.8540</td>\n",
       "    </tr>\n",
       "    <tr>\n",
       "      <th>4</th>\n",
       "      <td>6.8233</td>\n",
       "    </tr>\n",
       "  </tbody>\n",
       "</table>\n",
       "</div>"
      ],
      "text/plain": [
       "    Profit\n",
       "0  17.5920\n",
       "1   9.1302\n",
       "2  13.6620\n",
       "3  11.8540\n",
       "4   6.8233"
      ]
     },
     "execution_count": 11,
     "metadata": {},
     "output_type": "execute_result"
    }
   ],
   "source": [
    "y.head()"
   ]
  },
  {
   "cell_type": "markdown",
   "metadata": {},
   "source": [
    "The cost function is expecting numpy matrices so we need to convert X and y before we can use them. We also need to initialize beta."
   ]
  },
  {
   "cell_type": "code",
   "execution_count": 12,
   "metadata": {
    "collapsed": true
   },
   "outputs": [],
   "source": [
    "X = np.matrix(X.values)\n",
    "y = np.matrix(y.values)\n",
    "beta = np.matrix(np.array([0.0, 0.0]))"
   ]
  },
  {
   "cell_type": "markdown",
   "metadata": {},
   "source": [
    "Here's what beta looks like."
   ]
  },
  {
   "cell_type": "code",
   "execution_count": 13,
   "metadata": {},
   "outputs": [
    {
     "data": {
      "text/plain": [
       "matrix([[ 0.,  0.]])"
      ]
     },
     "execution_count": 13,
     "metadata": {},
     "output_type": "execute_result"
    }
   ],
   "source": [
    "beta"
   ]
  },
  {
   "cell_type": "markdown",
   "metadata": {},
   "source": [
    "Let's take a quick look at the shape of our matrices."
   ]
  },
  {
   "cell_type": "code",
   "execution_count": 14,
   "metadata": {},
   "outputs": [
    {
     "data": {
      "text/plain": [
       "((97, 2), (1, 2), (97, 1))"
      ]
     },
     "execution_count": 14,
     "metadata": {},
     "output_type": "execute_result"
    }
   ],
   "source": [
    "X.shape, beta.shape, y.shape"
   ]
  },
  {
   "cell_type": "markdown",
   "metadata": {},
   "source": [
    "Now let's compute the cost for our initial solution (0 values for beta)."
   ]
  },
  {
   "cell_type": "code",
   "execution_count": 15,
   "metadata": {},
   "outputs": [
    {
     "data": {
      "text/plain": [
       "32.072733877455676"
      ]
     },
     "execution_count": 15,
     "metadata": {},
     "output_type": "execute_result"
    }
   ],
   "source": [
    "compute_cost(X, y, beta)"
   ]
  },
  {
   "cell_type": "markdown",
   "metadata": {},
   "source": [
    "Now, you are asked to define a function to perform gradient descent on the parameters beta"
   ]
  },
  {
   "cell_type": "code",
   "execution_count": 16,
   "metadata": {
    "collapsed": true
   },
   "outputs": [],
   "source": [
    "def gradient_descent(X, y, theta, alpha, iters):\n",
    "    '''\n",
    "    alpha: learning rate\n",
    "    iters: number of iterations\n",
    "    OUTPUT:\n",
    "    theta: learned parameters\n",
    "    cost:  a vector with the cost at each training iteration\n",
    "    '''\n",
    "    \n",
    "    parameters = int(theta.ravel().shape[1])\n",
    "    cost = np.zeros(iters)\n",
    "    temp = np.matrix(np.zeros(theta.shape))\n",
    "        \n",
    "    for i in range(iters):\n",
    "        h = X * theta.transpose()        \n",
    "        n = X.shape[0]        \n",
    "        for j in range(parameters):\n",
    "            temp[:, j] = (h - y).transpose() * X[:, j]\n",
    "        theta -= alpha * temp / n\n",
    "        cost[i] = compute_cost(X, y, theta)        \n",
    "        \n",
    "    return theta, cost"
   ]
  },
  {
   "cell_type": "markdown",
   "metadata": {},
   "source": [
    "Initialize some additional variables - the learning rate alpha, and the number of iterations to perform"
   ]
  },
  {
   "cell_type": "code",
   "execution_count": 17,
   "metadata": {
    "collapsed": true
   },
   "outputs": [],
   "source": [
    "alpha = 0.01\n",
    "iters = 1500"
   ]
  },
  {
   "cell_type": "markdown",
   "metadata": {},
   "source": [
    "Now let's run the gradient descent algorithm to fit our parameters theta to the training set."
   ]
  },
  {
   "cell_type": "code",
   "execution_count": 18,
   "metadata": {
    "collapsed": true
   },
   "outputs": [],
   "source": [
    "g, cost = gradient_descent(X[0,:], y[0], beta, alpha, iters)"
   ]
  },
  {
   "cell_type": "code",
   "execution_count": 19,
   "metadata": {},
   "outputs": [
    {
     "data": {
      "text/plain": [
       "matrix([[ 0.45892187,  2.80405855]])"
      ]
     },
     "execution_count": 19,
     "metadata": {},
     "output_type": "execute_result"
    }
   ],
   "source": [
    "g"
   ]
  },
  {
   "cell_type": "code",
   "execution_count": 20,
   "metadata": {},
   "outputs": [
    {
     "data": {
      "text/plain": [
       "matrix([[-3.61857447,  1.16518525]])"
      ]
     },
     "execution_count": 20,
     "metadata": {},
     "output_type": "execute_result"
    }
   ],
   "source": [
    "g, cost = gradient_descent(X, y, beta, alpha, iters)\n",
    "g"
   ]
  },
  {
   "cell_type": "markdown",
   "metadata": {},
   "source": [
    "Finally we can compute the cost (error) of the trained model using our fitted parameters."
   ]
  },
  {
   "cell_type": "code",
   "execution_count": 21,
   "metadata": {},
   "outputs": [
    {
     "data": {
      "text/plain": [
       "4.4839671532797301"
      ]
     },
     "execution_count": 21,
     "metadata": {},
     "output_type": "execute_result"
    }
   ],
   "source": [
    "compute_cost(X, y, g)"
   ]
  },
  {
   "cell_type": "markdown",
   "metadata": {},
   "source": [
    "Now let's plot the linear model along with the data to visually see how well it fits."
   ]
  },
  {
   "cell_type": "code",
   "execution_count": 22,
   "metadata": {},
   "outputs": [
    {
     "data": {
      "image/png": "[encoded data removed]",
      "text/plain": [
       "<matplotlib.figure.Figure at 0x7656690>"
      ]
     },
     "metadata": {},
     "output_type": "display_data"
    }
   ],
   "source": [
    "x = np.linspace(data.Population.min(), data.Population.max(), 100)\n",
    "f = g[0, 0] + (g[0, 1] * x)\n",
    "\n",
    "fig, ax = plt.subplots(figsize=(8,4))\n",
    "ax.plot(x, f, 'r', label='Prediction')\n",
    "ax.scatter(data.Population, data.Profit, label='Traning Data')\n",
    "ax.legend(loc=2)\n",
    "ax.set_xlabel('Population of city in 10,000s')\n",
    "ax.set_ylabel('Profit in $10,000s')\n",
    "ax.set_title('Predicted Profit vs. Population Size')\n",
    "ax.grid(True)"
   ]
  },
  {
   "cell_type": "markdown",
   "metadata": {},
   "source": [
    "Looks pretty good! Remember that the gradient decent function also outputs a vector with the cost at each training iteration, we can plot it as well. \n",
    "\n",
    "Since the cost always decreases - this is an example of a convex optimization problem."
   ]
  },
  {
   "cell_type": "code",
   "execution_count": 23,
   "metadata": {
    "collapsed": true
   },
   "outputs": [],
   "source": [
    "def plot_cost_error(iters, cost):\n",
    "    fig, ax = plt.subplots(figsize=(8,4))\n",
    "    ax.plot(np.arange(iters), cost, 'r')\n",
    "    ax.set_xlabel('Iterations')\n",
    "    ax.set_ylabel('Cost')\n",
    "    ax.set_ylim(4.0)\n",
    "    ax.set_title('Error vs. Training Epoch')\n",
    "    ax.grid(True)"
   ]
  },
  {
   "cell_type": "code",
   "execution_count": 24,
   "metadata": {},
   "outputs": [
    {
     "data": {
      "image/png": "[encoded data removed]",
      "text/plain": [
       "<matplotlib.figure.Figure at 0x7ac37b0>"
      ]
     },
     "metadata": {},
     "output_type": "display_data"
    }
   ],
   "source": [
    "plot_cost_error(iters, cost)"
   ]
  },
  {
   "cell_type": "markdown",
   "metadata": {},
   "source": [
    "Now, we will show a contour plot that presents beta0 against beta1 and the outcome of J. First, we set values for beta0 and beta1"
   ]
  },
  {
   "cell_type": "code",
   "execution_count": 25,
   "metadata": {
    "collapsed": true
   },
   "outputs": [],
   "source": [
    "beta0_vals = np.linspace(-10, 10, 100)\n",
    "beta1_vals = np.linspace(-1, 4, 100)"
   ]
  },
  {
   "cell_type": "markdown",
   "metadata": {},
   "source": [
    "Now, initialize J values to a matrix of 0's"
   ]
  },
  {
   "cell_type": "code",
   "execution_count": 26,
   "metadata": {
    "collapsed": true
   },
   "outputs": [],
   "source": [
    "j_vals = np.zeros([len(beta0_vals), len(beta1_vals)])"
   ]
  },
  {
   "cell_type": "code",
   "execution_count": 27,
   "metadata": {
    "collapsed": true
   },
   "outputs": [],
   "source": [
    "for i in range(len(beta0_vals)):\n",
    "    for j in range(len(beta1_vals)):\n",
    "        t = np.matrix(np.array([beta0_vals[i], beta1_vals[j]]))\n",
    "        j_vals[i,j] = compute_cost(X, y, t)"
   ]
  },
  {
   "cell_type": "code",
   "execution_count": 28,
   "metadata": {},
   "outputs": [
    {
     "data": {
      "image/png": "[encoded data removed]",
      "text/plain": [
       "<matplotlib.figure.Figure at 0x7a775b0>"
      ]
     },
     "metadata": {},
     "output_type": "display_data"
    }
   ],
   "source": [
    "plt.contour(beta0_vals, beta1_vals, j_vals.T, np.logspace(-2, 3, 20));"
   ]
  },
  {
   "cell_type": "code",
   "execution_count": 29,
   "metadata": {},
   "outputs": [
    {
     "data": {
      "image/png": "[encoded data removed]",
      "text/plain": [
       "<matplotlib.figure.Figure at 0x7d8d410>"
      ]
     },
     "metadata": {},
     "output_type": "display_data"
    }
   ],
   "source": [
    "plt.scatter(g[0,0],g[0,1],)\n",
    "plt.contour(beta0_vals, beta1_vals, j_vals.T, np.logspace(-2, 3, 20));"
   ]
  },
  {
   "cell_type": "markdown",
   "metadata": {},
   "source": [
    "Now, in 3D"
   ]
  },
  {
   "cell_type": "code",
   "execution_count": 30,
   "metadata": {},
   "outputs": [
    {
     "data": {
      "text/plain": [
       "<mpl_toolkits.mplot3d.art3d.Path3DCollection at 0x8e8a270>"
      ]
     },
     "execution_count": 30,
     "metadata": {},
     "output_type": "execute_result"
    },
    {
     "data": {
      "image/png": "[encoded data removed]",
      "text/plain": [
       "<matplotlib.figure.Figure at 0x8e556d0>"
      ]
     },
     "metadata": {},
     "output_type": "display_data"
    }
   ],
   "source": [
    "beta0_mesh, beta1_mesh = np.meshgrid(beta0_vals, beta1_vals)\n",
    "fig = plt.figure()\n",
    "ax = fig.gca(projection='3d')\n",
    "ax.plot_surface(beta0_mesh, beta1_mesh, j_vals.T)\n",
    "ax.scatter(g[0,0],g[0,1],color='r')"
   ]
  },
  {
   "cell_type": "markdown",
   "metadata": {},
   "source": [
    "## Linear regression with multiple variables"
   ]
  },
  {
   "cell_type": "markdown",
   "metadata": {},
   "source": [
    "From now on, you will use the second dataset, i.e., ex1data2.txt. This is a housing price dataset with 2 variables (size of the house in square feet and number of bedrooms) and a target (price of the house). You are asked to use the techniques already applied to analyze that data set."
   ]
  },
  {
   "cell_type": "code",
   "execution_count": 31,
   "metadata": {},
   "outputs": [
    {
     "data": {
      "text/html": [
       "<div>\n",
       "<style>\n",
       "    .dataframe thead tr:only-child th {\n",
       "        text-align: right;\n",
       "    }\n",
       "\n",
       "    .dataframe thead th {\n",
       "        text-align: left;\n",
       "    }\n",
       "\n",
       "    .dataframe tbody tr th {\n",
       "        vertical-align: top;\n",
       "    }\n",
       "</style>\n",
       "<table border=\"1\" class=\"dataframe\">\n",
       "  <thead>\n",
       "    <tr style=\"text-align: right;\">\n",
       "      <th></th>\n",
       "      <th>Size</th>\n",
       "      <th>Bedrooms</th>\n",
       "      <th>Price</th>\n",
       "    </tr>\n",
       "  </thead>\n",
       "  <tbody>\n",
       "    <tr>\n",
       "      <th>0</th>\n",
       "      <td>2104</td>\n",
       "      <td>3</td>\n",
       "      <td>399900</td>\n",
       "    </tr>\n",
       "    <tr>\n",
       "      <th>1</th>\n",
       "      <td>1600</td>\n",
       "      <td>3</td>\n",
       "      <td>329900</td>\n",
       "    </tr>\n",
       "    <tr>\n",
       "      <th>2</th>\n",
       "      <td>2400</td>\n",
       "      <td>3</td>\n",
       "      <td>369000</td>\n",
       "    </tr>\n",
       "    <tr>\n",
       "      <th>3</th>\n",
       "      <td>1416</td>\n",
       "      <td>2</td>\n",
       "      <td>232000</td>\n",
       "    </tr>\n",
       "    <tr>\n",
       "      <th>4</th>\n",
       "      <td>3000</td>\n",
       "      <td>4</td>\n",
       "      <td>539900</td>\n",
       "    </tr>\n",
       "  </tbody>\n",
       "</table>\n",
       "</div>"
      ],
      "text/plain": [
       "   Size  Bedrooms   Price\n",
       "0  2104         3  399900\n",
       "1  1600         3  329900\n",
       "2  2400         3  369000\n",
       "3  1416         2  232000\n",
       "4  3000         4  539900"
      ]
     },
     "execution_count": 31,
     "metadata": {},
     "output_type": "execute_result"
    }
   ],
   "source": [
    "data2 = pd.read_csv('ex1data2.txt', header=None, names=['Size', 'Bedrooms', 'Price'])\n",
    "data2.head()"
   ]
  },
  {
   "cell_type": "markdown",
   "metadata": {},
   "source": [
    "Following the same steps now let´s visualize these data:"
   ]
  },
  {
   "cell_type": "code",
   "execution_count": 32,
   "metadata": {
    "scrolled": true
   },
   "outputs": [
    {
     "data": {
      "text/plain": [
       "<matplotlib.text.Text at 0x7a771f0>"
      ]
     },
     "execution_count": 32,
     "metadata": {},
     "output_type": "execute_result"
    },
    {
     "data": {
      "image/png": "[encoded data removed]",
      "text/plain": [
       "<matplotlib.figure.Figure at 0x7b02c90>"
      ]
     },
     "metadata": {},
     "output_type": "display_data"
    }
   ],
   "source": [
    "ax = plt.figure(figsize=(10, 6)).gca(projection='3d')\n",
    "ax.scatter(data2['Size'], data2['Bedrooms'], data2['Price']) \n",
    "\n",
    "ax.set_xlabel('Size of house in sq.ft')\n",
    "ax.set_ylabel('Number of rooms')\n",
    "ax.set_zlabel('House price')\n",
    "ax.set_title('Scatter plot of training data')"
   ]
  },
  {
   "cell_type": "markdown",
   "metadata": {},
   "source": [
    "For this task we add another pre-processing step - normalizing the features."
   ]
  },
  {
   "cell_type": "markdown",
   "metadata": {},
   "source": [
    "Notice that the scale of the values for each feature is vastly large. A house will typically have 2-5 bedrooms, but may have anywhere from hundreds to thousands of square feet. If we use the features as they are in the dataset, the 'size' feature would too much wheighted and would end up dwarfing any contributions from the 'number of bedrooms' feature. To fix this, we need to do something called 'feature normalization'. That is, we need to adjust the scale of the features to level the playing field. One way to do this is by subtracting from each value in a feature the mean of that feature, and then dividing by the standard deviation."
   ]
  },
  {
   "cell_type": "code",
   "execution_count": 33,
   "metadata": {
    "collapsed": true
   },
   "outputs": [],
   "source": [
    "def feature_normalize(data):\n",
    "    sigma = data.std()\n",
    "    mu = data.mean()\n",
    "    return (data - mu) / sigma, mu, sigma"
   ]
  },
  {
   "cell_type": "code",
   "execution_count": 34,
   "metadata": {},
   "outputs": [
    {
     "data": {
      "text/html": [
       "<div>\n",
       "<style>\n",
       "    .dataframe thead tr:only-child th {\n",
       "        text-align: right;\n",
       "    }\n",
       "\n",
       "    .dataframe thead th {\n",
       "        text-align: left;\n",
       "    }\n",
       "\n",
       "    .dataframe tbody tr th {\n",
       "        vertical-align: top;\n",
       "    }\n",
       "</style>\n",
       "<table border=\"1\" class=\"dataframe\">\n",
       "  <thead>\n",
       "    <tr style=\"text-align: right;\">\n",
       "      <th></th>\n",
       "      <th>Size</th>\n",
       "      <th>Bedrooms</th>\n",
       "      <th>Price</th>\n",
       "    </tr>\n",
       "  </thead>\n",
       "  <tbody>\n",
       "    <tr>\n",
       "      <th>0</th>\n",
       "      <td>0.130010</td>\n",
       "      <td>-0.223675</td>\n",
       "      <td>0.475747</td>\n",
       "    </tr>\n",
       "    <tr>\n",
       "      <th>1</th>\n",
       "      <td>-0.504190</td>\n",
       "      <td>-0.223675</td>\n",
       "      <td>-0.084074</td>\n",
       "    </tr>\n",
       "    <tr>\n",
       "      <th>2</th>\n",
       "      <td>0.502476</td>\n",
       "      <td>-0.223675</td>\n",
       "      <td>0.228626</td>\n",
       "    </tr>\n",
       "    <tr>\n",
       "      <th>3</th>\n",
       "      <td>-0.735723</td>\n",
       "      <td>-1.537767</td>\n",
       "      <td>-0.867025</td>\n",
       "    </tr>\n",
       "    <tr>\n",
       "      <th>4</th>\n",
       "      <td>1.257476</td>\n",
       "      <td>1.090417</td>\n",
       "      <td>1.595389</td>\n",
       "    </tr>\n",
       "  </tbody>\n",
       "</table>\n",
       "</div>"
      ],
      "text/plain": [
       "       Size  Bedrooms     Price\n",
       "0  0.130010 -0.223675  0.475747\n",
       "1 -0.504190 -0.223675 -0.084074\n",
       "2  0.502476 -0.223675  0.228626\n",
       "3 -0.735723 -1.537767 -0.867025\n",
       "4  1.257476  1.090417  1.595389"
      ]
     },
     "execution_count": 34,
     "metadata": {},
     "output_type": "execute_result"
    }
   ],
   "source": [
    "data3, _, _ = feature_normalize(data2)\n",
    "data3.head()"
   ]
  },
  {
   "cell_type": "markdown",
   "metadata": {},
   "source": [
    "Given that you were asked to implement both cost function and gradient descent using matrix operations, your previously implementations will work just fine in the multivariate dataset. Hence, you need now insert the 'ones' column as before and separate the X's and the y's."
   ]
  },
  {
   "cell_type": "markdown",
   "metadata": {},
   "source": [
    "Conduct the rest of this exercise by repeating the experiments conducted in the simple linear dataset..."
   ]
  },
  {
   "cell_type": "code",
   "execution_count": 35,
   "metadata": {
    "collapsed": true
   },
   "outputs": [],
   "source": [
    "data3.insert(0, 'beta zero', 1)\n",
    "cols = data3.shape[1]\n",
    "X = data3.iloc[:, 0:cols-1]\n",
    "y = data2.iloc[:, cols-2:cols-1]  # the house value must not be normalized\n",
    "X = np.matrix(X.values)\n",
    "y = np.matrix(y.values)"
   ]
  },
  {
   "cell_type": "code",
   "execution_count": 36,
   "metadata": {},
   "outputs": [
    {
     "name": "stdout",
     "output_type": "stream",
     "text": [
      "X[0, :]: [[ 1.          0.13000987 -0.22367519]]\n",
      "y[0]: [[399900]]\n"
     ]
    }
   ],
   "source": [
    "print(\"X[0, :]: {0}\".format(X[0, :]))\n",
    "print(\"y[0]: {0}\".format(y[0]))"
   ]
  },
  {
   "cell_type": "code",
   "execution_count": 37,
   "metadata": {},
   "outputs": [
    {
     "data": {
      "text/plain": [
       "matrix([[ 0.,  0.,  0.]])"
      ]
     },
     "execution_count": 37,
     "metadata": {},
     "output_type": "execute_result"
    }
   ],
   "source": [
    "beta = np.matrix(np.zeros([1, X.shape[1]]))\n",
    "beta"
   ]
  },
  {
   "cell_type": "code",
   "execution_count": 39,
   "metadata": {},
   "outputs": [
    {
     "data": {
      "text/plain": [
       "matrix([[  3.38658249e+05,   1.04127516e+05,  -1.72205334e+02]])"
      ]
     },
     "execution_count": 39,
     "metadata": {},
     "output_type": "execute_result"
    }
   ],
   "source": [
    "alpha = 0.1\n",
    "iters = 50\n",
    "\n",
    "g, cost = gradient_descent(X, y, beta, alpha, iters)\n",
    "g"
   ]
  },
  {
   "cell_type": "markdown",
   "metadata": {},
   "source": [
    "Now let´s try the model to predict a single house price. With the following features:\n",
    "- Size: 1650 sq.ft\n",
    "- Bedrooms: 3"
   ]
  },
  {
   "cell_type": "code",
   "execution_count": 40,
   "metadata": {},
   "outputs": [
    {
     "data": {
      "text/plain": [
       "matrix([[ 293312.48510295]])"
      ]
     },
     "execution_count": 40,
     "metadata": {},
     "output_type": "execute_result"
    }
   ],
   "source": [
    "data = np.array([[1650, 3]])\n",
    "test_house = pd.DataFrame(data = data, index=range(1), columns=['Size', 'Bedrooms'])  # Predicit a house price outside the database\n",
    "test_data = test_house.append(data2.iloc[:, 0:2])  # Normalize just one value isn´t feasible, it´s suposed to be always one.\n",
    "\n",
    "test_data, _, _ = feature_normalize(test_data)\n",
    "test_data.insert(0, 'beta zero', 1)\n",
    "\n",
    "X3 = np.matrix(test_data.values)\n",
    "\n",
    "test_f = (X3[0, :] * g.transpose())\n",
    "test_f"
   ]
  },
  {
   "cell_type": "markdown",
   "metadata": {},
   "source": [
    "So... In the Andrew Ng course the expected result it´s a bittle different. \n",
    "It´s supposed to be $402476.75. But he normalize a single house. \n",
    "Once there is no standard deviation to a single element, so the values became questionable."
   ]
  },
  {
   "cell_type": "code",
   "execution_count": 41,
   "metadata": {},
   "outputs": [
    {
     "data": {
      "text/plain": [
       "((100,), (20,), (20, 100), (20, 100))"
      ]
     },
     "execution_count": 41,
     "metadata": {},
     "output_type": "execute_result"
    }
   ],
   "source": [
    "x13 = np.linspace(data3.Size.min(), data3.Size.max(), 100)\n",
    "x23 = np.linspace(data3.Bedrooms.min(), data3.Bedrooms.max(), 20)\n",
    "\n",
    "x12 = np.linspace(data2.Size.min(), data2.Size.max(), 100)\n",
    "x22 = np.linspace(data2.Bedrooms.min(), data2.Bedrooms.max(), 20)\n",
    "\n",
    "x13v, x23v = np.meshgrid(x13, x23)\n",
    "x12v, x22v = np.meshgrid(x12, x22)\n",
    "x13.shape, x23.shape, x13v.shape, x23v.shape"
   ]
  },
  {
   "cell_type": "code",
   "execution_count": 42,
   "metadata": {
    "collapsed": true
   },
   "outputs": [],
   "source": [
    "f = g[0, 0] + (g[0, 1] * x13v) + (g[0, 2] * x23v)"
   ]
  },
  {
   "cell_type": "code",
   "execution_count": 43,
   "metadata": {},
   "outputs": [
    {
     "data": {
      "text/plain": [
       "(20, 100)"
      ]
     },
     "execution_count": 43,
     "metadata": {},
     "output_type": "execute_result"
    }
   ],
   "source": [
    "f.shape"
   ]
  },
  {
   "cell_type": "code",
   "execution_count": 44,
   "metadata": {},
   "outputs": [
    {
     "data": {
      "text/plain": [
       "<mpl_toolkits.mplot3d.art3d.Poly3DCollection at 0x7c243b0>"
      ]
     },
     "execution_count": 44,
     "metadata": {},
     "output_type": "execute_result"
    },
    {
     "data": {
      "image/png": "[encoded data removed]",
      "text/plain": [
       "<matplotlib.figure.Figure at 0x7aab1f0>"
      ]
     },
     "metadata": {},
     "output_type": "display_data"
    }
   ],
   "source": [
    "ax = plt.figure(figsize=(10, 6)).gca(projection='3d')\n",
    "ax.scatter(data2['Size'], data2['Bedrooms'], data2['Price'], color='r') \n",
    "\n",
    "ax.set_xlabel('Size of house in sq.ft')\n",
    "ax.set_ylabel('Number of rooms')\n",
    "ax.set_zlabel('House price')\n",
    "ax.set_title('Scatter plot of training data')\n",
    "\n",
    "ax.plot_surface(x12v, x22v, f)\n"
   ]
  },
  {
   "cell_type": "code",
   "execution_count": 45,
   "metadata": {},
   "outputs": [
    {
     "data": {
      "image/png": "[encoded data removed]",
      "text/plain": [
       "<matplotlib.figure.Figure at 0x7aa3a50>"
      ]
     },
     "metadata": {},
     "output_type": "display_data"
    }
   ],
   "source": [
    "plot_cost_error(iters, cost)"
   ]
  },
  {
   "cell_type": "markdown",
   "metadata": {},
   "source": [
    "Now, we will show a contour plot that presents beta0 against beta1 againt beta2 and the outcome of J. First, we set values for beta0, beta1 and beta3."
   ]
  },
  {
   "cell_type": "code",
   "execution_count": 46,
   "metadata": {
    "collapsed": true
   },
   "outputs": [],
   "source": [
    "beta0_vals = np.linspace(-3, 3, 100)\n",
    "beta1_vals = np.linspace(-3, 3, 100)\n",
    "beta2_vals = np.linspace(-3, 3, 100)"
   ]
  },
  {
   "cell_type": "code",
   "execution_count": 47,
   "metadata": {
    "collapsed": true
   },
   "outputs": [],
   "source": [
    "j_vals = np.zeros([len(beta0_vals), len(beta1_vals), len(beta2_vals)])"
   ]
  },
  {
   "cell_type": "code",
   "execution_count": 48,
   "metadata": {
    "collapsed": true
   },
   "outputs": [],
   "source": [
    "for i in range(len(beta0_vals)):\n",
    "    for j in range(len(beta1_vals)):\n",
    "        for k in range(len(beta2_vals)):\n",
    "            t = np.matrix(np.array([beta0_vals[i], beta1_vals[j], beta2_vals[k]]))\n",
    "            j_vals[i, j, k] = compute_cost(X, y, t)"
   ]
  },
  {
   "cell_type": "code",
   "execution_count": 49,
   "metadata": {},
   "outputs": [
    {
     "ename": "TypeError",
     "evalue": "Input z must be a 2D array.",
     "output_type": "error",
     "traceback": [
      "\u001b[1;31m---------------------------------------------------------------------------\u001b[0m",
      "\u001b[1;31mTypeError\u001b[0m                                 Traceback (most recent call last)",
      "\u001b[1;32m<ipython-input-49-e42aefce009d>\u001b[0m in \u001b[0;36m<module>\u001b[1;34m()\u001b[0m\n\u001b[1;32m----> 1\u001b[1;33m \u001b[0mplt\u001b[0m\u001b[1;33m.\u001b[0m\u001b[0mcontour\u001b[0m\u001b[1;33m(\u001b[0m\u001b[0mbeta0_vals\u001b[0m\u001b[1;33m,\u001b[0m \u001b[0mbeta1_vals\u001b[0m\u001b[1;33m,\u001b[0m \u001b[0mj_vals\u001b[0m\u001b[1;33m.\u001b[0m\u001b[0mT\u001b[0m\u001b[1;33m,\u001b[0m \u001b[0mnp\u001b[0m\u001b[1;33m.\u001b[0m\u001b[0mlogspace\u001b[0m\u001b[1;33m(\u001b[0m\u001b[1;33m-\u001b[0m\u001b[1;36m2\u001b[0m\u001b[1;33m,\u001b[0m \u001b[1;36m3\u001b[0m\u001b[1;33m,\u001b[0m \u001b[1;36m20\u001b[0m\u001b[1;33m)\u001b[0m\u001b[1;33m)\u001b[0m\u001b[1;33m;\u001b[0m\u001b[1;33m\u001b[0m\u001b[0m\n\u001b[0m",
      "\u001b[1;32mC:\\Dev\\python\\lib\\site-packages\\matplotlib\\pyplot.py\u001b[0m in \u001b[0;36mcontour\u001b[1;34m(*args, **kwargs)\u001b[0m\n\u001b[0;32m   2852\u001b[0m                       mplDeprecation)\n\u001b[0;32m   2853\u001b[0m     \u001b[1;32mtry\u001b[0m\u001b[1;33m:\u001b[0m\u001b[1;33m\u001b[0m\u001b[0m\n\u001b[1;32m-> 2854\u001b[1;33m         \u001b[0mret\u001b[0m \u001b[1;33m=\u001b[0m \u001b[0max\u001b[0m\u001b[1;33m.\u001b[0m\u001b[0mcontour\u001b[0m\u001b[1;33m(\u001b[0m\u001b[1;33m*\u001b[0m\u001b[0margs\u001b[0m\u001b[1;33m,\u001b[0m \u001b[1;33m**\u001b[0m\u001b[0mkwargs\u001b[0m\u001b[1;33m)\u001b[0m\u001b[1;33m\u001b[0m\u001b[0m\n\u001b[0m\u001b[0;32m   2855\u001b[0m     \u001b[1;32mfinally\u001b[0m\u001b[1;33m:\u001b[0m\u001b[1;33m\u001b[0m\u001b[0m\n\u001b[0;32m   2856\u001b[0m         \u001b[0max\u001b[0m\u001b[1;33m.\u001b[0m\u001b[0m_hold\u001b[0m \u001b[1;33m=\u001b[0m \u001b[0mwashold\u001b[0m\u001b[1;33m\u001b[0m\u001b[0m\n",
      "\u001b[1;32mC:\\Dev\\python\\lib\\site-packages\\matplotlib\\__init__.py\u001b[0m in \u001b[0;36minner\u001b[1;34m(ax, *args, **kwargs)\u001b[0m\n\u001b[0;32m   1890\u001b[0m                     warnings.warn(msg % (label_namer, func.__name__),\n\u001b[0;32m   1891\u001b[0m                                   RuntimeWarning, stacklevel=2)\n\u001b[1;32m-> 1892\u001b[1;33m             \u001b[1;32mreturn\u001b[0m \u001b[0mfunc\u001b[0m\u001b[1;33m(\u001b[0m\u001b[0max\u001b[0m\u001b[1;33m,\u001b[0m \u001b[1;33m*\u001b[0m\u001b[0margs\u001b[0m\u001b[1;33m,\u001b[0m \u001b[1;33m**\u001b[0m\u001b[0mkwargs\u001b[0m\u001b[1;33m)\u001b[0m\u001b[1;33m\u001b[0m\u001b[0m\n\u001b[0m\u001b[0;32m   1893\u001b[0m         \u001b[0mpre_doc\u001b[0m \u001b[1;33m=\u001b[0m \u001b[0minner\u001b[0m\u001b[1;33m.\u001b[0m\u001b[0m__doc__\u001b[0m\u001b[1;33m\u001b[0m\u001b[0m\n\u001b[0;32m   1894\u001b[0m         \u001b[1;32mif\u001b[0m \u001b[0mpre_doc\u001b[0m \u001b[1;32mis\u001b[0m \u001b[1;32mNone\u001b[0m\u001b[1;33m:\u001b[0m\u001b[1;33m\u001b[0m\u001b[0m\n",
      "\u001b[1;32mC:\\Dev\\python\\lib\\site-packages\\matplotlib\\axes\\_axes.py\u001b[0m in \u001b[0;36mcontour\u001b[1;34m(self, *args, **kwargs)\u001b[0m\n\u001b[0;32m   5817\u001b[0m             \u001b[0mself\u001b[0m\u001b[1;33m.\u001b[0m\u001b[0mcla\u001b[0m\u001b[1;33m(\u001b[0m\u001b[1;33m)\u001b[0m\u001b[1;33m\u001b[0m\u001b[0m\n\u001b[0;32m   5818\u001b[0m         \u001b[0mkwargs\u001b[0m\u001b[1;33m[\u001b[0m\u001b[1;34m'filled'\u001b[0m\u001b[1;33m]\u001b[0m \u001b[1;33m=\u001b[0m \u001b[1;32mFalse\u001b[0m\u001b[1;33m\u001b[0m\u001b[0m\n\u001b[1;32m-> 5819\u001b[1;33m         \u001b[0mcontours\u001b[0m \u001b[1;33m=\u001b[0m \u001b[0mmcontour\u001b[0m\u001b[1;33m.\u001b[0m\u001b[0mQuadContourSet\u001b[0m\u001b[1;33m(\u001b[0m\u001b[0mself\u001b[0m\u001b[1;33m,\u001b[0m \u001b[1;33m*\u001b[0m\u001b[0margs\u001b[0m\u001b[1;33m,\u001b[0m \u001b[1;33m**\u001b[0m\u001b[0mkwargs\u001b[0m\u001b[1;33m)\u001b[0m\u001b[1;33m\u001b[0m\u001b[0m\n\u001b[0m\u001b[0;32m   5820\u001b[0m         \u001b[0mself\u001b[0m\u001b[1;33m.\u001b[0m\u001b[0mautoscale_view\u001b[0m\u001b[1;33m(\u001b[0m\u001b[1;33m)\u001b[0m\u001b[1;33m\u001b[0m\u001b[0m\n\u001b[0;32m   5821\u001b[0m         \u001b[1;32mreturn\u001b[0m \u001b[0mcontours\u001b[0m\u001b[1;33m\u001b[0m\u001b[0m\n",
      "\u001b[1;32mC:\\Dev\\python\\lib\\site-packages\\matplotlib\\contour.py\u001b[0m in \u001b[0;36m__init__\u001b[1;34m(self, ax, *args, **kwargs)\u001b[0m\n\u001b[0;32m    862\u001b[0m         \u001b[0mself\u001b[0m\u001b[1;33m.\u001b[0m\u001b[0m_transform\u001b[0m \u001b[1;33m=\u001b[0m \u001b[0mkwargs\u001b[0m\u001b[1;33m.\u001b[0m\u001b[0mget\u001b[0m\u001b[1;33m(\u001b[0m\u001b[1;34m'transform'\u001b[0m\u001b[1;33m,\u001b[0m \u001b[1;32mNone\u001b[0m\u001b[1;33m)\u001b[0m\u001b[1;33m\u001b[0m\u001b[0m\n\u001b[0;32m    863\u001b[0m \u001b[1;33m\u001b[0m\u001b[0m\n\u001b[1;32m--> 864\u001b[1;33m         \u001b[0mself\u001b[0m\u001b[1;33m.\u001b[0m\u001b[0m_process_args\u001b[0m\u001b[1;33m(\u001b[0m\u001b[1;33m*\u001b[0m\u001b[0margs\u001b[0m\u001b[1;33m,\u001b[0m \u001b[1;33m**\u001b[0m\u001b[0mkwargs\u001b[0m\u001b[1;33m)\u001b[0m\u001b[1;33m\u001b[0m\u001b[0m\n\u001b[0m\u001b[0;32m    865\u001b[0m         \u001b[0mself\u001b[0m\u001b[1;33m.\u001b[0m\u001b[0m_process_levels\u001b[0m\u001b[1;33m(\u001b[0m\u001b[1;33m)\u001b[0m\u001b[1;33m\u001b[0m\u001b[0m\n\u001b[0;32m    866\u001b[0m \u001b[1;33m\u001b[0m\u001b[0m\n",
      "\u001b[1;32mC:\\Dev\\python\\lib\\site-packages\\matplotlib\\contour.py\u001b[0m in \u001b[0;36m_process_args\u001b[1;34m(self, *args, **kwargs)\u001b[0m\n\u001b[0;32m   1427\u001b[0m                 \u001b[0mself\u001b[0m\u001b[1;33m.\u001b[0m\u001b[0m_corner_mask\u001b[0m \u001b[1;33m=\u001b[0m \u001b[0mmpl\u001b[0m\u001b[1;33m.\u001b[0m\u001b[0mrcParams\u001b[0m\u001b[1;33m[\u001b[0m\u001b[1;34m'contour.corner_mask'\u001b[0m\u001b[1;33m]\u001b[0m\u001b[1;33m\u001b[0m\u001b[0m\n\u001b[0;32m   1428\u001b[0m \u001b[1;33m\u001b[0m\u001b[0m\n\u001b[1;32m-> 1429\u001b[1;33m             \u001b[0mx\u001b[0m\u001b[1;33m,\u001b[0m \u001b[0my\u001b[0m\u001b[1;33m,\u001b[0m \u001b[0mz\u001b[0m \u001b[1;33m=\u001b[0m \u001b[0mself\u001b[0m\u001b[1;33m.\u001b[0m\u001b[0m_contour_args\u001b[0m\u001b[1;33m(\u001b[0m\u001b[0margs\u001b[0m\u001b[1;33m,\u001b[0m \u001b[0mkwargs\u001b[0m\u001b[1;33m)\u001b[0m\u001b[1;33m\u001b[0m\u001b[0m\n\u001b[0m\u001b[0;32m   1430\u001b[0m \u001b[1;33m\u001b[0m\u001b[0m\n\u001b[0;32m   1431\u001b[0m             \u001b[0m_mask\u001b[0m \u001b[1;33m=\u001b[0m \u001b[0mma\u001b[0m\u001b[1;33m.\u001b[0m\u001b[0mgetmask\u001b[0m\u001b[1;33m(\u001b[0m\u001b[0mz\u001b[0m\u001b[1;33m)\u001b[0m\u001b[1;33m\u001b[0m\u001b[0m\n",
      "\u001b[1;32mC:\\Dev\\python\\lib\\site-packages\\matplotlib\\contour.py\u001b[0m in \u001b[0;36m_contour_args\u001b[1;34m(self, args, kwargs)\u001b[0m\n\u001b[0;32m   1506\u001b[0m             \u001b[0margs\u001b[0m \u001b[1;33m=\u001b[0m \u001b[0margs\u001b[0m\u001b[1;33m[\u001b[0m\u001b[1;36m1\u001b[0m\u001b[1;33m:\u001b[0m\u001b[1;33m]\u001b[0m\u001b[1;33m\u001b[0m\u001b[0m\n\u001b[0;32m   1507\u001b[0m         \u001b[1;32melif\u001b[0m \u001b[0mNargs\u001b[0m \u001b[1;33m<=\u001b[0m \u001b[1;36m4\u001b[0m\u001b[1;33m:\u001b[0m\u001b[1;33m\u001b[0m\u001b[0m\n\u001b[1;32m-> 1508\u001b[1;33m             \u001b[0mx\u001b[0m\u001b[1;33m,\u001b[0m \u001b[0my\u001b[0m\u001b[1;33m,\u001b[0m \u001b[0mz\u001b[0m \u001b[1;33m=\u001b[0m \u001b[0mself\u001b[0m\u001b[1;33m.\u001b[0m\u001b[0m_check_xyz\u001b[0m\u001b[1;33m(\u001b[0m\u001b[0margs\u001b[0m\u001b[1;33m[\u001b[0m\u001b[1;33m:\u001b[0m\u001b[1;36m3\u001b[0m\u001b[1;33m]\u001b[0m\u001b[1;33m,\u001b[0m \u001b[0mkwargs\u001b[0m\u001b[1;33m)\u001b[0m\u001b[1;33m\u001b[0m\u001b[0m\n\u001b[0m\u001b[0;32m   1509\u001b[0m             \u001b[0margs\u001b[0m \u001b[1;33m=\u001b[0m \u001b[0margs\u001b[0m\u001b[1;33m[\u001b[0m\u001b[1;36m3\u001b[0m\u001b[1;33m:\u001b[0m\u001b[1;33m]\u001b[0m\u001b[1;33m\u001b[0m\u001b[0m\n\u001b[0;32m   1510\u001b[0m         \u001b[1;32melse\u001b[0m\u001b[1;33m:\u001b[0m\u001b[1;33m\u001b[0m\u001b[0m\n",
      "\u001b[1;32mC:\\Dev\\python\\lib\\site-packages\\matplotlib\\contour.py\u001b[0m in \u001b[0;36m_check_xyz\u001b[1;34m(self, args, kwargs)\u001b[0m\n\u001b[0;32m   1540\u001b[0m \u001b[1;33m\u001b[0m\u001b[0m\n\u001b[0;32m   1541\u001b[0m         \u001b[1;32mif\u001b[0m \u001b[0mz\u001b[0m\u001b[1;33m.\u001b[0m\u001b[0mndim\u001b[0m \u001b[1;33m!=\u001b[0m \u001b[1;36m2\u001b[0m\u001b[1;33m:\u001b[0m\u001b[1;33m\u001b[0m\u001b[0m\n\u001b[1;32m-> 1542\u001b[1;33m             \u001b[1;32mraise\u001b[0m \u001b[0mTypeError\u001b[0m\u001b[1;33m(\u001b[0m\u001b[1;34m\"Input z must be a 2D array.\"\u001b[0m\u001b[1;33m)\u001b[0m\u001b[1;33m\u001b[0m\u001b[0m\n\u001b[0m\u001b[0;32m   1543\u001b[0m         \u001b[1;32melse\u001b[0m\u001b[1;33m:\u001b[0m\u001b[1;33m\u001b[0m\u001b[0m\n\u001b[0;32m   1544\u001b[0m             \u001b[0mNy\u001b[0m\u001b[1;33m,\u001b[0m \u001b[0mNx\u001b[0m \u001b[1;33m=\u001b[0m \u001b[0mz\u001b[0m\u001b[1;33m.\u001b[0m\u001b[0mshape\u001b[0m\u001b[1;33m\u001b[0m\u001b[0m\n",
      "\u001b[1;31mTypeError\u001b[0m: Input z must be a 2D array."
     ]
    },
    {
     "data": {
      "image/png": "[encoded data removed]",
      "text/plain": [
       "<matplotlib.figure.Figure at 0x92e40f0>"
      ]
     },
     "metadata": {},
     "output_type": "display_data"
    }
   ],
   "source": [
    "plt.contour(beta0_vals, beta1_vals, j_vals.T, np.logspace(-2, 3, 20));\n"
   ]
  },
  {
   "cell_type": "markdown",
   "metadata": {},
   "source": [
    "## A real world dataset"
   ]
  },
  {
   "cell_type": "code",
   "execution_count": 602,
   "metadata": {
    "collapsed": true
   },
   "outputs": [],
   "source": [
    "import numpy as np\n",
    "import pandas as pd\n",
    "import os\n",
    "import matplotlib.pyplot as plt\n",
    "from mpl_toolkits.mplot3d import Axes3D"
   ]
  },
  {
   "cell_type": "code",
   "execution_count": 603,
   "metadata": {},
   "outputs": [
    {
     "data": {
      "text/html": [
       "<div>\n",
       "<style>\n",
       "    .dataframe thead tr:only-child th {\n",
       "        text-align: right;\n",
       "    }\n",
       "\n",
       "    .dataframe thead th {\n",
       "        text-align: left;\n",
       "    }\n",
       "\n",
       "    .dataframe tbody tr th {\n",
       "        vertical-align: top;\n",
       "    }\n",
       "</style>\n",
       "<table border=\"1\" class=\"dataframe\">\n",
       "  <thead>\n",
       "    <tr style=\"text-align: right;\">\n",
       "      <th></th>\n",
       "      <th>url</th>\n",
       "      <th>city</th>\n",
       "      <th>value</th>\n",
       "      <th>you_save</th>\n",
       "      <th>discount_pct</th>\n",
       "      <th>num_sold</th>\n",
       "      <th>limited_quantity</th>\n",
       "      <th>sold_out</th>\n",
       "      <th>tipped_at</th>\n",
       "      <th>tips_with</th>\n",
       "      <th>started_at</th>\n",
       "      <th>weekday_start</th>\n",
       "      <th>duration</th>\n",
       "      <th>featured</th>\n",
       "      <th>category</th>\n",
       "      <th>likes</th>\n",
       "    </tr>\n",
       "  </thead>\n",
       "  <tbody>\n",
       "    <tr>\n",
       "      <th>0</th>\n",
       "      <td>http://www.groupon.com/atlanta/deals/buckhead-...</td>\n",
       "      <td>Atlanta</td>\n",
       "      <td>30</td>\n",
       "      <td>15</td>\n",
       "      <td>50</td>\n",
       "      <td>108</td>\n",
       "      <td>0</td>\n",
       "      <td>0</td>\n",
       "      <td>10:26:00</td>\n",
       "      <td>25</td>\n",
       "      <td>1/3/2011</td>\n",
       "      <td>Mon</td>\n",
       "      <td>1</td>\n",
       "      <td>1</td>\n",
       "      <td>Nightlife</td>\n",
       "      <td>14.0</td>\n",
       "    </tr>\n",
       "    <tr>\n",
       "      <th>1</th>\n",
       "      <td>http://www.groupon.com/atlanta/deals/european-...</td>\n",
       "      <td>Atlanta</td>\n",
       "      <td>70</td>\n",
       "      <td>35</td>\n",
       "      <td>50</td>\n",
       "      <td>255</td>\n",
       "      <td>0</td>\n",
       "      <td>0</td>\n",
       "      <td>7:26:00</td>\n",
       "      <td>10</td>\n",
       "      <td>1/3/2011</td>\n",
       "      <td>Mon</td>\n",
       "      <td>1</td>\n",
       "      <td>0</td>\n",
       "      <td>Beauty &amp; Spas</td>\n",
       "      <td>20.0</td>\n",
       "    </tr>\n",
       "    <tr>\n",
       "      <th>2</th>\n",
       "      <td>http://www.groupon.com/atlanta/deals/orchard-h...</td>\n",
       "      <td>Atlanta</td>\n",
       "      <td>99</td>\n",
       "      <td>54</td>\n",
       "      <td>55</td>\n",
       "      <td>352</td>\n",
       "      <td>0</td>\n",
       "      <td>0</td>\n",
       "      <td>8:41:00</td>\n",
       "      <td>20</td>\n",
       "      <td>1/3/2011</td>\n",
       "      <td>Mon</td>\n",
       "      <td>2</td>\n",
       "      <td>0</td>\n",
       "      <td>Health &amp; Fitness</td>\n",
       "      <td>28.0</td>\n",
       "    </tr>\n",
       "    <tr>\n",
       "      <th>3</th>\n",
       "      <td>http://www.groupon.com/atlanta/deals/spa-bolena</td>\n",
       "      <td>Atlanta</td>\n",
       "      <td>65</td>\n",
       "      <td>35</td>\n",
       "      <td>54</td>\n",
       "      <td>501</td>\n",
       "      <td>0</td>\n",
       "      <td>0</td>\n",
       "      <td>7:15:00</td>\n",
       "      <td>20</td>\n",
       "      <td>1/3/2011</td>\n",
       "      <td>Mon</td>\n",
       "      <td>1</td>\n",
       "      <td>0</td>\n",
       "      <td>Beauty &amp; Spas</td>\n",
       "      <td>27.0</td>\n",
       "    </tr>\n",
       "    <tr>\n",
       "      <th>4</th>\n",
       "      <td>http://www.groupon.com/atlanta/deals/the-stova...</td>\n",
       "      <td>Atlanta</td>\n",
       "      <td>134</td>\n",
       "      <td>67</td>\n",
       "      <td>50</td>\n",
       "      <td>359</td>\n",
       "      <td>1</td>\n",
       "      <td>0</td>\n",
       "      <td>1:50:00</td>\n",
       "      <td>5</td>\n",
       "      <td>1/3/2011</td>\n",
       "      <td>Mon</td>\n",
       "      <td>2</td>\n",
       "      <td>0</td>\n",
       "      <td>Travel</td>\n",
       "      <td>36.0</td>\n",
       "    </tr>\n",
       "  </tbody>\n",
       "</table>\n",
       "</div>"
      ],
      "text/plain": [
       "                                                 url     city  value  \\\n",
       "0  http://www.groupon.com/atlanta/deals/buckhead-...  Atlanta     30   \n",
       "1  http://www.groupon.com/atlanta/deals/european-...  Atlanta     70   \n",
       "2  http://www.groupon.com/atlanta/deals/orchard-h...  Atlanta     99   \n",
       "3    http://www.groupon.com/atlanta/deals/spa-bolena  Atlanta     65   \n",
       "4  http://www.groupon.com/atlanta/deals/the-stova...  Atlanta    134   \n",
       "\n",
       "   you_save  discount_pct  num_sold  limited_quantity  sold_out tipped_at  \\\n",
       "0        15            50       108                 0         0  10:26:00   \n",
       "1        35            50       255                 0         0   7:26:00   \n",
       "2        54            55       352                 0         0   8:41:00   \n",
       "3        35            54       501                 0         0   7:15:00   \n",
       "4        67            50       359                 1         0   1:50:00   \n",
       "\n",
       "   tips_with started_at weekday_start  duration  featured          category  \\\n",
       "0         25   1/3/2011           Mon         1         1         Nightlife   \n",
       "1         10   1/3/2011           Mon         1         0     Beauty & Spas   \n",
       "2         20   1/3/2011           Mon         2         0  Health & Fitness   \n",
       "3         20   1/3/2011           Mon         1         0     Beauty & Spas   \n",
       "4          5   1/3/2011           Mon         2         0            Travel   \n",
       "\n",
       "   likes  \n",
       "0   14.0  \n",
       "1   20.0  \n",
       "2   28.0  \n",
       "3   27.0  \n",
       "4   36.0  "
      ]
     },
     "execution_count": 603,
     "metadata": {},
     "output_type": "execute_result"
    }
   ],
   "source": [
    "groupon_data = pd.read_csv('groupon-deals.csv')\n",
    "groupon_data.head()"
   ]
  },
  {
   "cell_type": "code",
   "execution_count": 604,
   "metadata": {},
   "outputs": [
    {
     "data": {
      "text/plain": [
       "(16692, 16)"
      ]
     },
     "execution_count": 604,
     "metadata": {},
     "output_type": "execute_result"
    }
   ],
   "source": [
    "groupon_data.shape"
   ]
  },
  {
   "cell_type": "markdown",
   "metadata": {},
   "source": [
    "Now we will transform the categorical values into binary vectors."
   ]
  },
  {
   "cell_type": "code",
   "execution_count": 605,
   "metadata": {
    "collapsed": true
   },
   "outputs": [],
   "source": [
    "def one_hot_encoding(df, column):\n",
    "    categories = df[column].unique()\n",
    "    for x in range(len(categories)):\n",
    "        df[categories[x]] = (groupon_data[column] == categories[x]) * 1  # plus one to force to be an integer\n"
   ]
  },
  {
   "cell_type": "code",
   "execution_count": 606,
   "metadata": {},
   "outputs": [
    {
     "data": {
      "text/html": [
       "<div>\n",
       "<style>\n",
       "    .dataframe thead tr:only-child th {\n",
       "        text-align: right;\n",
       "    }\n",
       "\n",
       "    .dataframe thead th {\n",
       "        text-align: left;\n",
       "    }\n",
       "\n",
       "    .dataframe tbody tr th {\n",
       "        vertical-align: top;\n",
       "    }\n",
       "</style>\n",
       "<table border=\"1\" class=\"dataframe\">\n",
       "  <thead>\n",
       "    <tr style=\"text-align: right;\">\n",
       "      <th></th>\n",
       "      <th>url</th>\n",
       "      <th>city</th>\n",
       "      <th>value</th>\n",
       "      <th>you_save</th>\n",
       "      <th>discount_pct</th>\n",
       "      <th>num_sold</th>\n",
       "      <th>limited_quantity</th>\n",
       "      <th>sold_out</th>\n",
       "      <th>tipped_at</th>\n",
       "      <th>tips_with</th>\n",
       "      <th>...</th>\n",
       "      <th>Restaurants</th>\n",
       "      <th>Arts and Entertainment</th>\n",
       "      <th>Other</th>\n",
       "      <th>Home Services</th>\n",
       "      <th>Automotive</th>\n",
       "      <th>Pets</th>\n",
       "      <th>Real Estate</th>\n",
       "      <th>Financial Services</th>\n",
       "      <th>Public Services &amp; Government</th>\n",
       "      <th>Legal Services</th>\n",
       "    </tr>\n",
       "  </thead>\n",
       "  <tbody>\n",
       "    <tr>\n",
       "      <th>0</th>\n",
       "      <td>http://www.groupon.com/atlanta/deals/buckhead-...</td>\n",
       "      <td>Atlanta</td>\n",
       "      <td>30</td>\n",
       "      <td>15</td>\n",
       "      <td>50</td>\n",
       "      <td>108</td>\n",
       "      <td>0</td>\n",
       "      <td>0</td>\n",
       "      <td>10:26:00</td>\n",
       "      <td>25</td>\n",
       "      <td>...</td>\n",
       "      <td>0</td>\n",
       "      <td>0</td>\n",
       "      <td>0</td>\n",
       "      <td>0</td>\n",
       "      <td>0</td>\n",
       "      <td>0</td>\n",
       "      <td>0</td>\n",
       "      <td>0</td>\n",
       "      <td>0</td>\n",
       "      <td>0</td>\n",
       "    </tr>\n",
       "    <tr>\n",
       "      <th>1</th>\n",
       "      <td>http://www.groupon.com/atlanta/deals/european-...</td>\n",
       "      <td>Atlanta</td>\n",
       "      <td>70</td>\n",
       "      <td>35</td>\n",
       "      <td>50</td>\n",
       "      <td>255</td>\n",
       "      <td>0</td>\n",
       "      <td>0</td>\n",
       "      <td>7:26:00</td>\n",
       "      <td>10</td>\n",
       "      <td>...</td>\n",
       "      <td>0</td>\n",
       "      <td>0</td>\n",
       "      <td>0</td>\n",
       "      <td>0</td>\n",
       "      <td>0</td>\n",
       "      <td>0</td>\n",
       "      <td>0</td>\n",
       "      <td>0</td>\n",
       "      <td>0</td>\n",
       "      <td>0</td>\n",
       "    </tr>\n",
       "    <tr>\n",
       "      <th>2</th>\n",
       "      <td>http://www.groupon.com/atlanta/deals/orchard-h...</td>\n",
       "      <td>Atlanta</td>\n",
       "      <td>99</td>\n",
       "      <td>54</td>\n",
       "      <td>55</td>\n",
       "      <td>352</td>\n",
       "      <td>0</td>\n",
       "      <td>0</td>\n",
       "      <td>8:41:00</td>\n",
       "      <td>20</td>\n",
       "      <td>...</td>\n",
       "      <td>0</td>\n",
       "      <td>0</td>\n",
       "      <td>0</td>\n",
       "      <td>0</td>\n",
       "      <td>0</td>\n",
       "      <td>0</td>\n",
       "      <td>0</td>\n",
       "      <td>0</td>\n",
       "      <td>0</td>\n",
       "      <td>0</td>\n",
       "    </tr>\n",
       "    <tr>\n",
       "      <th>3</th>\n",
       "      <td>http://www.groupon.com/atlanta/deals/spa-bolena</td>\n",
       "      <td>Atlanta</td>\n",
       "      <td>65</td>\n",
       "      <td>35</td>\n",
       "      <td>54</td>\n",
       "      <td>501</td>\n",
       "      <td>0</td>\n",
       "      <td>0</td>\n",
       "      <td>7:15:00</td>\n",
       "      <td>20</td>\n",
       "      <td>...</td>\n",
       "      <td>0</td>\n",
       "      <td>0</td>\n",
       "      <td>0</td>\n",
       "      <td>0</td>\n",
       "      <td>0</td>\n",
       "      <td>0</td>\n",
       "      <td>0</td>\n",
       "      <td>0</td>\n",
       "      <td>0</td>\n",
       "      <td>0</td>\n",
       "    </tr>\n",
       "    <tr>\n",
       "      <th>4</th>\n",
       "      <td>http://www.groupon.com/atlanta/deals/the-stova...</td>\n",
       "      <td>Atlanta</td>\n",
       "      <td>134</td>\n",
       "      <td>67</td>\n",
       "      <td>50</td>\n",
       "      <td>359</td>\n",
       "      <td>1</td>\n",
       "      <td>0</td>\n",
       "      <td>1:50:00</td>\n",
       "      <td>5</td>\n",
       "      <td>...</td>\n",
       "      <td>0</td>\n",
       "      <td>0</td>\n",
       "      <td>0</td>\n",
       "      <td>0</td>\n",
       "      <td>0</td>\n",
       "      <td>0</td>\n",
       "      <td>0</td>\n",
       "      <td>0</td>\n",
       "      <td>0</td>\n",
       "      <td>0</td>\n",
       "    </tr>\n",
       "  </tbody>\n",
       "</table>\n",
       "<p>5 rows × 34 columns</p>\n",
       "</div>"
      ],
      "text/plain": [
       "                                                 url     city  value  \\\n",
       "0  http://www.groupon.com/atlanta/deals/buckhead-...  Atlanta     30   \n",
       "1  http://www.groupon.com/atlanta/deals/european-...  Atlanta     70   \n",
       "2  http://www.groupon.com/atlanta/deals/orchard-h...  Atlanta     99   \n",
       "3    http://www.groupon.com/atlanta/deals/spa-bolena  Atlanta     65   \n",
       "4  http://www.groupon.com/atlanta/deals/the-stova...  Atlanta    134   \n",
       "\n",
       "   you_save  discount_pct  num_sold  limited_quantity  sold_out tipped_at  \\\n",
       "0        15            50       108                 0         0  10:26:00   \n",
       "1        35            50       255                 0         0   7:26:00   \n",
       "2        54            55       352                 0         0   8:41:00   \n",
       "3        35            54       501                 0         0   7:15:00   \n",
       "4        67            50       359                 1         0   1:50:00   \n",
       "\n",
       "   tips_with       ...       Restaurants Arts and Entertainment  Other  \\\n",
       "0         25       ...                 0                      0      0   \n",
       "1         10       ...                 0                      0      0   \n",
       "2         20       ...                 0                      0      0   \n",
       "3         20       ...                 0                      0      0   \n",
       "4          5       ...                 0                      0      0   \n",
       "\n",
       "   Home Services Automotive  Pets  Real Estate  Financial Services  \\\n",
       "0              0          0     0            0                   0   \n",
       "1              0          0     0            0                   0   \n",
       "2              0          0     0            0                   0   \n",
       "3              0          0     0            0                   0   \n",
       "4              0          0     0            0                   0   \n",
       "\n",
       "   Public Services & Government  Legal Services  \n",
       "0                             0               0  \n",
       "1                             0               0  \n",
       "2                             0               0  \n",
       "3                             0               0  \n",
       "4                             0               0  \n",
       "\n",
       "[5 rows x 34 columns]"
      ]
     },
     "execution_count": 606,
     "metadata": {},
     "output_type": "execute_result"
    }
   ],
   "source": [
    "one_hot_encoding(groupon_data, 'category')\n",
    "groupon_data.head()"
   ]
  },
  {
   "cell_type": "code",
   "execution_count": 607,
   "metadata": {},
   "outputs": [
    {
     "data": {
      "text/html": [
       "<div>\n",
       "<style>\n",
       "    .dataframe thead tr:only-child th {\n",
       "        text-align: right;\n",
       "    }\n",
       "\n",
       "    .dataframe thead th {\n",
       "        text-align: left;\n",
       "    }\n",
       "\n",
       "    .dataframe tbody tr th {\n",
       "        vertical-align: top;\n",
       "    }\n",
       "</style>\n",
       "<table border=\"1\" class=\"dataframe\">\n",
       "  <thead>\n",
       "    <tr style=\"text-align: right;\">\n",
       "      <th></th>\n",
       "      <th>url</th>\n",
       "      <th>city</th>\n",
       "      <th>value</th>\n",
       "      <th>you_save</th>\n",
       "      <th>discount_pct</th>\n",
       "      <th>num_sold</th>\n",
       "      <th>limited_quantity</th>\n",
       "      <th>sold_out</th>\n",
       "      <th>tipped_at</th>\n",
       "      <th>tips_with</th>\n",
       "      <th>...</th>\n",
       "      <th>Financial Services</th>\n",
       "      <th>Public Services &amp; Government</th>\n",
       "      <th>Legal Services</th>\n",
       "      <th>Mon</th>\n",
       "      <th>Tue</th>\n",
       "      <th>Wed</th>\n",
       "      <th>Thu</th>\n",
       "      <th>Fri</th>\n",
       "      <th>Sat</th>\n",
       "      <th>Sun</th>\n",
       "    </tr>\n",
       "  </thead>\n",
       "  <tbody>\n",
       "    <tr>\n",
       "      <th>0</th>\n",
       "      <td>http://www.groupon.com/atlanta/deals/buckhead-...</td>\n",
       "      <td>Atlanta</td>\n",
       "      <td>30</td>\n",
       "      <td>15</td>\n",
       "      <td>50</td>\n",
       "      <td>108</td>\n",
       "      <td>0</td>\n",
       "      <td>0</td>\n",
       "      <td>10:26:00</td>\n",
       "      <td>25</td>\n",
       "      <td>...</td>\n",
       "      <td>0</td>\n",
       "      <td>0</td>\n",
       "      <td>0</td>\n",
       "      <td>1</td>\n",
       "      <td>0</td>\n",
       "      <td>0</td>\n",
       "      <td>0</td>\n",
       "      <td>0</td>\n",
       "      <td>0</td>\n",
       "      <td>0</td>\n",
       "    </tr>\n",
       "    <tr>\n",
       "      <th>1</th>\n",
       "      <td>http://www.groupon.com/atlanta/deals/european-...</td>\n",
       "      <td>Atlanta</td>\n",
       "      <td>70</td>\n",
       "      <td>35</td>\n",
       "      <td>50</td>\n",
       "      <td>255</td>\n",
       "      <td>0</td>\n",
       "      <td>0</td>\n",
       "      <td>7:26:00</td>\n",
       "      <td>10</td>\n",
       "      <td>...</td>\n",
       "      <td>0</td>\n",
       "      <td>0</td>\n",
       "      <td>0</td>\n",
       "      <td>1</td>\n",
       "      <td>0</td>\n",
       "      <td>0</td>\n",
       "      <td>0</td>\n",
       "      <td>0</td>\n",
       "      <td>0</td>\n",
       "      <td>0</td>\n",
       "    </tr>\n",
       "    <tr>\n",
       "      <th>2</th>\n",
       "      <td>http://www.groupon.com/atlanta/deals/orchard-h...</td>\n",
       "      <td>Atlanta</td>\n",
       "      <td>99</td>\n",
       "      <td>54</td>\n",
       "      <td>55</td>\n",
       "      <td>352</td>\n",
       "      <td>0</td>\n",
       "      <td>0</td>\n",
       "      <td>8:41:00</td>\n",
       "      <td>20</td>\n",
       "      <td>...</td>\n",
       "      <td>0</td>\n",
       "      <td>0</td>\n",
       "      <td>0</td>\n",
       "      <td>1</td>\n",
       "      <td>0</td>\n",
       "      <td>0</td>\n",
       "      <td>0</td>\n",
       "      <td>0</td>\n",
       "      <td>0</td>\n",
       "      <td>0</td>\n",
       "    </tr>\n",
       "    <tr>\n",
       "      <th>3</th>\n",
       "      <td>http://www.groupon.com/atlanta/deals/spa-bolena</td>\n",
       "      <td>Atlanta</td>\n",
       "      <td>65</td>\n",
       "      <td>35</td>\n",
       "      <td>54</td>\n",
       "      <td>501</td>\n",
       "      <td>0</td>\n",
       "      <td>0</td>\n",
       "      <td>7:15:00</td>\n",
       "      <td>20</td>\n",
       "      <td>...</td>\n",
       "      <td>0</td>\n",
       "      <td>0</td>\n",
       "      <td>0</td>\n",
       "      <td>1</td>\n",
       "      <td>0</td>\n",
       "      <td>0</td>\n",
       "      <td>0</td>\n",
       "      <td>0</td>\n",
       "      <td>0</td>\n",
       "      <td>0</td>\n",
       "    </tr>\n",
       "    <tr>\n",
       "      <th>4</th>\n",
       "      <td>http://www.groupon.com/atlanta/deals/the-stova...</td>\n",
       "      <td>Atlanta</td>\n",
       "      <td>134</td>\n",
       "      <td>67</td>\n",
       "      <td>50</td>\n",
       "      <td>359</td>\n",
       "      <td>1</td>\n",
       "      <td>0</td>\n",
       "      <td>1:50:00</td>\n",
       "      <td>5</td>\n",
       "      <td>...</td>\n",
       "      <td>0</td>\n",
       "      <td>0</td>\n",
       "      <td>0</td>\n",
       "      <td>1</td>\n",
       "      <td>0</td>\n",
       "      <td>0</td>\n",
       "      <td>0</td>\n",
       "      <td>0</td>\n",
       "      <td>0</td>\n",
       "      <td>0</td>\n",
       "    </tr>\n",
       "  </tbody>\n",
       "</table>\n",
       "<p>5 rows × 41 columns</p>\n",
       "</div>"
      ],
      "text/plain": [
       "                                                 url     city  value  \\\n",
       "0  http://www.groupon.com/atlanta/deals/buckhead-...  Atlanta     30   \n",
       "1  http://www.groupon.com/atlanta/deals/european-...  Atlanta     70   \n",
       "2  http://www.groupon.com/atlanta/deals/orchard-h...  Atlanta     99   \n",
       "3    http://www.groupon.com/atlanta/deals/spa-bolena  Atlanta     65   \n",
       "4  http://www.groupon.com/atlanta/deals/the-stova...  Atlanta    134   \n",
       "\n",
       "   you_save  discount_pct  num_sold  limited_quantity  sold_out tipped_at  \\\n",
       "0        15            50       108                 0         0  10:26:00   \n",
       "1        35            50       255                 0         0   7:26:00   \n",
       "2        54            55       352                 0         0   8:41:00   \n",
       "3        35            54       501                 0         0   7:15:00   \n",
       "4        67            50       359                 1         0   1:50:00   \n",
       "\n",
       "   tips_with ...  Financial Services Public Services & Government  \\\n",
       "0         25 ...                   0                            0   \n",
       "1         10 ...                   0                            0   \n",
       "2         20 ...                   0                            0   \n",
       "3         20 ...                   0                            0   \n",
       "4          5 ...                   0                            0   \n",
       "\n",
       "   Legal Services  Mon Tue  Wed  Thu  Fri  Sat  Sun  \n",
       "0               0    1   0    0    0    0    0    0  \n",
       "1               0    1   0    0    0    0    0    0  \n",
       "2               0    1   0    0    0    0    0    0  \n",
       "3               0    1   0    0    0    0    0    0  \n",
       "4               0    1   0    0    0    0    0    0  \n",
       "\n",
       "[5 rows x 41 columns]"
      ]
     },
     "execution_count": 607,
     "metadata": {},
     "output_type": "execute_result"
    }
   ],
   "source": [
    "one_hot_encoding(groupon_data, 'weekday_start')\n",
    "groupon_data.head()"
   ]
  },
  {
   "cell_type": "code",
   "execution_count": 608,
   "metadata": {},
   "outputs": [
    {
     "data": {
      "text/html": [
       "<div>\n",
       "<style>\n",
       "    .dataframe thead tr:only-child th {\n",
       "        text-align: right;\n",
       "    }\n",
       "\n",
       "    .dataframe thead th {\n",
       "        text-align: left;\n",
       "    }\n",
       "\n",
       "    .dataframe tbody tr th {\n",
       "        vertical-align: top;\n",
       "    }\n",
       "</style>\n",
       "<table border=\"1\" class=\"dataframe\">\n",
       "  <thead>\n",
       "    <tr style=\"text-align: right;\">\n",
       "      <th></th>\n",
       "      <th>url</th>\n",
       "      <th>city</th>\n",
       "      <th>value</th>\n",
       "      <th>you_save</th>\n",
       "      <th>discount_pct</th>\n",
       "      <th>num_sold</th>\n",
       "      <th>limited_quantity</th>\n",
       "      <th>sold_out</th>\n",
       "      <th>tipped_at</th>\n",
       "      <th>tips_with</th>\n",
       "      <th>...</th>\n",
       "      <th>New York City</th>\n",
       "      <th>Orlando</th>\n",
       "      <th>Philadelphia</th>\n",
       "      <th>San Diego</th>\n",
       "      <th>San Francisco</th>\n",
       "      <th>San Jose</th>\n",
       "      <th>Seattle</th>\n",
       "      <th>Tallahassee</th>\n",
       "      <th>Vancouver</th>\n",
       "      <th>Washington DC</th>\n",
       "    </tr>\n",
       "  </thead>\n",
       "  <tbody>\n",
       "    <tr>\n",
       "      <th>0</th>\n",
       "      <td>http://www.groupon.com/atlanta/deals/buckhead-...</td>\n",
       "      <td>Atlanta</td>\n",
       "      <td>30</td>\n",
       "      <td>15</td>\n",
       "      <td>50</td>\n",
       "      <td>108</td>\n",
       "      <td>0</td>\n",
       "      <td>0</td>\n",
       "      <td>10:26:00</td>\n",
       "      <td>25</td>\n",
       "      <td>...</td>\n",
       "      <td>0</td>\n",
       "      <td>0</td>\n",
       "      <td>0</td>\n",
       "      <td>0</td>\n",
       "      <td>0</td>\n",
       "      <td>0</td>\n",
       "      <td>0</td>\n",
       "      <td>0</td>\n",
       "      <td>0</td>\n",
       "      <td>0</td>\n",
       "    </tr>\n",
       "    <tr>\n",
       "      <th>1</th>\n",
       "      <td>http://www.groupon.com/atlanta/deals/european-...</td>\n",
       "      <td>Atlanta</td>\n",
       "      <td>70</td>\n",
       "      <td>35</td>\n",
       "      <td>50</td>\n",
       "      <td>255</td>\n",
       "      <td>0</td>\n",
       "      <td>0</td>\n",
       "      <td>7:26:00</td>\n",
       "      <td>10</td>\n",
       "      <td>...</td>\n",
       "      <td>0</td>\n",
       "      <td>0</td>\n",
       "      <td>0</td>\n",
       "      <td>0</td>\n",
       "      <td>0</td>\n",
       "      <td>0</td>\n",
       "      <td>0</td>\n",
       "      <td>0</td>\n",
       "      <td>0</td>\n",
       "      <td>0</td>\n",
       "    </tr>\n",
       "    <tr>\n",
       "      <th>2</th>\n",
       "      <td>http://www.groupon.com/atlanta/deals/orchard-h...</td>\n",
       "      <td>Atlanta</td>\n",
       "      <td>99</td>\n",
       "      <td>54</td>\n",
       "      <td>55</td>\n",
       "      <td>352</td>\n",
       "      <td>0</td>\n",
       "      <td>0</td>\n",
       "      <td>8:41:00</td>\n",
       "      <td>20</td>\n",
       "      <td>...</td>\n",
       "      <td>0</td>\n",
       "      <td>0</td>\n",
       "      <td>0</td>\n",
       "      <td>0</td>\n",
       "      <td>0</td>\n",
       "      <td>0</td>\n",
       "      <td>0</td>\n",
       "      <td>0</td>\n",
       "      <td>0</td>\n",
       "      <td>0</td>\n",
       "    </tr>\n",
       "    <tr>\n",
       "      <th>3</th>\n",
       "      <td>http://www.groupon.com/atlanta/deals/spa-bolena</td>\n",
       "      <td>Atlanta</td>\n",
       "      <td>65</td>\n",
       "      <td>35</td>\n",
       "      <td>54</td>\n",
       "      <td>501</td>\n",
       "      <td>0</td>\n",
       "      <td>0</td>\n",
       "      <td>7:15:00</td>\n",
       "      <td>20</td>\n",
       "      <td>...</td>\n",
       "      <td>0</td>\n",
       "      <td>0</td>\n",
       "      <td>0</td>\n",
       "      <td>0</td>\n",
       "      <td>0</td>\n",
       "      <td>0</td>\n",
       "      <td>0</td>\n",
       "      <td>0</td>\n",
       "      <td>0</td>\n",
       "      <td>0</td>\n",
       "    </tr>\n",
       "    <tr>\n",
       "      <th>4</th>\n",
       "      <td>http://www.groupon.com/atlanta/deals/the-stova...</td>\n",
       "      <td>Atlanta</td>\n",
       "      <td>134</td>\n",
       "      <td>67</td>\n",
       "      <td>50</td>\n",
       "      <td>359</td>\n",
       "      <td>1</td>\n",
       "      <td>0</td>\n",
       "      <td>1:50:00</td>\n",
       "      <td>5</td>\n",
       "      <td>...</td>\n",
       "      <td>0</td>\n",
       "      <td>0</td>\n",
       "      <td>0</td>\n",
       "      <td>0</td>\n",
       "      <td>0</td>\n",
       "      <td>0</td>\n",
       "      <td>0</td>\n",
       "      <td>0</td>\n",
       "      <td>0</td>\n",
       "      <td>0</td>\n",
       "    </tr>\n",
       "  </tbody>\n",
       "</table>\n",
       "<p>5 rows × 61 columns</p>\n",
       "</div>"
      ],
      "text/plain": [
       "                                                 url     city  value  \\\n",
       "0  http://www.groupon.com/atlanta/deals/buckhead-...  Atlanta     30   \n",
       "1  http://www.groupon.com/atlanta/deals/european-...  Atlanta     70   \n",
       "2  http://www.groupon.com/atlanta/deals/orchard-h...  Atlanta     99   \n",
       "3    http://www.groupon.com/atlanta/deals/spa-bolena  Atlanta     65   \n",
       "4  http://www.groupon.com/atlanta/deals/the-stova...  Atlanta    134   \n",
       "\n",
       "   you_save  discount_pct  num_sold  limited_quantity  sold_out tipped_at  \\\n",
       "0        15            50       108                 0         0  10:26:00   \n",
       "1        35            50       255                 0         0   7:26:00   \n",
       "2        54            55       352                 0         0   8:41:00   \n",
       "3        35            54       501                 0         0   7:15:00   \n",
       "4        67            50       359                 1         0   1:50:00   \n",
       "\n",
       "   tips_with      ...       New York City Orlando  Philadelphia  San Diego  \\\n",
       "0         25      ...                   0       0             0          0   \n",
       "1         10      ...                   0       0             0          0   \n",
       "2         20      ...                   0       0             0          0   \n",
       "3         20      ...                   0       0             0          0   \n",
       "4          5      ...                   0       0             0          0   \n",
       "\n",
       "  San Francisco  San Jose  Seattle  Tallahassee  Vancouver  Washington DC  \n",
       "0             0         0        0            0          0              0  \n",
       "1             0         0        0            0          0              0  \n",
       "2             0         0        0            0          0              0  \n",
       "3             0         0        0            0          0              0  \n",
       "4             0         0        0            0          0              0  \n",
       "\n",
       "[5 rows x 61 columns]"
      ]
     },
     "execution_count": 608,
     "metadata": {},
     "output_type": "execute_result"
    }
   ],
   "source": [
    "one_hot_encoding(groupon_data, 'city')\n",
    "groupon_data.head()"
   ]
  },
  {
   "cell_type": "code",
   "execution_count": 609,
   "metadata": {},
   "outputs": [
    {
     "data": {
      "text/plain": [
       "[['Nightlife'],\n",
       " ['Beauty & Spas'],\n",
       " ['Health & Fitness'],\n",
       " ['Travel'],\n",
       " ['Shopping'],\n",
       " ['Professional Services'],\n",
       " ['Education'],\n",
       " ['Food & Drink'],\n",
       " ['Restaurants'],\n",
       " ['Arts and Entertainment'],\n",
       " ['Other'],\n",
       " ['Home Services'],\n",
       " ['Automotive'],\n",
       " ['Pets'],\n",
       " ['Real Estate'],\n",
       " ['Financial Services'],\n",
       " ['Public Services & Government'],\n",
       " ['Legal Services']]"
      ]
     },
     "execution_count": 609,
     "metadata": {},
     "output_type": "execute_result"
    }
   ],
   "source": [
    "categories = groupon_data['category'].unique().reshape(-1, 1).tolist()\n",
    "categories"
   ]
  },
  {
   "cell_type": "code",
   "execution_count": 610,
   "metadata": {},
   "outputs": [
    {
     "data": {
      "text/plain": [
       "[['Mon'], ['Tue'], ['Wed'], ['Thu'], ['Fri'], ['Sat'], ['Sun']]"
      ]
     },
     "execution_count": 610,
     "metadata": {},
     "output_type": "execute_result"
    }
   ],
   "source": [
    "weekday = groupon_data['weekday_start'].unique().reshape(-1, 1).tolist()\n",
    "weekday"
   ]
  },
  {
   "cell_type": "code",
   "execution_count": 611,
   "metadata": {},
   "outputs": [
    {
     "data": {
      "text/plain": [
       "array(['Atlanta', 'Boston', 'Chicago', 'Dallas', 'Detroit', 'Houston',\n",
       "       'Las Vegas', 'Los Angeles', 'Miami', 'New Orleans', 'New York City',\n",
       "       'Orlando', 'Philadelphia', 'San Diego', 'San Francisco', 'San Jose',\n",
       "       'Seattle', 'Tallahassee', 'Vancouver', 'Washington DC'], dtype=object)"
      ]
     },
     "execution_count": 611,
     "metadata": {},
     "output_type": "execute_result"
    }
   ],
   "source": [
    "city = groupon_data['city'].unique()\n",
    "city"
   ]
  },
  {
   "cell_type": "code",
   "execution_count": 612,
   "metadata": {},
   "outputs": [
    {
     "data": {
      "text/plain": [
       "['value',\n",
       " 'discount_pct',\n",
       " 'duration',\n",
       " 'featured',\n",
       " 'limited_quantity',\n",
       " 'you_save',\n",
       " 'Mon',\n",
       " 'Tue',\n",
       " 'Wed',\n",
       " 'Thu',\n",
       " 'Fri',\n",
       " 'Sat',\n",
       " 'Sun',\n",
       " 'num_sold']"
      ]
     },
     "execution_count": 612,
     "metadata": {},
     "output_type": "execute_result"
    }
   ],
   "source": [
    "cols_names = [\"value\", \"discount_pct\", \"duration\", \"featured\", \"limited_quantity\", \"you_save\"]\n",
    "#  cols_names = [\"value\", \"duration\", \"featured\", \"limited_quantity\"]\n",
    "#  cols_names = [\"value\", \"discount_pct\", \"duration\"]\n",
    "desired_columns = cols_names\n",
    "desired_columns += [x[0] for x in weekday]\n",
    "#  desired_columns += [x[0] for x in categories]\n",
    "#  desired_columns += [x for x in city]\n",
    "desired_columns += [\"num_sold\"]\n",
    "desired_columns"
   ]
  },
  {
   "cell_type": "code",
   "execution_count": 613,
   "metadata": {},
   "outputs": [
    {
     "data": {
      "text/html": [
       "<div>\n",
       "<style>\n",
       "    .dataframe thead tr:only-child th {\n",
       "        text-align: right;\n",
       "    }\n",
       "\n",
       "    .dataframe thead th {\n",
       "        text-align: left;\n",
       "    }\n",
       "\n",
       "    .dataframe tbody tr th {\n",
       "        vertical-align: top;\n",
       "    }\n",
       "</style>\n",
       "<table border=\"1\" class=\"dataframe\">\n",
       "  <thead>\n",
       "    <tr style=\"text-align: right;\">\n",
       "      <th></th>\n",
       "      <th>value</th>\n",
       "      <th>discount_pct</th>\n",
       "      <th>duration</th>\n",
       "      <th>featured</th>\n",
       "      <th>limited_quantity</th>\n",
       "      <th>you_save</th>\n",
       "      <th>Mon</th>\n",
       "      <th>Tue</th>\n",
       "      <th>Wed</th>\n",
       "      <th>Thu</th>\n",
       "      <th>Fri</th>\n",
       "      <th>Sat</th>\n",
       "      <th>Sun</th>\n",
       "      <th>num_sold</th>\n",
       "    </tr>\n",
       "  </thead>\n",
       "  <tbody>\n",
       "    <tr>\n",
       "      <th>0</th>\n",
       "      <td>30</td>\n",
       "      <td>50</td>\n",
       "      <td>1</td>\n",
       "      <td>1</td>\n",
       "      <td>0</td>\n",
       "      <td>15</td>\n",
       "      <td>1</td>\n",
       "      <td>0</td>\n",
       "      <td>0</td>\n",
       "      <td>0</td>\n",
       "      <td>0</td>\n",
       "      <td>0</td>\n",
       "      <td>0</td>\n",
       "      <td>108</td>\n",
       "    </tr>\n",
       "    <tr>\n",
       "      <th>1</th>\n",
       "      <td>70</td>\n",
       "      <td>50</td>\n",
       "      <td>1</td>\n",
       "      <td>0</td>\n",
       "      <td>0</td>\n",
       "      <td>35</td>\n",
       "      <td>1</td>\n",
       "      <td>0</td>\n",
       "      <td>0</td>\n",
       "      <td>0</td>\n",
       "      <td>0</td>\n",
       "      <td>0</td>\n",
       "      <td>0</td>\n",
       "      <td>255</td>\n",
       "    </tr>\n",
       "    <tr>\n",
       "      <th>2</th>\n",
       "      <td>99</td>\n",
       "      <td>55</td>\n",
       "      <td>2</td>\n",
       "      <td>0</td>\n",
       "      <td>0</td>\n",
       "      <td>54</td>\n",
       "      <td>1</td>\n",
       "      <td>0</td>\n",
       "      <td>0</td>\n",
       "      <td>0</td>\n",
       "      <td>0</td>\n",
       "      <td>0</td>\n",
       "      <td>0</td>\n",
       "      <td>352</td>\n",
       "    </tr>\n",
       "    <tr>\n",
       "      <th>3</th>\n",
       "      <td>65</td>\n",
       "      <td>54</td>\n",
       "      <td>1</td>\n",
       "      <td>0</td>\n",
       "      <td>0</td>\n",
       "      <td>35</td>\n",
       "      <td>1</td>\n",
       "      <td>0</td>\n",
       "      <td>0</td>\n",
       "      <td>0</td>\n",
       "      <td>0</td>\n",
       "      <td>0</td>\n",
       "      <td>0</td>\n",
       "      <td>501</td>\n",
       "    </tr>\n",
       "    <tr>\n",
       "      <th>4</th>\n",
       "      <td>134</td>\n",
       "      <td>50</td>\n",
       "      <td>2</td>\n",
       "      <td>0</td>\n",
       "      <td>1</td>\n",
       "      <td>67</td>\n",
       "      <td>1</td>\n",
       "      <td>0</td>\n",
       "      <td>0</td>\n",
       "      <td>0</td>\n",
       "      <td>0</td>\n",
       "      <td>0</td>\n",
       "      <td>0</td>\n",
       "      <td>359</td>\n",
       "    </tr>\n",
       "  </tbody>\n",
       "</table>\n",
       "</div>"
      ],
      "text/plain": [
       "   value  discount_pct  duration  featured  limited_quantity  you_save  Mon  \\\n",
       "0     30            50         1         1                 0        15    1   \n",
       "1     70            50         1         0                 0        35    1   \n",
       "2     99            55         2         0                 0        54    1   \n",
       "3     65            54         1         0                 0        35    1   \n",
       "4    134            50         2         0                 1        67    1   \n",
       "\n",
       "   Tue  Wed  Thu  Fri  Sat  Sun  num_sold  \n",
       "0    0    0    0    0    0    0       108  \n",
       "1    0    0    0    0    0    0       255  \n",
       "2    0    0    0    0    0    0       352  \n",
       "3    0    0    0    0    0    0       501  \n",
       "4    0    0    0    0    0    0       359  "
      ]
     },
     "execution_count": 613,
     "metadata": {},
     "output_type": "execute_result"
    }
   ],
   "source": [
    "#  cols_names = [\"city\", \"city_bin\", \"value\", \"discount_pct\", \"duration\", \"featured\", \"limited_quantity\", \"weekday_start\", \"weekday_start_bin\", \"category\", \"category_bin\", \"city_bin\", \"num_sold\"]\n",
    "#  cols_names = [\"city_bin\", \"value\", \"discount_pct\", \"duration\", \n",
    "#                \"featured\", \"limited_quantity\", \"weekday_start_bin\", \"category_bin\", \"city_bin\", \"num_sold\"]\n",
    "#  cols_names = [\"value\", \"discount_pct\", \"duration\", \n",
    "#               \"featured\", \"limited_quantity\", \"num_sold\"]\n",
    "#  cols_names = [\"value\", \"discount_pct\", \"duration\", \"num_sold\"]\n",
    "groupon_data = groupon_data.dropna(axis=0)  # axis = 0 means we drop lines\n",
    "groupon_data = groupon_data.loc[:, desired_columns] \n",
    "groupon_data.head()"
   ]
  },
  {
   "cell_type": "code",
   "execution_count": 614,
   "metadata": {},
   "outputs": [
    {
     "data": {
      "text/html": [
       "<div>\n",
       "<style>\n",
       "    .dataframe thead tr:only-child th {\n",
       "        text-align: right;\n",
       "    }\n",
       "\n",
       "    .dataframe thead th {\n",
       "        text-align: left;\n",
       "    }\n",
       "\n",
       "    .dataframe tbody tr th {\n",
       "        vertical-align: top;\n",
       "    }\n",
       "</style>\n",
       "<table border=\"1\" class=\"dataframe\">\n",
       "  <thead>\n",
       "    <tr style=\"text-align: right;\">\n",
       "      <th></th>\n",
       "      <th>value</th>\n",
       "      <th>discount_pct</th>\n",
       "      <th>duration</th>\n",
       "      <th>featured</th>\n",
       "      <th>limited_quantity</th>\n",
       "      <th>you_save</th>\n",
       "      <th>Mon</th>\n",
       "      <th>Tue</th>\n",
       "      <th>Wed</th>\n",
       "      <th>Thu</th>\n",
       "      <th>Fri</th>\n",
       "      <th>Sat</th>\n",
       "      <th>Sun</th>\n",
       "      <th>num_sold</th>\n",
       "    </tr>\n",
       "  </thead>\n",
       "  <tbody>\n",
       "    <tr>\n",
       "      <th>count</th>\n",
       "      <td>15875.000000</td>\n",
       "      <td>15875.000000</td>\n",
       "      <td>15875.000000</td>\n",
       "      <td>15875.000000</td>\n",
       "      <td>15875.000000</td>\n",
       "      <td>15875.000000</td>\n",
       "      <td>15875.000000</td>\n",
       "      <td>15875.000000</td>\n",
       "      <td>15875.000000</td>\n",
       "      <td>15875.000000</td>\n",
       "      <td>15875.000000</td>\n",
       "      <td>15875.000000</td>\n",
       "      <td>15875.000000</td>\n",
       "      <td>15875.000000</td>\n",
       "    </tr>\n",
       "    <tr>\n",
       "      <th>mean</th>\n",
       "      <td>128.894677</td>\n",
       "      <td>56.156976</td>\n",
       "      <td>2.185638</td>\n",
       "      <td>0.220157</td>\n",
       "      <td>0.299402</td>\n",
       "      <td>80.831748</td>\n",
       "      <td>0.182173</td>\n",
       "      <td>0.149606</td>\n",
       "      <td>0.155213</td>\n",
       "      <td>0.152252</td>\n",
       "      <td>0.146394</td>\n",
       "      <td>0.112693</td>\n",
       "      <td>0.101669</td>\n",
       "      <td>691.466331</td>\n",
       "    </tr>\n",
       "    <tr>\n",
       "      <th>std</th>\n",
       "      <td>284.973228</td>\n",
       "      <td>10.027035</td>\n",
       "      <td>1.250121</td>\n",
       "      <td>0.414366</td>\n",
       "      <td>0.458010</td>\n",
       "      <td>185.238714</td>\n",
       "      <td>0.385999</td>\n",
       "      <td>0.356696</td>\n",
       "      <td>0.362119</td>\n",
       "      <td>0.359276</td>\n",
       "      <td>0.353512</td>\n",
       "      <td>0.316227</td>\n",
       "      <td>0.302222</td>\n",
       "      <td>1606.329879</td>\n",
       "    </tr>\n",
       "    <tr>\n",
       "      <th>min</th>\n",
       "      <td>4.000000</td>\n",
       "      <td>0.000000</td>\n",
       "      <td>0.000000</td>\n",
       "      <td>0.000000</td>\n",
       "      <td>0.000000</td>\n",
       "      <td>0.000000</td>\n",
       "      <td>0.000000</td>\n",
       "      <td>0.000000</td>\n",
       "      <td>0.000000</td>\n",
       "      <td>0.000000</td>\n",
       "      <td>0.000000</td>\n",
       "      <td>0.000000</td>\n",
       "      <td>0.000000</td>\n",
       "      <td>0.000000</td>\n",
       "    </tr>\n",
       "    <tr>\n",
       "      <th>25%</th>\n",
       "      <td>30.000000</td>\n",
       "      <td>50.000000</td>\n",
       "      <td>1.000000</td>\n",
       "      <td>0.000000</td>\n",
       "      <td>0.000000</td>\n",
       "      <td>15.000000</td>\n",
       "      <td>0.000000</td>\n",
       "      <td>0.000000</td>\n",
       "      <td>0.000000</td>\n",
       "      <td>0.000000</td>\n",
       "      <td>0.000000</td>\n",
       "      <td>0.000000</td>\n",
       "      <td>0.000000</td>\n",
       "      <td>131.000000</td>\n",
       "    </tr>\n",
       "    <tr>\n",
       "      <th>50%</th>\n",
       "      <td>55.000000</td>\n",
       "      <td>51.000000</td>\n",
       "      <td>2.000000</td>\n",
       "      <td>0.000000</td>\n",
       "      <td>0.000000</td>\n",
       "      <td>30.000000</td>\n",
       "      <td>0.000000</td>\n",
       "      <td>0.000000</td>\n",
       "      <td>0.000000</td>\n",
       "      <td>0.000000</td>\n",
       "      <td>0.000000</td>\n",
       "      <td>0.000000</td>\n",
       "      <td>0.000000</td>\n",
       "      <td>317.000000</td>\n",
       "    </tr>\n",
       "    <tr>\n",
       "      <th>75%</th>\n",
       "      <td>127.000000</td>\n",
       "      <td>60.000000</td>\n",
       "      <td>3.000000</td>\n",
       "      <td>0.000000</td>\n",
       "      <td>1.000000</td>\n",
       "      <td>75.000000</td>\n",
       "      <td>0.000000</td>\n",
       "      <td>0.000000</td>\n",
       "      <td>0.000000</td>\n",
       "      <td>0.000000</td>\n",
       "      <td>0.000000</td>\n",
       "      <td>0.000000</td>\n",
       "      <td>0.000000</td>\n",
       "      <td>738.000000</td>\n",
       "    </tr>\n",
       "    <tr>\n",
       "      <th>max</th>\n",
       "      <td>6000.000000</td>\n",
       "      <td>99.000000</td>\n",
       "      <td>10.000000</td>\n",
       "      <td>1.000000</td>\n",
       "      <td>1.000000</td>\n",
       "      <td>4901.000000</td>\n",
       "      <td>1.000000</td>\n",
       "      <td>1.000000</td>\n",
       "      <td>1.000000</td>\n",
       "      <td>1.000000</td>\n",
       "      <td>1.000000</td>\n",
       "      <td>1.000000</td>\n",
       "      <td>1.000000</td>\n",
       "      <td>75221.000000</td>\n",
       "    </tr>\n",
       "  </tbody>\n",
       "</table>\n",
       "</div>"
      ],
      "text/plain": [
       "              value  discount_pct      duration      featured  \\\n",
       "count  15875.000000  15875.000000  15875.000000  15875.000000   \n",
       "mean     128.894677     56.156976      2.185638      0.220157   \n",
       "std      284.973228     10.027035      1.250121      0.414366   \n",
       "min        4.000000      0.000000      0.000000      0.000000   \n",
       "25%       30.000000     50.000000      1.000000      0.000000   \n",
       "50%       55.000000     51.000000      2.000000      0.000000   \n",
       "75%      127.000000     60.000000      3.000000      0.000000   \n",
       "max     6000.000000     99.000000     10.000000      1.000000   \n",
       "\n",
       "       limited_quantity      you_save           Mon           Tue  \\\n",
       "count      15875.000000  15875.000000  15875.000000  15875.000000   \n",
       "mean           0.299402     80.831748      0.182173      0.149606   \n",
       "std            0.458010    185.238714      0.385999      0.356696   \n",
       "min            0.000000      0.000000      0.000000      0.000000   \n",
       "25%            0.000000     15.000000      0.000000      0.000000   \n",
       "50%            0.000000     30.000000      0.000000      0.000000   \n",
       "75%            1.000000     75.000000      0.000000      0.000000   \n",
       "max            1.000000   4901.000000      1.000000      1.000000   \n",
       "\n",
       "                Wed           Thu           Fri           Sat           Sun  \\\n",
       "count  15875.000000  15875.000000  15875.000000  15875.000000  15875.000000   \n",
       "mean       0.155213      0.152252      0.146394      0.112693      0.101669   \n",
       "std        0.362119      0.359276      0.353512      0.316227      0.302222   \n",
       "min        0.000000      0.000000      0.000000      0.000000      0.000000   \n",
       "25%        0.000000      0.000000      0.000000      0.000000      0.000000   \n",
       "50%        0.000000      0.000000      0.000000      0.000000      0.000000   \n",
       "75%        0.000000      0.000000      0.000000      0.000000      0.000000   \n",
       "max        1.000000      1.000000      1.000000      1.000000      1.000000   \n",
       "\n",
       "           num_sold  \n",
       "count  15875.000000  \n",
       "mean     691.466331  \n",
       "std     1606.329879  \n",
       "min        0.000000  \n",
       "25%      131.000000  \n",
       "50%      317.000000  \n",
       "75%      738.000000  \n",
       "max    75221.000000  "
      ]
     },
     "execution_count": 614,
     "metadata": {},
     "output_type": "execute_result"
    }
   ],
   "source": [
    "groupon_data.describe()"
   ]
  },
  {
   "cell_type": "code",
   "execution_count": 615,
   "metadata": {},
   "outputs": [
    {
     "data": {
      "text/plain": [
       "value               0\n",
       "discount_pct        0\n",
       "duration            0\n",
       "featured            0\n",
       "limited_quantity    0\n",
       "you_save            0\n",
       "Mon                 0\n",
       "Tue                 0\n",
       "Wed                 0\n",
       "Thu                 0\n",
       "Fri                 0\n",
       "Sat                 0\n",
       "Sun                 0\n",
       "num_sold            0\n",
       "dtype: int64"
      ]
     },
     "execution_count": 615,
     "metadata": {},
     "output_type": "execute_result"
    }
   ],
   "source": [
    "groupon_data.isnull().sum()"
   ]
  },
  {
   "cell_type": "code",
   "execution_count": 616,
   "metadata": {
    "collapsed": true
   },
   "outputs": [],
   "source": [
    "train_data = groupon_data.sample(frac=0.8, random_state=200)\n",
    "test_data  = groupon_data.drop(train_data.index)"
   ]
  },
  {
   "cell_type": "code",
   "execution_count": 617,
   "metadata": {},
   "outputs": [
    {
     "data": {
      "text/html": [
       "<div>\n",
       "<style>\n",
       "    .dataframe thead tr:only-child th {\n",
       "        text-align: right;\n",
       "    }\n",
       "\n",
       "    .dataframe thead th {\n",
       "        text-align: left;\n",
       "    }\n",
       "\n",
       "    .dataframe tbody tr th {\n",
       "        vertical-align: top;\n",
       "    }\n",
       "</style>\n",
       "<table border=\"1\" class=\"dataframe\">\n",
       "  <thead>\n",
       "    <tr style=\"text-align: right;\">\n",
       "      <th></th>\n",
       "      <th>beta zero</th>\n",
       "      <th>value</th>\n",
       "      <th>discount_pct</th>\n",
       "      <th>duration</th>\n",
       "      <th>featured</th>\n",
       "      <th>limited_quantity</th>\n",
       "      <th>you_save</th>\n",
       "      <th>Mon</th>\n",
       "      <th>Tue</th>\n",
       "      <th>Wed</th>\n",
       "      <th>Thu</th>\n",
       "      <th>Fri</th>\n",
       "      <th>Sat</th>\n",
       "      <th>Sun</th>\n",
       "      <th>num_sold</th>\n",
       "    </tr>\n",
       "  </thead>\n",
       "  <tbody>\n",
       "    <tr>\n",
       "      <th>1743</th>\n",
       "      <td>1</td>\n",
       "      <td>3.865481</td>\n",
       "      <td>-0.612869</td>\n",
       "      <td>-0.148726</td>\n",
       "      <td>-0.529846</td>\n",
       "      <td>1.525749</td>\n",
       "      <td>2.904755</td>\n",
       "      <td>-0.472996</td>\n",
       "      <td>-0.4176</td>\n",
       "      <td>-0.430266</td>\n",
       "      <td>2.352124</td>\n",
       "      <td>-0.411340</td>\n",
       "      <td>-0.356617</td>\n",
       "      <td>-0.336664</td>\n",
       "      <td>-0.403580</td>\n",
       "    </tr>\n",
       "    <tr>\n",
       "      <th>4730</th>\n",
       "      <td>1</td>\n",
       "      <td>-0.347054</td>\n",
       "      <td>-0.413237</td>\n",
       "      <td>0.650942</td>\n",
       "      <td>-0.529846</td>\n",
       "      <td>-0.655364</td>\n",
       "      <td>-0.353380</td>\n",
       "      <td>-0.472996</td>\n",
       "      <td>-0.4176</td>\n",
       "      <td>-0.430266</td>\n",
       "      <td>-0.425114</td>\n",
       "      <td>2.430889</td>\n",
       "      <td>-0.356617</td>\n",
       "      <td>-0.336664</td>\n",
       "      <td>0.096546</td>\n",
       "    </tr>\n",
       "    <tr>\n",
       "      <th>10106</th>\n",
       "      <td>1</td>\n",
       "      <td>-0.102099</td>\n",
       "      <td>0.485104</td>\n",
       "      <td>-0.948393</td>\n",
       "      <td>-0.529846</td>\n",
       "      <td>-0.655364</td>\n",
       "      <td>-0.107684</td>\n",
       "      <td>-0.472996</td>\n",
       "      <td>-0.4176</td>\n",
       "      <td>2.323959</td>\n",
       "      <td>-0.425114</td>\n",
       "      <td>-0.411340</td>\n",
       "      <td>-0.356617</td>\n",
       "      <td>-0.336664</td>\n",
       "      <td>-0.395940</td>\n",
       "    </tr>\n",
       "    <tr>\n",
       "      <th>10822</th>\n",
       "      <td>1</td>\n",
       "      <td>-0.171101</td>\n",
       "      <td>-0.013974</td>\n",
       "      <td>3.849611</td>\n",
       "      <td>-0.529846</td>\n",
       "      <td>-0.655364</td>\n",
       "      <td>-0.193143</td>\n",
       "      <td>2.114018</td>\n",
       "      <td>-0.4176</td>\n",
       "      <td>-0.430266</td>\n",
       "      <td>-0.425114</td>\n",
       "      <td>-0.411340</td>\n",
       "      <td>-0.356617</td>\n",
       "      <td>-0.336664</td>\n",
       "      <td>-0.331294</td>\n",
       "    </tr>\n",
       "    <tr>\n",
       "      <th>7355</th>\n",
       "      <td>1</td>\n",
       "      <td>-0.119350</td>\n",
       "      <td>-0.313421</td>\n",
       "      <td>-0.948393</td>\n",
       "      <td>-0.529846</td>\n",
       "      <td>1.525749</td>\n",
       "      <td>-0.166437</td>\n",
       "      <td>2.114018</td>\n",
       "      <td>-0.4176</td>\n",
       "      <td>-0.430266</td>\n",
       "      <td>-0.425114</td>\n",
       "      <td>-0.411340</td>\n",
       "      <td>-0.356617</td>\n",
       "      <td>-0.336664</td>\n",
       "      <td>0.176472</td>\n",
       "    </tr>\n",
       "  </tbody>\n",
       "</table>\n",
       "</div>"
      ],
      "text/plain": [
       "       beta zero     value  discount_pct  duration  featured  \\\n",
       "1743           1  3.865481     -0.612869 -0.148726 -0.529846   \n",
       "4730           1 -0.347054     -0.413237  0.650942 -0.529846   \n",
       "10106          1 -0.102099      0.485104 -0.948393 -0.529846   \n",
       "10822          1 -0.171101     -0.013974  3.849611 -0.529846   \n",
       "7355           1 -0.119350     -0.313421 -0.948393 -0.529846   \n",
       "\n",
       "       limited_quantity  you_save       Mon     Tue       Wed       Thu  \\\n",
       "1743           1.525749  2.904755 -0.472996 -0.4176 -0.430266  2.352124   \n",
       "4730          -0.655364 -0.353380 -0.472996 -0.4176 -0.430266 -0.425114   \n",
       "10106         -0.655364 -0.107684 -0.472996 -0.4176  2.323959 -0.425114   \n",
       "10822         -0.655364 -0.193143  2.114018 -0.4176 -0.430266 -0.425114   \n",
       "7355           1.525749 -0.166437  2.114018 -0.4176 -0.430266 -0.425114   \n",
       "\n",
       "            Fri       Sat       Sun  num_sold  \n",
       "1743  -0.411340 -0.356617 -0.336664 -0.403580  \n",
       "4730   2.430889 -0.356617 -0.336664  0.096546  \n",
       "10106 -0.411340 -0.356617 -0.336664 -0.395940  \n",
       "10822 -0.411340 -0.356617 -0.336664 -0.331294  \n",
       "7355  -0.411340 -0.356617 -0.336664  0.176472  "
      ]
     },
     "execution_count": 617,
     "metadata": {},
     "output_type": "execute_result"
    }
   ],
   "source": [
    "train_data_norm, _, _ = feature_normalize(train_data)\n",
    "cols = train_data_norm.shape[1]\n",
    "train_data_norm.insert(0, 'beta zero', 1)\n",
    "train_data_norm.head()"
   ]
  },
  {
   "cell_type": "code",
   "execution_count": 618,
   "metadata": {},
   "outputs": [
    {
     "data": {
      "text/plain": [
       "(12700, 15)"
      ]
     },
     "execution_count": 618,
     "metadata": {},
     "output_type": "execute_result"
    }
   ],
   "source": [
    "train_data_norm.shape"
   ]
  },
  {
   "cell_type": "code",
   "execution_count": 619,
   "metadata": {},
   "outputs": [
    {
     "data": {
      "text/plain": [
       "(12700, 15)"
      ]
     },
     "execution_count": 619,
     "metadata": {},
     "output_type": "execute_result"
    }
   ],
   "source": [
    "train_data_norm.dropna(how='any')\n",
    "train_data_norm.shape"
   ]
  },
  {
   "cell_type": "code",
   "execution_count": 620,
   "metadata": {},
   "outputs": [
    {
     "data": {
      "text/plain": [
       "beta zero           0\n",
       "value               0\n",
       "discount_pct        0\n",
       "duration            0\n",
       "featured            0\n",
       "limited_quantity    0\n",
       "you_save            0\n",
       "Mon                 0\n",
       "Tue                 0\n",
       "Wed                 0\n",
       "Thu                 0\n",
       "Fri                 0\n",
       "Sat                 0\n",
       "Sun                 0\n",
       "num_sold            0\n",
       "dtype: int64"
      ]
     },
     "execution_count": 620,
     "metadata": {},
     "output_type": "execute_result"
    }
   ],
   "source": [
    "train_data_norm.isnull().sum()"
   ]
  },
  {
   "cell_type": "code",
   "execution_count": 621,
   "metadata": {},
   "outputs": [
    {
     "ename": "KeyError",
     "evalue": "'Legal Services'",
     "output_type": "error",
     "traceback": [
      "\u001b[1;31m---------------------------------------------------------------------------\u001b[0m",
      "\u001b[1;31mKeyError\u001b[0m                                  Traceback (most recent call last)",
      "\u001b[1;32mC:\\Dev\\python\\lib\\site-packages\\pandas\\core\\indexes\\base.py\u001b[0m in \u001b[0;36mget_loc\u001b[1;34m(self, key, method, tolerance)\u001b[0m\n\u001b[0;32m   2392\u001b[0m             \u001b[1;32mtry\u001b[0m\u001b[1;33m:\u001b[0m\u001b[1;33m\u001b[0m\u001b[0m\n\u001b[1;32m-> 2393\u001b[1;33m                 \u001b[1;32mreturn\u001b[0m \u001b[0mself\u001b[0m\u001b[1;33m.\u001b[0m\u001b[0m_engine\u001b[0m\u001b[1;33m.\u001b[0m\u001b[0mget_loc\u001b[0m\u001b[1;33m(\u001b[0m\u001b[0mkey\u001b[0m\u001b[1;33m)\u001b[0m\u001b[1;33m\u001b[0m\u001b[0m\n\u001b[0m\u001b[0;32m   2394\u001b[0m             \u001b[1;32mexcept\u001b[0m \u001b[0mKeyError\u001b[0m\u001b[1;33m:\u001b[0m\u001b[1;33m\u001b[0m\u001b[0m\n",
      "\u001b[1;32mpandas\\_libs\\index.pyx\u001b[0m in \u001b[0;36mpandas._libs.index.IndexEngine.get_loc (pandas\\_libs\\index.c:5239)\u001b[1;34m()\u001b[0m\n",
      "\u001b[1;32mpandas\\_libs\\index.pyx\u001b[0m in \u001b[0;36mpandas._libs.index.IndexEngine.get_loc (pandas\\_libs\\index.c:5085)\u001b[1;34m()\u001b[0m\n",
      "\u001b[1;32mpandas\\_libs\\hashtable_class_helper.pxi\u001b[0m in \u001b[0;36mpandas._libs.hashtable.PyObjectHashTable.get_item (pandas\\_libs\\hashtable.c:20405)\u001b[1;34m()\u001b[0m\n",
      "\u001b[1;32mpandas\\_libs\\hashtable_class_helper.pxi\u001b[0m in \u001b[0;36mpandas._libs.hashtable.PyObjectHashTable.get_item (pandas\\_libs\\hashtable.c:20359)\u001b[1;34m()\u001b[0m\n",
      "\u001b[1;31mKeyError\u001b[0m: 'Legal Services'",
      "\nDuring handling of the above exception, another exception occurred:\n",
      "\u001b[1;31mKeyError\u001b[0m                                  Traceback (most recent call last)",
      "\u001b[1;32m<ipython-input-621-c895b768067f>\u001b[0m in \u001b[0;36m<module>\u001b[1;34m()\u001b[0m\n\u001b[1;32m----> 1\u001b[1;33m \u001b[1;32mdel\u001b[0m \u001b[0mtrain_data_norm\u001b[0m\u001b[1;33m[\u001b[0m\u001b[1;34m\"Legal Services\"\u001b[0m\u001b[1;33m]\u001b[0m\u001b[1;33m\u001b[0m\u001b[0m\n\u001b[0m\u001b[0;32m      2\u001b[0m \u001b[0mtrain_data_norm\u001b[0m\u001b[1;33m.\u001b[0m\u001b[0misnull\u001b[0m\u001b[1;33m(\u001b[0m\u001b[1;33m)\u001b[0m\u001b[1;33m.\u001b[0m\u001b[0msum\u001b[0m\u001b[1;33m(\u001b[0m\u001b[1;33m)\u001b[0m\u001b[1;33m\u001b[0m\u001b[0m\n",
      "\u001b[1;32mC:\\Dev\\python\\lib\\site-packages\\pandas\\core\\generic.py\u001b[0m in \u001b[0;36m__delitem__\u001b[1;34m(self, key)\u001b[0m\n\u001b[0;32m   1788\u001b[0m             \u001b[1;31m# there was no match, this call should raise the appropriate\u001b[0m\u001b[1;33m\u001b[0m\u001b[1;33m\u001b[0m\u001b[0m\n\u001b[0;32m   1789\u001b[0m             \u001b[1;31m# exception:\u001b[0m\u001b[1;33m\u001b[0m\u001b[1;33m\u001b[0m\u001b[0m\n\u001b[1;32m-> 1790\u001b[1;33m             \u001b[0mself\u001b[0m\u001b[1;33m.\u001b[0m\u001b[0m_data\u001b[0m\u001b[1;33m.\u001b[0m\u001b[0mdelete\u001b[0m\u001b[1;33m(\u001b[0m\u001b[0mkey\u001b[0m\u001b[1;33m)\u001b[0m\u001b[1;33m\u001b[0m\u001b[0m\n\u001b[0m\u001b[0;32m   1791\u001b[0m \u001b[1;33m\u001b[0m\u001b[0m\n\u001b[0;32m   1792\u001b[0m         \u001b[1;31m# delete from the caches\u001b[0m\u001b[1;33m\u001b[0m\u001b[1;33m\u001b[0m\u001b[0m\n",
      "\u001b[1;32mC:\\Dev\\python\\lib\\site-packages\\pandas\\core\\internals.py\u001b[0m in \u001b[0;36mdelete\u001b[1;34m(self, item)\u001b[0m\n\u001b[0;32m   3647\u001b[0m         \u001b[0mDelete\u001b[0m \u001b[0mselected\u001b[0m \u001b[0mitem\u001b[0m \u001b[1;33m(\u001b[0m\u001b[0mitems\u001b[0m \u001b[1;32mif\u001b[0m \u001b[0mnon\u001b[0m\u001b[1;33m-\u001b[0m\u001b[0munique\u001b[0m\u001b[1;33m)\u001b[0m \u001b[1;32min\u001b[0m\u001b[1;33m-\u001b[0m\u001b[0mplace\u001b[0m\u001b[1;33m.\u001b[0m\u001b[1;33m\u001b[0m\u001b[0m\n\u001b[0;32m   3648\u001b[0m         \"\"\"\n\u001b[1;32m-> 3649\u001b[1;33m         \u001b[0mindexer\u001b[0m \u001b[1;33m=\u001b[0m \u001b[0mself\u001b[0m\u001b[1;33m.\u001b[0m\u001b[0mitems\u001b[0m\u001b[1;33m.\u001b[0m\u001b[0mget_loc\u001b[0m\u001b[1;33m(\u001b[0m\u001b[0mitem\u001b[0m\u001b[1;33m)\u001b[0m\u001b[1;33m\u001b[0m\u001b[0m\n\u001b[0m\u001b[0;32m   3650\u001b[0m \u001b[1;33m\u001b[0m\u001b[0m\n\u001b[0;32m   3651\u001b[0m         \u001b[0mis_deleted\u001b[0m \u001b[1;33m=\u001b[0m \u001b[0mnp\u001b[0m\u001b[1;33m.\u001b[0m\u001b[0mzeros\u001b[0m\u001b[1;33m(\u001b[0m\u001b[0mself\u001b[0m\u001b[1;33m.\u001b[0m\u001b[0mshape\u001b[0m\u001b[1;33m[\u001b[0m\u001b[1;36m0\u001b[0m\u001b[1;33m]\u001b[0m\u001b[1;33m,\u001b[0m \u001b[0mdtype\u001b[0m\u001b[1;33m=\u001b[0m\u001b[0mnp\u001b[0m\u001b[1;33m.\u001b[0m\u001b[0mbool_\u001b[0m\u001b[1;33m)\u001b[0m\u001b[1;33m\u001b[0m\u001b[0m\n",
      "\u001b[1;32mC:\\Dev\\python\\lib\\site-packages\\pandas\\core\\indexes\\base.py\u001b[0m in \u001b[0;36mget_loc\u001b[1;34m(self, key, method, tolerance)\u001b[0m\n\u001b[0;32m   2393\u001b[0m                 \u001b[1;32mreturn\u001b[0m \u001b[0mself\u001b[0m\u001b[1;33m.\u001b[0m\u001b[0m_engine\u001b[0m\u001b[1;33m.\u001b[0m\u001b[0mget_loc\u001b[0m\u001b[1;33m(\u001b[0m\u001b[0mkey\u001b[0m\u001b[1;33m)\u001b[0m\u001b[1;33m\u001b[0m\u001b[0m\n\u001b[0;32m   2394\u001b[0m             \u001b[1;32mexcept\u001b[0m \u001b[0mKeyError\u001b[0m\u001b[1;33m:\u001b[0m\u001b[1;33m\u001b[0m\u001b[0m\n\u001b[1;32m-> 2395\u001b[1;33m                 \u001b[1;32mreturn\u001b[0m \u001b[0mself\u001b[0m\u001b[1;33m.\u001b[0m\u001b[0m_engine\u001b[0m\u001b[1;33m.\u001b[0m\u001b[0mget_loc\u001b[0m\u001b[1;33m(\u001b[0m\u001b[0mself\u001b[0m\u001b[1;33m.\u001b[0m\u001b[0m_maybe_cast_indexer\u001b[0m\u001b[1;33m(\u001b[0m\u001b[0mkey\u001b[0m\u001b[1;33m)\u001b[0m\u001b[1;33m)\u001b[0m\u001b[1;33m\u001b[0m\u001b[0m\n\u001b[0m\u001b[0;32m   2396\u001b[0m \u001b[1;33m\u001b[0m\u001b[0m\n\u001b[0;32m   2397\u001b[0m         \u001b[0mindexer\u001b[0m \u001b[1;33m=\u001b[0m \u001b[0mself\u001b[0m\u001b[1;33m.\u001b[0m\u001b[0mget_indexer\u001b[0m\u001b[1;33m(\u001b[0m\u001b[1;33m[\u001b[0m\u001b[0mkey\u001b[0m\u001b[1;33m]\u001b[0m\u001b[1;33m,\u001b[0m \u001b[0mmethod\u001b[0m\u001b[1;33m=\u001b[0m\u001b[0mmethod\u001b[0m\u001b[1;33m,\u001b[0m \u001b[0mtolerance\u001b[0m\u001b[1;33m=\u001b[0m\u001b[0mtolerance\u001b[0m\u001b[1;33m)\u001b[0m\u001b[1;33m\u001b[0m\u001b[0m\n",
      "\u001b[1;32mpandas\\_libs\\index.pyx\u001b[0m in \u001b[0;36mpandas._libs.index.IndexEngine.get_loc (pandas\\_libs\\index.c:5239)\u001b[1;34m()\u001b[0m\n",
      "\u001b[1;32mpandas\\_libs\\index.pyx\u001b[0m in \u001b[0;36mpandas._libs.index.IndexEngine.get_loc (pandas\\_libs\\index.c:5085)\u001b[1;34m()\u001b[0m\n",
      "\u001b[1;32mpandas\\_libs\\hashtable_class_helper.pxi\u001b[0m in \u001b[0;36mpandas._libs.hashtable.PyObjectHashTable.get_item (pandas\\_libs\\hashtable.c:20405)\u001b[1;34m()\u001b[0m\n",
      "\u001b[1;32mpandas\\_libs\\hashtable_class_helper.pxi\u001b[0m in \u001b[0;36mpandas._libs.hashtable.PyObjectHashTable.get_item (pandas\\_libs\\hashtable.c:20359)\u001b[1;34m()\u001b[0m\n",
      "\u001b[1;31mKeyError\u001b[0m: 'Legal Services'"
     ]
    }
   ],
   "source": [
    "del train_data_norm[\"Legal Services\"]\n",
    "train_data_norm.isnull().sum()"
   ]
  },
  {
   "cell_type": "code",
   "execution_count": 622,
   "metadata": {},
   "outputs": [
    {
     "data": {
      "text/html": [
       "<div>\n",
       "<style>\n",
       "    .dataframe thead tr:only-child th {\n",
       "        text-align: right;\n",
       "    }\n",
       "\n",
       "    .dataframe thead th {\n",
       "        text-align: left;\n",
       "    }\n",
       "\n",
       "    .dataframe tbody tr th {\n",
       "        vertical-align: top;\n",
       "    }\n",
       "</style>\n",
       "<table border=\"1\" class=\"dataframe\">\n",
       "  <thead>\n",
       "    <tr style=\"text-align: right;\">\n",
       "      <th></th>\n",
       "      <th>beta zero</th>\n",
       "      <th>value</th>\n",
       "      <th>discount_pct</th>\n",
       "      <th>duration</th>\n",
       "      <th>featured</th>\n",
       "      <th>limited_quantity</th>\n",
       "      <th>you_save</th>\n",
       "      <th>Mon</th>\n",
       "      <th>Tue</th>\n",
       "      <th>Wed</th>\n",
       "      <th>Thu</th>\n",
       "      <th>Fri</th>\n",
       "      <th>Sat</th>\n",
       "      <th>Sun</th>\n",
       "      <th>num_sold</th>\n",
       "    </tr>\n",
       "  </thead>\n",
       "  <tbody>\n",
       "    <tr>\n",
       "      <th>count</th>\n",
       "      <td>12700.0</td>\n",
       "      <td>1.270000e+04</td>\n",
       "      <td>1.270000e+04</td>\n",
       "      <td>1.270000e+04</td>\n",
       "      <td>1.270000e+04</td>\n",
       "      <td>1.270000e+04</td>\n",
       "      <td>1.270000e+04</td>\n",
       "      <td>1.270000e+04</td>\n",
       "      <td>1.270000e+04</td>\n",
       "      <td>1.270000e+04</td>\n",
       "      <td>1.270000e+04</td>\n",
       "      <td>1.270000e+04</td>\n",
       "      <td>1.270000e+04</td>\n",
       "      <td>1.270000e+04</td>\n",
       "      <td>1.270000e+04</td>\n",
       "    </tr>\n",
       "    <tr>\n",
       "      <th>mean</th>\n",
       "      <td>1.0</td>\n",
       "      <td>3.356895e-18</td>\n",
       "      <td>-7.049479e-17</td>\n",
       "      <td>1.588930e-16</td>\n",
       "      <td>-1.219672e-16</td>\n",
       "      <td>-1.118965e-18</td>\n",
       "      <td>3.077154e-17</td>\n",
       "      <td>5.734695e-17</td>\n",
       "      <td>-6.489997e-17</td>\n",
       "      <td>-9.203487e-17</td>\n",
       "      <td>-7.497065e-17</td>\n",
       "      <td>-1.398706e-17</td>\n",
       "      <td>-3.720558e-17</td>\n",
       "      <td>-1.986163e-17</td>\n",
       "      <td>-3.468791e-17</td>\n",
       "    </tr>\n",
       "    <tr>\n",
       "      <th>std</th>\n",
       "      <td>0.0</td>\n",
       "      <td>1.000000e+00</td>\n",
       "      <td>1.000000e+00</td>\n",
       "      <td>1.000000e+00</td>\n",
       "      <td>1.000000e+00</td>\n",
       "      <td>1.000000e+00</td>\n",
       "      <td>1.000000e+00</td>\n",
       "      <td>1.000000e+00</td>\n",
       "      <td>1.000000e+00</td>\n",
       "      <td>1.000000e+00</td>\n",
       "      <td>1.000000e+00</td>\n",
       "      <td>1.000000e+00</td>\n",
       "      <td>1.000000e+00</td>\n",
       "      <td>1.000000e+00</td>\n",
       "      <td>1.000000e+00</td>\n",
       "    </tr>\n",
       "    <tr>\n",
       "      <th>min</th>\n",
       "      <td>1.0</td>\n",
       "      <td>-4.333059e-01</td>\n",
       "      <td>-5.603655e+00</td>\n",
       "      <td>-1.748060e+00</td>\n",
       "      <td>-5.298455e-01</td>\n",
       "      <td>-6.553643e-01</td>\n",
       "      <td>-4.334976e-01</td>\n",
       "      <td>-4.729957e-01</td>\n",
       "      <td>-4.176001e-01</td>\n",
       "      <td>-4.302664e-01</td>\n",
       "      <td>-4.251142e-01</td>\n",
       "      <td>-4.113398e-01</td>\n",
       "      <td>-3.566168e-01</td>\n",
       "      <td>-3.366638e-01</td>\n",
       "      <td>-4.112198e-01</td>\n",
       "    </tr>\n",
       "    <tr>\n",
       "      <th>25%</th>\n",
       "      <td>1.0</td>\n",
       "      <td>-3.436041e-01</td>\n",
       "      <td>-6.128686e-01</td>\n",
       "      <td>-9.483927e-01</td>\n",
       "      <td>-5.298455e-01</td>\n",
       "      <td>-6.553643e-01</td>\n",
       "      <td>-3.533795e-01</td>\n",
       "      <td>-4.729957e-01</td>\n",
       "      <td>-4.176001e-01</td>\n",
       "      <td>-4.302664e-01</td>\n",
       "      <td>-4.251142e-01</td>\n",
       "      <td>-4.113398e-01</td>\n",
       "      <td>-3.566168e-01</td>\n",
       "      <td>-3.366638e-01</td>\n",
       "      <td>-3.343791e-01</td>\n",
       "    </tr>\n",
       "    <tr>\n",
       "      <th>50%</th>\n",
       "      <td>1.0</td>\n",
       "      <td>-2.573524e-01</td>\n",
       "      <td>-5.130528e-01</td>\n",
       "      <td>-1.487255e-01</td>\n",
       "      <td>-5.298455e-01</td>\n",
       "      <td>-6.553643e-01</td>\n",
       "      <td>-2.732614e-01</td>\n",
       "      <td>-4.729957e-01</td>\n",
       "      <td>-4.176001e-01</td>\n",
       "      <td>-4.302664e-01</td>\n",
       "      <td>-4.251142e-01</td>\n",
       "      <td>-4.113398e-01</td>\n",
       "      <td>-3.566168e-01</td>\n",
       "      <td>-3.366638e-01</td>\n",
       "      <td>-2.260969e-01</td>\n",
       "    </tr>\n",
       "    <tr>\n",
       "      <th>75%</th>\n",
       "      <td>1.0</td>\n",
       "      <td>-8.947362e-03</td>\n",
       "      <td>3.852887e-01</td>\n",
       "      <td>6.509417e-01</td>\n",
       "      <td>-5.298455e-01</td>\n",
       "      <td>1.525749e+00</td>\n",
       "      <td>-3.290728e-02</td>\n",
       "      <td>-4.729957e-01</td>\n",
       "      <td>-4.176001e-01</td>\n",
       "      <td>-4.302664e-01</td>\n",
       "      <td>-4.251142e-01</td>\n",
       "      <td>-4.113398e-01</td>\n",
       "      <td>-3.566168e-01</td>\n",
       "      <td>-3.366638e-01</td>\n",
       "      <td>2.425988e-02</td>\n",
       "    </tr>\n",
       "    <tr>\n",
       "      <th>max</th>\n",
       "      <td>1.0</td>\n",
       "      <td>1.852828e+01</td>\n",
       "      <td>4.278102e+00</td>\n",
       "      <td>6.248612e+00</td>\n",
       "      <td>1.887194e+00</td>\n",
       "      <td>1.525749e+00</td>\n",
       "      <td>2.574374e+01</td>\n",
       "      <td>2.114018e+00</td>\n",
       "      <td>2.394447e+00</td>\n",
       "      <td>2.323959e+00</td>\n",
       "      <td>2.352124e+00</td>\n",
       "      <td>2.430889e+00</td>\n",
       "      <td>2.803909e+00</td>\n",
       "      <td>2.970088e+00</td>\n",
       "      <td>4.379555e+01</td>\n",
       "    </tr>\n",
       "  </tbody>\n",
       "</table>\n",
       "</div>"
      ],
      "text/plain": [
       "       beta zero         value  discount_pct      duration      featured  \\\n",
       "count    12700.0  1.270000e+04  1.270000e+04  1.270000e+04  1.270000e+04   \n",
       "mean         1.0  3.356895e-18 -7.049479e-17  1.588930e-16 -1.219672e-16   \n",
       "std          0.0  1.000000e+00  1.000000e+00  1.000000e+00  1.000000e+00   \n",
       "min          1.0 -4.333059e-01 -5.603655e+00 -1.748060e+00 -5.298455e-01   \n",
       "25%          1.0 -3.436041e-01 -6.128686e-01 -9.483927e-01 -5.298455e-01   \n",
       "50%          1.0 -2.573524e-01 -5.130528e-01 -1.487255e-01 -5.298455e-01   \n",
       "75%          1.0 -8.947362e-03  3.852887e-01  6.509417e-01 -5.298455e-01   \n",
       "max          1.0  1.852828e+01  4.278102e+00  6.248612e+00  1.887194e+00   \n",
       "\n",
       "       limited_quantity      you_save           Mon           Tue  \\\n",
       "count      1.270000e+04  1.270000e+04  1.270000e+04  1.270000e+04   \n",
       "mean      -1.118965e-18  3.077154e-17  5.734695e-17 -6.489997e-17   \n",
       "std        1.000000e+00  1.000000e+00  1.000000e+00  1.000000e+00   \n",
       "min       -6.553643e-01 -4.334976e-01 -4.729957e-01 -4.176001e-01   \n",
       "25%       -6.553643e-01 -3.533795e-01 -4.729957e-01 -4.176001e-01   \n",
       "50%       -6.553643e-01 -2.732614e-01 -4.729957e-01 -4.176001e-01   \n",
       "75%        1.525749e+00 -3.290728e-02 -4.729957e-01 -4.176001e-01   \n",
       "max        1.525749e+00  2.574374e+01  2.114018e+00  2.394447e+00   \n",
       "\n",
       "                Wed           Thu           Fri           Sat           Sun  \\\n",
       "count  1.270000e+04  1.270000e+04  1.270000e+04  1.270000e+04  1.270000e+04   \n",
       "mean  -9.203487e-17 -7.497065e-17 -1.398706e-17 -3.720558e-17 -1.986163e-17   \n",
       "std    1.000000e+00  1.000000e+00  1.000000e+00  1.000000e+00  1.000000e+00   \n",
       "min   -4.302664e-01 -4.251142e-01 -4.113398e-01 -3.566168e-01 -3.366638e-01   \n",
       "25%   -4.302664e-01 -4.251142e-01 -4.113398e-01 -3.566168e-01 -3.366638e-01   \n",
       "50%   -4.302664e-01 -4.251142e-01 -4.113398e-01 -3.566168e-01 -3.366638e-01   \n",
       "75%   -4.302664e-01 -4.251142e-01 -4.113398e-01 -3.566168e-01 -3.366638e-01   \n",
       "max    2.323959e+00  2.352124e+00  2.430889e+00  2.803909e+00  2.970088e+00   \n",
       "\n",
       "           num_sold  \n",
       "count  1.270000e+04  \n",
       "mean  -3.468791e-17  \n",
       "std    1.000000e+00  \n",
       "min   -4.112198e-01  \n",
       "25%   -3.343791e-01  \n",
       "50%   -2.260969e-01  \n",
       "75%    2.425988e-02  \n",
       "max    4.379555e+01  "
      ]
     },
     "execution_count": 622,
     "metadata": {},
     "output_type": "execute_result"
    }
   ],
   "source": [
    "train_data_norm.describe()"
   ]
  },
  {
   "cell_type": "markdown",
   "metadata": {},
   "source": [
    "Once we have multiple features, isn´t factive plot a n-D graph.\n",
    "But let´s choose two features, just to have a partial view."
   ]
  },
  {
   "cell_type": "code",
   "execution_count": 623,
   "metadata": {},
   "outputs": [
    {
     "data": {
      "text/plain": [
       "<mpl_toolkits.mplot3d.art3d.Path3DCollection at 0x1b026e90>"
      ]
     },
     "execution_count": 623,
     "metadata": {},
     "output_type": "execute_result"
    },
    {
     "data": {
      "image/png": "[encoded data removed]",
      "text/plain": [
       "<matplotlib.figure.Figure at 0x1b03f850>"
      ]
     },
     "metadata": {},
     "output_type": "display_data"
    }
   ],
   "source": [
    "ax = plt.figure(figsize=(10, 6)).gca(projection='3d')\n",
    "ax.scatter(train_data['value'], train_data['duration'], train_data['num_sold']) "
   ]
  },
  {
   "cell_type": "markdown",
   "metadata": {},
   "source": [
    "Analyzing the values we can perceive small ranges, so I will try not normalize the data before."
   ]
  },
  {
   "cell_type": "code",
   "execution_count": 628,
   "metadata": {
    "collapsed": true
   },
   "outputs": [],
   "source": [
    "cols = train_data_norm.shape[1]\n",
    "X = train_data_norm.iloc[:, 0:cols-1]\n",
    "y = train_data.iloc[:, cols-1:cols]  # the house value must not be normalized\n",
    "X = np.matrix(X.values)\n",
    "y = np.matrix(y.values)"
   ]
  },
  {
   "cell_type": "code",
   "execution_count": 629,
   "metadata": {},
   "outputs": [
    {
     "name": "stdout",
     "output_type": "stream",
     "text": [
      "First line features values: X[0, :]: [[ 1.          3.86548087 -0.61286858 -0.14872551 -0.52984551  1.52574865\n",
      "   2.90475472 -0.47299568 -0.41760007 -0.43026635  2.35212375 -0.41133982\n",
      "  -0.35661684 -0.33666382]]\n",
      "First line result: y[0]: []\n"
     ]
    }
   ],
   "source": [
    "print(\"First line features values: X[0, :]: {0}\".format(X[0, :]))\n",
    "print(\"First line result: y[0]: {0}\".format(y[0]))"
   ]
  },
  {
   "cell_type": "code",
   "execution_count": 632,
   "metadata": {},
   "outputs": [
    {
     "ename": "ValueError",
     "evalue": "could not broadcast input array from shape (0,1) into shape (1,1)",
     "output_type": "error",
     "traceback": [
      "\u001b[1;31m---------------------------------------------------------------------------\u001b[0m",
      "\u001b[1;31mValueError\u001b[0m                                Traceback (most recent call last)",
      "\u001b[1;32m<ipython-input-632-dfcc2c162761>\u001b[0m in \u001b[0;36m<module>\u001b[1;34m()\u001b[0m\n\u001b[0;32m      4\u001b[0m \u001b[0mbeta\u001b[0m\u001b[1;33m\u001b[0m\u001b[0m\n\u001b[0;32m      5\u001b[0m \u001b[1;33m\u001b[0m\u001b[0m\n\u001b[1;32m----> 6\u001b[1;33m \u001b[0mg\u001b[0m\u001b[1;33m,\u001b[0m \u001b[0mcost\u001b[0m \u001b[1;33m=\u001b[0m \u001b[0mgradient_descent\u001b[0m\u001b[1;33m(\u001b[0m\u001b[0mX\u001b[0m\u001b[1;33m,\u001b[0m \u001b[0my\u001b[0m\u001b[1;33m,\u001b[0m \u001b[0mbeta\u001b[0m\u001b[1;33m,\u001b[0m \u001b[0malpha\u001b[0m\u001b[1;33m,\u001b[0m \u001b[0miters\u001b[0m\u001b[1;33m)\u001b[0m\u001b[1;33m\u001b[0m\u001b[0m\n\u001b[0m\u001b[0;32m      7\u001b[0m \u001b[0mg\u001b[0m\u001b[1;33m\u001b[0m\u001b[0m\n",
      "\u001b[1;32m<ipython-input-185-71463a6b17ec>\u001b[0m in \u001b[0;36mgradient_descent\u001b[1;34m(X, y, theta, alpha, iters)\u001b[0m\n\u001b[0;32m     16\u001b[0m         \u001b[0mn\u001b[0m \u001b[1;33m=\u001b[0m \u001b[0mX\u001b[0m\u001b[1;33m.\u001b[0m\u001b[0mshape\u001b[0m\u001b[1;33m[\u001b[0m\u001b[1;36m0\u001b[0m\u001b[1;33m]\u001b[0m\u001b[1;33m\u001b[0m\u001b[0m\n\u001b[0;32m     17\u001b[0m         \u001b[1;32mfor\u001b[0m \u001b[0mj\u001b[0m \u001b[1;32min\u001b[0m \u001b[0mrange\u001b[0m\u001b[1;33m(\u001b[0m\u001b[0mparameters\u001b[0m\u001b[1;33m)\u001b[0m\u001b[1;33m:\u001b[0m\u001b[1;33m\u001b[0m\u001b[0m\n\u001b[1;32m---> 18\u001b[1;33m             \u001b[0mtemp\u001b[0m\u001b[1;33m[\u001b[0m\u001b[1;33m:\u001b[0m\u001b[1;33m,\u001b[0m \u001b[0mj\u001b[0m\u001b[1;33m]\u001b[0m \u001b[1;33m=\u001b[0m \u001b[1;33m(\u001b[0m\u001b[0mh\u001b[0m \u001b[1;33m-\u001b[0m \u001b[0my\u001b[0m\u001b[1;33m)\u001b[0m\u001b[1;33m.\u001b[0m\u001b[0mtranspose\u001b[0m\u001b[1;33m(\u001b[0m\u001b[1;33m)\u001b[0m \u001b[1;33m*\u001b[0m \u001b[0mX\u001b[0m\u001b[1;33m[\u001b[0m\u001b[1;33m:\u001b[0m\u001b[1;33m,\u001b[0m \u001b[0mj\u001b[0m\u001b[1;33m]\u001b[0m\u001b[1;33m\u001b[0m\u001b[0m\n\u001b[0m\u001b[0;32m     19\u001b[0m         \u001b[0mtheta\u001b[0m \u001b[1;33m-=\u001b[0m \u001b[0malpha\u001b[0m \u001b[1;33m*\u001b[0m \u001b[0mtemp\u001b[0m \u001b[1;33m/\u001b[0m \u001b[0mn\u001b[0m\u001b[1;33m\u001b[0m\u001b[0m\n\u001b[0;32m     20\u001b[0m         \u001b[0mcost\u001b[0m\u001b[1;33m[\u001b[0m\u001b[0mi\u001b[0m\u001b[1;33m]\u001b[0m \u001b[1;33m=\u001b[0m \u001b[0mcompute_cost\u001b[0m\u001b[1;33m(\u001b[0m\u001b[0mX\u001b[0m\u001b[1;33m,\u001b[0m \u001b[0my\u001b[0m\u001b[1;33m,\u001b[0m \u001b[0mtheta\u001b[0m\u001b[1;33m)\u001b[0m\u001b[1;33m\u001b[0m\u001b[0m\n",
      "\u001b[1;31mValueError\u001b[0m: could not broadcast input array from shape (0,1) into shape (1,1)"
     ]
    }
   ],
   "source": [
    "alpha = 0.01\n",
    "iters = 1500\n",
    "beta = np.matrix(np.zeros([1, X.shape[1]]))\n",
    "beta\n",
    "\n",
    "g, cost = gradient_descent(X, y, beta, alpha, iters)\n",
    "g"
   ]
  },
  {
   "cell_type": "code",
   "execution_count": 555,
   "metadata": {},
   "outputs": [
    {
     "data": {
      "image/png": "[encoded data removed]",
      "text/plain": [
       "<matplotlib.figure.Figure at 0x19fee3f0>"
      ]
     },
     "metadata": {},
     "output_type": "display_data"
    }
   ],
   "source": [
    "plot_cost_error(iters, cost)"
   ]
  },
  {
   "cell_type": "code",
   "execution_count": null,
   "metadata": {
    "collapsed": true
   },
   "outputs": [],
   "source": [
    "x13 = np.linspace(data3.Size.min(), data3.Size.max(), 100)\n",
    "x23 = np.linspace(data3.Bedrooms.min(), data3.Bedrooms.max(), 20)\n",
    "\n",
    "x12 = np.linspace(data2.Size.min(), data2.Size.max(), 100)\n",
    "x22 = np.linspace(data2.Bedrooms.min(), data2.Bedrooms.max(), 20)\n",
    "\n",
    "x13v, x23v = np.meshgrid(x13, x23)\n",
    "x12v, x22v = np.meshgrid(x12, x22)\n",
    "x13.shape, x23.shape, x13v.shape, x23v.shape"
   ]
  },
  {
   "cell_type": "code",
   "execution_count": null,
   "metadata": {
    "collapsed": true
   },
   "outputs": [],
   "source": [
    "q = \n",
    "t = \n",
    "d = \n",
    "f = \n",
    "l = \n",
    "w = \n",
    "c = \n",
    "g = "
   ]
  },
  {
   "cell_type": "code",
   "execution_count": 107,
   "metadata": {},
   "outputs": [
    {
     "ename": "NameError",
     "evalue": "name 'g' is not defined",
     "output_type": "error",
     "traceback": [
      "\u001b[1;31m---------------------------------------------------------------------------\u001b[0m",
      "\u001b[1;31mNameError\u001b[0m                                 Traceback (most recent call last)",
      "\u001b[1;32m<ipython-input-107-c4f2a8784e2c>\u001b[0m in \u001b[0;36m<module>\u001b[1;34m()\u001b[0m\n\u001b[1;32m----> 1\u001b[1;33m \u001b[0mq\u001b[0m \u001b[1;33m=\u001b[0m \u001b[0mg\u001b[0m\u001b[1;33m[\u001b[0m\u001b[1;36m0\u001b[0m\u001b[1;33m,\u001b[0m \u001b[1;36m0\u001b[0m\u001b[1;33m]\u001b[0m \u001b[1;33m+\u001b[0m \u001b[1;33m(\u001b[0m\u001b[0mg\u001b[0m\u001b[1;33m[\u001b[0m\u001b[1;36m0\u001b[0m\u001b[1;33m,\u001b[0m \u001b[1;36m1\u001b[0m\u001b[1;33m]\u001b[0m \u001b[1;33m*\u001b[0m \u001b[0mnp\u001b[0m\u001b[1;33m.\u001b[0m\u001b[0mlog\u001b[0m\u001b[1;33m(\u001b[0m\u001b[0mq\u001b[0m\u001b[1;33m)\u001b[0m\u001b[1;33m)\u001b[0m \u001b[1;33m+\u001b[0m \u001b[1;33m(\u001b[0m\u001b[0mg\u001b[0m\u001b[1;33m[\u001b[0m\u001b[1;36m0\u001b[0m\u001b[1;33m,\u001b[0m \u001b[1;36m2\u001b[0m\u001b[1;33m]\u001b[0m \u001b[1;33m*\u001b[0m \u001b[0mlog\u001b[0m\u001b[1;33m(\u001b[0m\u001b[0mt\u001b[0m\u001b[1;33m)\u001b[0m\u001b[1;33m)\u001b[0m \u001b[1;33m+\u001b[0m \u001b[1;33m(\u001b[0m\u001b[0mg\u001b[0m\u001b[1;33m[\u001b[0m\u001b[1;36m0\u001b[0m\u001b[1;33m,\u001b[0m \u001b[1;36m3\u001b[0m\u001b[1;33m]\u001b[0m \u001b[1;33m*\u001b[0m \u001b[0mlog\u001b[0m\u001b[1;33m(\u001b[0m\u001b[0md\u001b[0m\u001b[1;33m)\u001b[0m\u001b[1;33m)\u001b[0m \u001b[1;33m+\u001b[0m \u001b[1;33m(\u001b[0m\u001b[0mg\u001b[0m\u001b[1;33m[\u001b[0m\u001b[1;36m0\u001b[0m\u001b[1;33m,\u001b[0m \u001b[1;36m4\u001b[0m\u001b[1;33m]\u001b[0m \u001b[1;33m*\u001b[0m \u001b[0mf\u001b[0m\u001b[1;33m)\u001b[0m \u001b[1;33m+\u001b[0m \u001b[1;33m(\u001b[0m\u001b[0mg\u001b[0m\u001b[1;33m[\u001b[0m\u001b[1;36m0\u001b[0m\u001b[1;33m,\u001b[0m \u001b[1;36m5\u001b[0m\u001b[1;33m]\u001b[0m \u001b[1;33m*\u001b[0m \u001b[0ml\u001b[0m\u001b[1;33m)\u001b[0m \u001b[1;33m+\u001b[0m \u001b[1;33m(\u001b[0m\u001b[0mg\u001b[0m\u001b[1;33m[\u001b[0m\u001b[1;36m0\u001b[0m\u001b[1;33m,\u001b[0m \u001b[1;36m6\u001b[0m\u001b[1;33m]\u001b[0m \u001b[1;33m*\u001b[0m \u001b[0mw\u001b[0m\u001b[1;33m)\u001b[0m \u001b[1;33m+\u001b[0m \u001b[1;33m(\u001b[0m\u001b[0mg\u001b[0m\u001b[1;33m[\u001b[0m\u001b[1;36m0\u001b[0m\u001b[1;33m,\u001b[0m \u001b[1;36m7\u001b[0m\u001b[1;33m]\u001b[0m \u001b[1;33m*\u001b[0m \u001b[0mc\u001b[0m\u001b[1;33m)\u001b[0m \u001b[1;33m+\u001b[0m \u001b[1;33m(\u001b[0m\u001b[0mg\u001b[0m\u001b[1;33m[\u001b[0m\u001b[1;36m0\u001b[0m\u001b[1;33m,\u001b[0m \u001b[1;36m8\u001b[0m\u001b[1;33m]\u001b[0m \u001b[1;33m*\u001b[0m \u001b[0mg\u001b[0m\u001b[1;33m)\u001b[0m\u001b[1;33m\u001b[0m\u001b[0m\n\u001b[0m",
      "\u001b[1;31mNameError\u001b[0m: name 'g' is not defined"
     ]
    }
   ],
   "source": [
    "q = g[0, 0] + (g[0, 1] * np.log(q)) + (g[0, 2] * log(t)) + (g[0, 3] * log(d)) + (g[0, 4] * f) + (g[0, 5] * l) + (g[0, 6] * w) + (g[0, 7] * c) + (g[0, 8] * g)"
   ]
  },
  {
   "cell_type": "code",
   "execution_count": null,
   "metadata": {
    "collapsed": true
   },
   "outputs": [],
   "source": []
  }
 ],
 "metadata": {
  "kernelspec": {
   "display_name": "Python 3",
   "language": "python",
   "name": "python3"
  },
  "language_info": {
   "codemirror_mode": {
    "name": "ipython",
    "version": 3
   },
   "file_extension": ".py",
   "mimetype": "text/x-python",
   "name": "python",
   "nbconvert_exporter": "python",
   "pygments_lexer": "ipython3",
   "version": "3.6.0"
  }
 },
 "nbformat": 4,
 "nbformat_minor": 1
}
